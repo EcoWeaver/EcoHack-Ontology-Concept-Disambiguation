{
 "cells": [
  {
   "cell_type": "code",
   "execution_count": 18,
   "metadata": {},
   "outputs": [
    {
     "name": "stdout",
     "output_type": "stream",
     "text": [
      "Collecting seaborn\n",
      "  Using cached seaborn-0.13.2-py3-none-any.whl.metadata (5.4 kB)\n",
      "Requirement already satisfied: numpy!=1.24.0,>=1.20 in c:\\users\\talmu\\documents\\github\\ecohack-ontology-concept-disambiguation\\.venv\\lib\\site-packages (from seaborn) (2.2.2)\n",
      "Requirement already satisfied: pandas>=1.2 in c:\\users\\talmu\\documents\\github\\ecohack-ontology-concept-disambiguation\\.venv\\lib\\site-packages (from seaborn) (2.2.3)\n",
      "Requirement already satisfied: matplotlib!=3.6.1,>=3.4 in c:\\users\\talmu\\documents\\github\\ecohack-ontology-concept-disambiguation\\.venv\\lib\\site-packages (from seaborn) (3.10.0)\n",
      "Requirement already satisfied: contourpy>=1.0.1 in c:\\users\\talmu\\documents\\github\\ecohack-ontology-concept-disambiguation\\.venv\\lib\\site-packages (from matplotlib!=3.6.1,>=3.4->seaborn) (1.3.1)\n",
      "Requirement already satisfied: cycler>=0.10 in c:\\users\\talmu\\documents\\github\\ecohack-ontology-concept-disambiguation\\.venv\\lib\\site-packages (from matplotlib!=3.6.1,>=3.4->seaborn) (0.12.1)\n",
      "Requirement already satisfied: fonttools>=4.22.0 in c:\\users\\talmu\\documents\\github\\ecohack-ontology-concept-disambiguation\\.venv\\lib\\site-packages (from matplotlib!=3.6.1,>=3.4->seaborn) (4.55.3)\n",
      "Requirement already satisfied: kiwisolver>=1.3.1 in c:\\users\\talmu\\documents\\github\\ecohack-ontology-concept-disambiguation\\.venv\\lib\\site-packages (from matplotlib!=3.6.1,>=3.4->seaborn) (1.4.8)\n",
      "Requirement already satisfied: packaging>=20.0 in c:\\users\\talmu\\documents\\github\\ecohack-ontology-concept-disambiguation\\.venv\\lib\\site-packages (from matplotlib!=3.6.1,>=3.4->seaborn) (24.2)\n",
      "Requirement already satisfied: pillow>=8 in c:\\users\\talmu\\documents\\github\\ecohack-ontology-concept-disambiguation\\.venv\\lib\\site-packages (from matplotlib!=3.6.1,>=3.4->seaborn) (11.1.0)\n",
      "Requirement already satisfied: pyparsing>=2.3.1 in c:\\users\\talmu\\documents\\github\\ecohack-ontology-concept-disambiguation\\.venv\\lib\\site-packages (from matplotlib!=3.6.1,>=3.4->seaborn) (3.2.1)\n",
      "Requirement already satisfied: python-dateutil>=2.7 in c:\\users\\talmu\\documents\\github\\ecohack-ontology-concept-disambiguation\\.venv\\lib\\site-packages (from matplotlib!=3.6.1,>=3.4->seaborn) (2.9.0.post0)\n",
      "Requirement already satisfied: pytz>=2020.1 in c:\\users\\talmu\\documents\\github\\ecohack-ontology-concept-disambiguation\\.venv\\lib\\site-packages (from pandas>=1.2->seaborn) (2024.2)\n",
      "Requirement already satisfied: tzdata>=2022.7 in c:\\users\\talmu\\documents\\github\\ecohack-ontology-concept-disambiguation\\.venv\\lib\\site-packages (from pandas>=1.2->seaborn) (2024.2)\n",
      "Requirement already satisfied: six>=1.5 in c:\\users\\talmu\\documents\\github\\ecohack-ontology-concept-disambiguation\\.venv\\lib\\site-packages (from python-dateutil>=2.7->matplotlib!=3.6.1,>=3.4->seaborn) (1.17.0)\n",
      "Using cached seaborn-0.13.2-py3-none-any.whl (294 kB)\n",
      "Installing collected packages: seaborn\n",
      "Successfully installed seaborn-0.13.2\n"
     ]
    }
   ],
   "source": [
    "#!pip install sentence-transformers\n",
    "#!pip install matplotlib\n",
    "#!pip install pandas\n",
    "#!pip install plotly\n",
    "#!pip install nbformat\n",
    "#!pip install seaborn\n"
   ]
  },
  {
   "cell_type": "code",
   "execution_count": 7,
   "metadata": {},
   "outputs": [],
   "source": [
    "import pandas as pd\n",
    "\n",
    "# Load the CSV file\n",
    "file_path = \"INBIOV2 direct parent.csv\"\n",
    "data = pd.read_csv(file_path)\n",
    "\n",
    "# Fill missing parent definitions with parent comments\n",
    "data['parentDefinition'] = data['parentDefinition'].fillna(data['parentComment'])\n",
    "\n",
    "# Combine concept definitions with parent information\n",
    "def combine_definition(row):\n",
    "    concept_definition = row['classDefinition'] if pd.notna(row['classDefinition']) else row['classComment']\n",
    "    parent_info = f\" Parent concept: {row['parentLabel']}. Parent definition: {row['parentDefinition']}.\"\n",
    "    return f\"{concept_definition}{parent_info}\"\n",
    "\n",
    "data['combinedDefinition'] = data.apply(combine_definition, axis=1)"
   ]
  },
  {
   "cell_type": "code",
   "execution_count": 8,
   "metadata": {},
   "outputs": [],
   "source": [
    "from sentence_transformers import SentenceTransformer\n",
    "\n",
    "# Load the embedding model\n",
    "model = SentenceTransformer('sentence-transformers/all-MiniLM-L6-v2')\n",
    "\n",
    "# Generate embeddings for each concept using combined definitions\n",
    "embeddings = {}\n",
    "for _, row in data.iterrows():\n",
    "    concept = row['classLabel']\n",
    "    combined_definition = row['combinedDefinition']\n",
    "    embedding = model.encode(combined_definition)\n",
    "    embeddings[concept] = embedding\n"
   ]
  },
  {
   "cell_type": "code",
   "execution_count": 9,
   "metadata": {},
   "outputs": [
    {
     "name": "stdout",
     "output_type": "stream",
     "text": [
      "Refined embeddings saved to refined_ontology_embeddings.pkl\n"
     ]
    }
   ],
   "source": [
    "import pickle\n",
    "\n",
    "output_file = \"refined_ontology_embeddings.pkl\"\n",
    "with open(output_file, \"wb\") as f:\n",
    "    pickle.dump(embeddings, f)\n",
    "\n",
    "print(f\"Refined embeddings saved to {output_file}\")\n",
    "\n"
   ]
  },
  {
   "cell_type": "code",
   "execution_count": 12,
   "metadata": {},
   "outputs": [
    {
     "data": {
      "application/vnd.plotly.v1+json": {
       "config": {
        "plotlyServerURL": "https://plot.ly"
       },
       "data": [
        {
         "hovertemplate": "parent=environmental condition<br>Dimension 1=%{x}<br>Dimension 2=%{y}<br>concept=%{text}<extra></extra>",
         "legendgroup": "environmental condition",
         "marker": {
          "color": "#636efa",
          "size": 8,
          "symbol": "circle"
         },
         "mode": "markers+text",
         "name": "environmental condition",
         "orientation": "v",
         "showlegend": true,
         "text": [
          "average annual precipitation",
          "precipitation",
          "rainfall",
          "pathways of species introduction",
          "fire frequency",
          "fire incidence",
          "mean annual temperature",
          "temperature",
          "pH",
          "humidity",
          "nutrient content"
         ],
         "textposition": "top center",
         "type": "scatter",
         "x": [
          14.708283424377441,
          14.412262916564941,
          15.11672592163086,
          15.452768325805664,
          17.419086456298828,
          16.14319610595703,
          18.386838912963867,
          18.386838912963867,
          -14.84644603729248,
          15.229532241821289,
          14.048720359802246
         ],
         "xaxis": "x",
         "y": [
          -2.944706678390503,
          -2.342895030975342,
          -2.4375829696655273,
          3.1394870281219482,
          2.0334465503692627,
          1.8460350036621094,
          -1.5248937606811523,
          -1.5248937606811523,
          -4.8061442375183105,
          -0.5071104168891907,
          0.40718865394592285
         ],
         "yaxis": "y"
        },
        {
         "hovertemplate": "parent=taxon<br>Dimension 1=%{x}<br>Dimension 2=%{y}<br>concept=%{text}<extra></extra>",
         "legendgroup": "taxon",
         "marker": {
          "color": "#EF553B",
          "size": 8,
          "symbol": "circle"
         },
         "mode": "markers+text",
         "name": "taxon",
         "orientation": "v",
         "showlegend": true,
         "text": [
          "species",
          "viruses",
          "bacteria",
          "archaea",
          "eukaryota",
          "protozoa",
          "algae"
         ],
         "textposition": "top center",
         "type": "scatter",
         "x": [
          30.70458984375,
          -22.959104537963867,
          -23.962661743164062,
          -23.187623977661133,
          -22.199769973754883,
          -23.636388778686523,
          -22.089982986450195
         ],
         "xaxis": "x",
         "y": [
          20.500852584838867,
          20.623735427856445,
          20.234291076660156,
          19.545738220214844,
          19.86678123474121,
          21.242645263671875,
          20.924182891845703
         ],
         "yaxis": "y"
        },
        {
         "hovertemplate": "parent=conceptual entity<br>Dimension 1=%{x}<br>Dimension 2=%{y}<br>concept=%{text}<extra></extra>",
         "legendgroup": "conceptual entity",
         "marker": {
          "color": "#00cc96",
          "size": 8,
          "symbol": "circle"
         },
         "mode": "markers+text",
         "name": "conceptual entity",
         "orientation": "v",
         "showlegend": true,
         "text": [
          "area",
          "status",
          "system",
          "invasion phase",
          "invasion success",
          "propagule pressure",
          "estimate",
          "event",
          "native species",
          "range",
          "impact",
          "phenotype",
          "phenotype",
          "place",
          "place",
          "benefit",
          "taxon",
          "origin",
          "zone",
          "zone",
          "site",
          "trait"
         ],
         "textposition": "top center",
         "type": "scatter",
         "x": [
          -22.06377601623535,
          -34.14234161376953,
          -31.51073455810547,
          -14.750316619873047,
          -15.587579727172852,
          -33.332828521728516,
          -36.35239791870117,
          -33.65285110473633,
          -26.925127029418945,
          -26.38951873779297,
          -32.33107376098633,
          -30.692081451416016,
          -30.896835327148438,
          -27.40546989440918,
          -27.304351806640625,
          -31.727466583251953,
          -22.61800765991211,
          -28.199241638183594,
          -25.44974708557129,
          -37.11433792114258,
          -36.35234832763672,
          -31.18168830871582
         ],
         "xaxis": "x",
         "y": [
          0.007791845127940178,
          -2.469961166381836,
          -7.283041000366211,
          14.953949928283691,
          14.45673942565918,
          -6.348672866821289,
          1.011936068534851,
          -1.8066468238830566,
          2.152946949005127,
          2.0940871238708496,
          -3.3363993167877197,
          1.5096888542175293,
          2.592888593673706,
          -3.2479591369628906,
          -1.3761578798294067,
          -3.4814887046813965,
          22.274703979492188,
          0.5140535235404968,
          -1.744754433631897,
          -0.6025248765945435,
          1.0119154453277588,
          0.045933615416288376
         ],
         "yaxis": "y"
        },
        {
         "hovertemplate": "parent=species<br>Dimension 1=%{x}<br>Dimension 2=%{y}<br>concept=%{text}<extra></extra>",
         "legendgroup": "species",
         "marker": {
          "color": "#ab63fa",
          "size": 8,
          "symbol": "circle"
         },
         "mode": "markers+text",
         "name": "species",
         "orientation": "v",
         "showlegend": true,
         "text": [
          "population",
          "alien species",
          "detritivore"
         ],
         "textposition": "top center",
         "type": "scatter",
         "x": [
          28.40859031677246,
          28.94540786743164,
          30.214447021484375
         ],
         "xaxis": "x",
         "y": [
          21.02188491821289,
          22.013416290283203,
          27.813690185546875
         ],
         "yaxis": "y"
        },
        {
         "hovertemplate": "parent=life history trait<br>Dimension 1=%{x}<br>Dimension 2=%{y}<br>concept=%{text}<extra></extra>",
         "legendgroup": "life history trait",
         "marker": {
          "color": "#FFA15A",
          "size": 8,
          "symbol": "circle"
         },
         "mode": "markers+text",
         "name": "life history trait",
         "orientation": "v",
         "showlegend": true,
         "text": [
          "growth",
          "growth rate",
          "death rate",
          "mortality",
          "mortality rate",
          "birth rate",
          "recruitment",
          "recruitment rate",
          "longevity",
          "generation length"
         ],
         "textposition": "top center",
         "type": "scatter",
         "x": [
          -37.29964828491211,
          -37.29964828491211,
          -39.0355339050293,
          -39.0355339050293,
          -39.0355339050293,
          -35.23858642578125,
          -35.83913040161133,
          -35.83913040161133,
          -37.880680084228516,
          -37.44364929199219
         ],
         "xaxis": "x",
         "y": [
          -9.385052680969238,
          -9.385052680969238,
          -10.548568725585938,
          -10.548568725585938,
          -10.548568725585938,
          -11.816784858703613,
          -10.535029411315918,
          -10.535029411315918,
          -12.5569486618042,
          -11.28396224975586
         ],
         "yaxis": "y"
        },
        {
         "hovertemplate": "parent=quantity<br>Dimension 1=%{x}<br>Dimension 2=%{y}<br>concept=%{text}<extra></extra>",
         "legendgroup": "quantity",
         "marker": {
          "color": "#19d3f3",
          "size": 8,
          "symbol": "circle"
         },
         "mode": "markers+text",
         "name": "quantity",
         "orientation": "v",
         "showlegend": true,
         "text": [
          "total number",
          "total number"
         ],
         "textposition": "top center",
         "type": "scatter",
         "x": [
          32.716552734375,
          32.69878005981445
         ],
         "xaxis": "x",
         "y": [
          -1.6558512449264526,
          -1.6459672451019287
         ],
         "yaxis": "y"
        },
        {
         "hovertemplate": "parent=environmental system<br>Dimension 1=%{x}<br>Dimension 2=%{y}<br>concept=%{text}<extra></extra>",
         "legendgroup": "environmental system",
         "marker": {
          "color": "#FF6692",
          "size": 8,
          "symbol": "circle"
         },
         "mode": "markers+text",
         "name": "environmental system",
         "orientation": "v",
         "showlegend": true,
         "text": [
          "habitat",
          "ecosystem",
          "natural environment",
          "biosphere",
          "biosphere",
          "endolithic environment",
          "marine environment",
          "cold environment",
          "anthropogenic environment",
          "environmental system determined by a quality",
          "aquatic environment",
          "environmental system determined by a material",
          "saline environment",
          "soil environment",
          "sediment environment",
          "anatomical entity environment"
         ],
         "textposition": "top center",
         "type": "scatter",
         "x": [
          11.509452819824219,
          12.453912734985352,
          11.065034866333008,
          3.7038207054138184,
          4.136322498321533,
          -4.232815742492676,
          13.845346450805664,
          13.608229637145996,
          15.243660926818848,
          12.096672058105469,
          9.732693672180176,
          12.527454376220703,
          12.202840805053711,
          11.121203422546387,
          10.058969497680664,
          13.660279273986816
         ],
         "xaxis": "x",
         "y": [
          9.102439880371094,
          9.76739501953125,
          10.222846031188965,
          11.747123718261719,
          11.713279724121094,
          9.258749961853027,
          8.608391761779785,
          6.686973571777344,
          13.469207763671875,
          7.513504505157471,
          9.351537704467773,
          8.40005874633789,
          5.606334686279297,
          7.818053245544434,
          7.659405708312988,
          10.265780448913574
         ],
         "yaxis": "y"
        },
        {
         "hovertemplate": "parent=independent continuant<br>Dimension 1=%{x}<br>Dimension 2=%{y}<br>concept=%{text}<extra></extra>",
         "legendgroup": "independent continuant",
         "marker": {
          "color": "#FF97FF",
          "size": 8,
          "symbol": "circle"
         },
         "mode": "markers+text",
         "name": "independent continuant",
         "orientation": "v",
         "showlegend": true,
         "text": [
          "material entity",
          "material entity",
          "material entity",
          "material entity",
          "material entity",
          "material entity",
          "material entity",
          "material entity",
          "material entity",
          "material entity",
          "material entity",
          "material entity"
         ],
         "textposition": "top center",
         "type": "scatter",
         "x": [
          26.333152770996094,
          26.98082160949707,
          26.723506927490234,
          36.62171173095703,
          35.214420318603516,
          34.96601486206055,
          28.395227432250977,
          28.520761489868164,
          29.82608413696289,
          29.12508201599121,
          28.519865036010742,
          29.823244094848633
         ],
         "xaxis": "x",
         "y": [
          -24.339876174926758,
          -25.373863220214844,
          -26.317523956298828,
          -24.44138526916504,
          -24.57487678527832,
          -25.30873680114746,
          -24.191856384277344,
          -25.880802154541016,
          -25.745027542114258,
          -24.289169311523438,
          -26.786745071411133,
          -26.660947799682617
         ],
         "yaxis": "y"
        },
        {
         "hovertemplate": "parent=continuant<br>Dimension 1=%{x}<br>Dimension 2=%{y}<br>concept=%{text}<extra></extra>",
         "legendgroup": "continuant",
         "marker": {
          "color": "#FECB52",
          "size": 8,
          "symbol": "circle"
         },
         "mode": "markers+text",
         "name": "continuant",
         "orientation": "v",
         "showlegend": true,
         "text": [
          "independent continuant",
          "independent continuant",
          "independent continuant",
          "independent continuant",
          "independent continuant",
          "independent continuant",
          "independent continuant",
          "independent continuant",
          "independent continuant",
          "independent continuant",
          "independent continuant",
          "independent continuant",
          "independent continuant",
          "independent continuant",
          "independent continuant",
          "specifically dependent continuant",
          "specifically dependent continuant",
          "specifically dependent continuant",
          "specifically dependent continuant",
          "specifically dependent continuant",
          "generically dependent continuant",
          "generically dependent continuant",
          "generically dependent continuant",
          "generically dependent continuant",
          "generically dependent continuant"
         ],
         "textposition": "top center",
         "type": "scatter",
         "x": [
          40.45742416381836,
          40.893272399902344,
          40.60107421875,
          40.03389358520508,
          39.1600341796875,
          34.95134353637695,
          34.23671340942383,
          33.53431701660156,
          34.340484619140625,
          32.7757568359375,
          34.6031608581543,
          33.82652282714844,
          32.848697662353516,
          33.393802642822266,
          32.14183807373047,
          39.142276763916016,
          39.60771942138672,
          38.51606369018555,
          38.12581253051758,
          37.85696792602539,
          37.82987976074219,
          38.22541427612305,
          36.40562057495117,
          36.78457260131836,
          36.603538513183594
         ],
         "xaxis": "x",
         "y": [
          -27.291059494018555,
          -26.39928436279297,
          -28.453353881835938,
          -29.271310806274414,
          -28.139331817626953,
          -30.92034149169922,
          -30.338804244995117,
          -31.80341911315918,
          -32.163719177246094,
          -30.684825897216797,
          -27.992406845092773,
          -27.27582550048828,
          -27.688770294189453,
          -28.609281539916992,
          -28.714303970336914,
          -26.985214233398438,
          -25.902618408203125,
          -29.73016357421875,
          -30.530305862426758,
          -28.33365821838379,
          -26.862775802612305,
          -25.791948318481445,
          -28.694944381713867,
          -29.577985763549805,
          -27.511611938476562
         ],
         "yaxis": "y"
        },
        {
         "hovertemplate": "parent=geographical entity<br>Dimension 1=%{x}<br>Dimension 2=%{y}<br>concept=%{text}<extra></extra>",
         "legendgroup": "geographical entity",
         "marker": {
          "color": "#636efa",
          "size": 8,
          "symbol": "circle"
         },
         "mode": "markers+text",
         "name": "geographical entity",
         "orientation": "v",
         "showlegend": true,
         "text": [
          "region",
          "species distribution",
          "Geographic Area"
         ],
         "textposition": "top center",
         "type": "scatter",
         "x": [
          24.738229751586914,
          13.042341232299805,
          -24.678682327270508
         ],
         "xaxis": "x",
         "y": [
          -18.831846237182617,
          30.74307632446289,
          -0.28511688113212585
         ],
         "yaxis": "y"
        },
        {
         "hovertemplate": "parent=information content entity<br>Dimension 1=%{x}<br>Dimension 2=%{y}<br>concept=%{text}<extra></extra>",
         "legendgroup": "information content entity",
         "marker": {
          "color": "#EF553B",
          "size": 8,
          "symbol": "circle"
         },
         "mode": "markers+text",
         "name": "information content entity",
         "orientation": "v",
         "showlegend": true,
         "text": [
          "value specification",
          "geodetic datum",
          "data item label",
          "data item"
         ],
         "textposition": "top center",
         "type": "scatter",
         "x": [
          -47.72751998901367,
          -45.306636810302734,
          -47.72751998901367,
          -47.72751998901367
         ],
         "xaxis": "x",
         "y": [
          -4.272332191467285,
          -17.894271850585938,
          -4.272332191467285,
          -4.272332191467285
         ],
         "yaxis": "y"
        },
        {
         "hovertemplate": "parent=data item label<br>Dimension 1=%{x}<br>Dimension 2=%{y}<br>concept=%{text}<extra></extra>",
         "legendgroup": "data item label",
         "marker": {
          "color": "#00cc96",
          "size": 8,
          "symbol": "circle"
         },
         "mode": "markers+text",
         "name": "data item label",
         "orientation": "v",
         "showlegend": true,
         "text": [
          "measurement unit label"
         ],
         "textposition": "top center",
         "type": "scatter",
         "x": [
          -44.54374694824219
         ],
         "xaxis": "x",
         "y": [
          -2.9927427768707275
         ],
         "yaxis": "y"
        },
        {
         "hovertemplate": "parent=specifically dependent continuant<br>Dimension 1=%{x}<br>Dimension 2=%{y}<br>concept=%{text}<extra></extra>",
         "legendgroup": "specifically dependent continuant",
         "marker": {
          "color": "#ab63fa",
          "size": 8,
          "symbol": "circle"
         },
         "mode": "markers+text",
         "name": "specifically dependent continuant",
         "orientation": "v",
         "showlegend": true,
         "text": [
          "quality"
         ],
         "textposition": "top center",
         "type": "scatter",
         "x": [
          38.65346145629883
         ],
         "xaxis": "x",
         "y": [
          -24.183712005615234
         ],
         "yaxis": "y"
        },
        {
         "hovertemplate": "parent=diversity<br>Dimension 1=%{x}<br>Dimension 2=%{y}<br>concept=%{text}<extra></extra>",
         "legendgroup": "diversity",
         "marker": {
          "color": "#FFA15A",
          "size": 8,
          "symbol": "circle"
         },
         "mode": "markers+text",
         "name": "diversity",
         "orientation": "v",
         "showlegend": true,
         "text": [
          "biodiversity",
          "biological diversity"
         ],
         "textposition": "top center",
         "type": "scatter",
         "x": [
          3.5976152420043945,
          3.5976152420043945
         ],
         "xaxis": "x",
         "y": [
          28.277721405029297,
          28.277721405029297
         ],
         "yaxis": "y"
        },
        {
         "hovertemplate": "parent=organism characteristic<br>Dimension 1=%{x}<br>Dimension 2=%{y}<br>concept=%{text}<extra></extra>",
         "legendgroup": "organism characteristic",
         "marker": {
          "color": "#19d3f3",
          "size": 8,
          "symbol": "circle"
         },
         "mode": "markers+text",
         "name": "organism characteristic",
         "orientation": "v",
         "showlegend": true,
         "text": [
          "phenotypic plasticity"
         ],
         "textposition": "top center",
         "type": "scatter",
         "x": [
          35.62369918823242
         ],
         "xaxis": "x",
         "y": [
          12.762413024902344
         ],
         "yaxis": "y"
        },
        {
         "hovertemplate": "parent=alien species<br>Dimension 1=%{x}<br>Dimension 2=%{y}<br>concept=%{text}<extra></extra>",
         "legendgroup": "alien species",
         "marker": {
          "color": "#FF6692",
          "size": 8,
          "symbol": "circle"
         },
         "mode": "markers+text",
         "name": "alien species",
         "orientation": "v",
         "showlegend": true,
         "text": [
          "invasive species",
          "non-invasive species"
         ],
         "textposition": "top center",
         "type": "scatter",
         "x": [
          27.999706268310547,
          27.136737823486328
         ],
         "xaxis": "x",
         "y": [
          23.67414093017578,
          24.308820724487305
         ],
         "yaxis": "y"
        },
        {
         "hovertemplate": "parent=compound property<br>Dimension 1=%{x}<br>Dimension 2=%{y}<br>concept=%{text}<extra></extra>",
         "legendgroup": "compound property",
         "marker": {
          "color": "#B6E880",
          "size": 8,
          "symbol": "circle"
         },
         "mode": "markers+text",
         "name": "compound property",
         "orientation": "v",
         "showlegend": true,
         "text": [
          "defense",
          "defense",
          "strength"
         ],
         "textposition": "top center",
         "type": "scatter",
         "x": [
          40.589927673339844,
          41.36082077026367,
          40.97254180908203
         ],
         "xaxis": "x",
         "y": [
          12.735498428344727,
          13.40768814086914,
          11.555628776550293
         ],
         "yaxis": "y"
        },
        {
         "hovertemplate": "parent=ecological measure<br>Dimension 1=%{x}<br>Dimension 2=%{y}<br>concept=%{text}<extra></extra>",
         "legendgroup": "ecological measure",
         "marker": {
          "color": "#FF97FF",
          "size": 8,
          "symbol": "circle"
         },
         "mode": "markers+text",
         "name": "ecological measure",
         "orientation": "v",
         "showlegend": true,
         "text": [
          "diversity index",
          "species survival"
         ],
         "textposition": "top center",
         "type": "scatter",
         "x": [
          -1.9833396673202515,
          11.77859115600586
         ],
         "xaxis": "x",
         "y": [
          26.924346923828125,
          28.80521011352539
         ],
         "yaxis": "y"
        },
        {
         "hovertemplate": "parent=trait<br>Dimension 1=%{x}<br>Dimension 2=%{y}<br>concept=%{text}<extra></extra>",
         "legendgroup": "trait",
         "marker": {
          "color": "#FECB52",
          "size": 8,
          "symbol": "circle"
         },
         "mode": "markers+text",
         "name": "trait",
         "orientation": "v",
         "showlegend": true,
         "text": [
          "species trait",
          "environmental condition",
          "ecosystem property",
          "life history trait",
          "organism characteristic",
          "population group characteristic",
          "morphological feature",
          "functional trait",
          "compound property",
          "genetic characteristic"
         ],
         "textposition": "top center",
         "type": "scatter",
         "x": [
          37.99031066894531,
          15.233118057250977,
          36.39776611328125,
          -31.738372802734375,
          38.51888656616211,
          38.06026840209961,
          37.44552993774414,
          37.396514892578125,
          39.18048858642578,
          38.537086486816406
         ],
         "xaxis": "x",
         "y": [
          11.719889640808105,
          1.1447794437408447,
          9.898842811584473,
          0.5763065814971924,
          10.792671203613281,
          9.947887420654297,
          10.956985473632812,
          8.884891510009766,
          9.837921142578125,
          8.854191780090332
         ],
         "yaxis": "y"
        },
        {
         "hovertemplate": "parent=biological process<br>Dimension 1=%{x}<br>Dimension 2=%{y}<br>concept=%{text}<extra></extra>",
         "legendgroup": "biological process",
         "marker": {
          "color": "#636efa",
          "size": 8,
          "symbol": "circle"
         },
         "mode": "markers+text",
         "name": "biological process",
         "orientation": "v",
         "showlegend": true,
         "text": [
          "reproduction",
          "growth",
          "population dynamics",
          "insight into dispersal mechanisms",
          "ecosystem process",
          "host organism interaction"
         ],
         "textposition": "top center",
         "type": "scatter",
         "x": [
          24.0340518951416,
          23.104591369628906,
          17.58272361755371,
          17.16472816467285,
          21.85843849182129,
          23.452993392944336
         ],
         "xaxis": "x",
         "y": [
          13.697071075439453,
          13.583029747009277,
          32.88421630859375,
          33.47528839111328,
          13.539892196655273,
          14.741291046142578
         ],
         "yaxis": "y"
        },
        {
         "hovertemplate": "parent=material entity<br>Dimension 1=%{x}<br>Dimension 2=%{y}<br>concept=%{text}<extra></extra>",
         "legendgroup": "material entity",
         "marker": {
          "color": "#EF553B",
          "size": 8,
          "symbol": "circle"
         },
         "mode": "markers+text",
         "name": "material entity",
         "orientation": "v",
         "showlegend": true,
         "text": [
          "resource",
          "resource",
          "resource",
          "resource",
          "geographical entity",
          "geographical entity",
          "geographical entity",
          "geographical entity",
          "organism",
          "organism",
          "organism",
          "organism",
          "geographic feature",
          "geographic feature",
          "geographic feature",
          "geographic feature",
          "collection of organisms",
          "collection of organisms",
          "collection of organisms",
          "collection of organisms",
          "collection of organisms",
          "collection of organisms",
          "collection of organisms",
          "collection of organisms",
          "environmental feature",
          "environmental feature",
          "environmental feature",
          "environmental feature"
         ],
         "textposition": "top center",
         "type": "scatter",
         "x": [
          13.291765213012695,
          12.928057670593262,
          13.91788101196289,
          14.08094310760498,
          24.208717346191406,
          24.724876403808594,
          25.21513557434082,
          24.428348541259766,
          18.55901527404785,
          17.668289184570312,
          19.20408058166504,
          18.43244171142578,
          -29.742881774902344,
          -29.63875389099121,
          -30.0313777923584,
          -29.592103958129883,
          20.917463302612305,
          21.23183250427246,
          22.36395263671875,
          22.082887649536133,
          20.917463302612305,
          21.81771469116211,
          23.14012908935547,
          22.845151901245117,
          21.125455856323242,
          20.50138282775879,
          21.70442008972168,
          21.93767738342285
         ],
         "xaxis": "x",
         "y": [
          -28.983116149902344,
          -29.97892951965332,
          -30.066320419311523,
          -29.35441780090332,
          -22.804105758666992,
          -20.710407257080078,
          -21.951547622680664,
          -21.736053466796875,
          -25.46965980529785,
          -25.046945571899414,
          -24.7005615234375,
          -24.22821617126465,
          -9.67074203491211,
          -8.629057884216309,
          -10.708844184875488,
          -10.578378677368164,
          -26.31169319152832,
          -27.828746795654297,
          -25.89640235900879,
          -27.07478141784668,
          -26.31169319152832,
          -28.707950592041016,
          -26.73137664794922,
          -27.88266372680664,
          -22.717308044433594,
          -21.891036987304688,
          -21.439979553222656,
          -22.031536102294922
         ],
         "yaxis": "y"
        },
        {
         "hovertemplate": "parent=process<br>Dimension 1=%{x}<br>Dimension 2=%{y}<br>concept=%{text}<extra></extra>",
         "legendgroup": "process",
         "marker": {
          "color": "#00cc96",
          "size": 8,
          "symbol": "circle"
         },
         "mode": "markers+text",
         "name": "process",
         "orientation": "v",
         "showlegend": true,
         "text": [
          "change",
          "change",
          "community dynamics",
          "community dynamics",
          "invasion",
          "invasion",
          "human activity",
          "human activity",
          "involvement",
          "involvement",
          "allocation",
          "allocation"
         ],
         "textposition": "top center",
         "type": "scatter",
         "x": [
          -24.88385009765625,
          -24.63690757751465,
          21.97983741760254,
          21.94453239440918,
          23.82784080505371,
          24.30824089050293,
          22.700578689575195,
          23.12464141845703,
          -24.283872604370117,
          -25.178295135498047,
          25.636072158813477,
          25.961257934570312
         ],
         "xaxis": "x",
         "y": [
          -11.137402534484863,
          -9.739411354064941,
          21.417823791503906,
          21.693578720092773,
          11.531213760375977,
          10.839727401733398,
          9.837492942810059,
          9.436907768249512,
          -10.927167892456055,
          -9.923147201538086,
          11.366047859191895,
          10.717184066772461
         ],
         "yaxis": "y"
        },
        {
         "hovertemplate": "parent=role<br>Dimension 1=%{x}<br>Dimension 2=%{y}<br>concept=%{text}<extra></extra>",
         "legendgroup": "role",
         "marker": {
          "color": "#ab63fa",
          "size": 8,
          "symbol": "circle"
         },
         "mode": "markers+text",
         "name": "role",
         "orientation": "v",
         "showlegend": true,
         "text": [
          "enemy"
         ],
         "textposition": "top center",
         "type": "scatter",
         "x": [
          33.25638961791992
         ],
         "xaxis": "x",
         "y": [
          24.19731903076172
         ],
         "yaxis": "y"
        },
        {
         "hovertemplate": "parent=estimate<br>Dimension 1=%{x}<br>Dimension 2=%{y}<br>concept=%{text}<extra></extra>",
         "legendgroup": "estimate",
         "marker": {
          "color": "#FFA15A",
          "size": 8,
          "symbol": "circle"
         },
         "mode": "markers+text",
         "name": "estimate",
         "orientation": "v",
         "showlegend": true,
         "text": [
          "invasion rate",
          "ecological measure",
          "difference",
          "quantity",
          "increment"
         ],
         "textposition": "top center",
         "type": "scatter",
         "x": [
          13.405560493469238,
          -3.174058437347412,
          -40.13392639160156,
          -41.74429702758789,
          -41.49661636352539
         ],
         "xaxis": "x",
         "y": [
          32.9739875793457,
          26.31578254699707,
          -7.429886817932129,
          -5.864207744598389,
          -6.196476936340332
         ],
         "yaxis": "y"
        },
        {
         "hovertemplate": "parent=generalist<br>Dimension 1=%{x}<br>Dimension 2=%{y}<br>concept=%{text}<extra></extra>",
         "legendgroup": "generalist",
         "marker": {
          "color": "#19d3f3",
          "size": 8,
          "symbol": "circle"
         },
         "mode": "markers+text",
         "name": "generalist",
         "orientation": "v",
         "showlegend": true,
         "text": [
          "generalist herbivore"
         ],
         "textposition": "top center",
         "type": "scatter",
         "x": [
          29.496274948120117
         ],
         "xaxis": "x",
         "y": [
          28.668209075927734
         ],
         "yaxis": "y"
        },
        {
         "hovertemplate": "parent=ecological impact<br>Dimension 1=%{x}<br>Dimension 2=%{y}<br>concept=%{text}<extra></extra>",
         "legendgroup": "ecological impact",
         "marker": {
          "color": "#FF6692",
          "size": 8,
          "symbol": "circle"
         },
         "mode": "markers+text",
         "name": "ecological impact",
         "orientation": "v",
         "showlegend": true,
         "text": [
          "ecosystem dynamics",
          "ecological disruption",
          "native species decline",
          "species interactions",
          "the impacts on native ecosystems"
         ],
         "textposition": "top center",
         "type": "scatter",
         "x": [
          13.954858779907227,
          14.198986053466797,
          13.788975715637207,
          14.930317878723145,
          13.77336597442627
         ],
         "xaxis": "x",
         "y": [
          23.732717514038086,
          24.842878341674805,
          27.185590744018555,
          28.26352310180664,
          26.042448043823242
         ],
         "yaxis": "y"
        },
        {
         "hovertemplate": "parent=invasive species<br>Dimension 1=%{x}<br>Dimension 2=%{y}<br>concept=%{text}<extra></extra>",
         "legendgroup": "invasive species",
         "marker": {
          "color": "#B6E880",
          "size": 8,
          "symbol": "circle"
         },
         "mode": "markers+text",
         "name": "invasive species",
         "orientation": "v",
         "showlegend": true,
         "text": [
          "invasive weed",
          "biotic acceptance",
          "invasive plant"
         ],
         "textposition": "top center",
         "type": "scatter",
         "x": [
          20.161943435668945,
          18.015378952026367,
          19.877161026000977
         ],
         "xaxis": "x",
         "y": [
          31.465450286865234,
          28.82259750366211,
          31.131397247314453
         ],
         "yaxis": "y"
        },
        {
         "hovertemplate": "parent=vegetated area<br>Dimension 1=%{x}<br>Dimension 2=%{y}<br>concept=%{text}<extra></extra>",
         "legendgroup": "vegetated area",
         "marker": {
          "color": "#FF97FF",
          "size": 8,
          "symbol": "circle"
         },
         "mode": "markers+text",
         "name": "vegetated area",
         "orientation": "v",
         "showlegend": true,
         "text": [
          "native vegetation",
          "wetland area"
         ],
         "textposition": "top center",
         "type": "scatter",
         "x": [
          0.9238438010215759,
          0.29221394658088684
         ],
         "xaxis": "x",
         "y": [
          17.726604461669922,
          16.99113655090332
         ],
         "yaxis": "y"
        },
        {
         "hovertemplate": "parent=community dynamics<br>Dimension 1=%{x}<br>Dimension 2=%{y}<br>concept=%{text}<extra></extra>",
         "legendgroup": "community dynamics",
         "marker": {
          "color": "#FECB52",
          "size": 8,
          "symbol": "circle"
         },
         "mode": "markers+text",
         "name": "community dynamics",
         "orientation": "v",
         "showlegend": true,
         "text": [
          "biotic acceptance",
          "mutualistic interaction",
          "species coexistence",
          "community resilience"
         ],
         "textposition": "top center",
         "type": "scatter",
         "x": [
          18.22210121154785,
          22.346494674682617,
          20.22478675842285,
          22.865829467773438
         ],
         "xaxis": "x",
         "y": [
          28.375560760498047,
          28.352014541625977,
          27.80418586730957,
          24.401100158691406
         ],
         "yaxis": "y"
        },
        {
         "hovertemplate": "parent=biodiversity<br>Dimension 1=%{x}<br>Dimension 2=%{y}<br>concept=%{text}<extra></extra>",
         "legendgroup": "biodiversity",
         "marker": {
          "color": "#636efa",
          "size": 8,
          "symbol": "circle"
         },
         "mode": "markers+text",
         "name": "biodiversity",
         "orientation": "v",
         "showlegend": true,
         "text": [
          "native biodiversity",
          "species richness",
          "species evenness",
          "species diversity",
          "animal diversity",
          "plant diversity",
          "genetic diversity",
          "beta diversity"
         ],
         "textposition": "top center",
         "type": "scatter",
         "x": [
          9.123672485351562,
          5.832301616668701,
          4.771198272705078,
          -5.394510746002197,
          5.804829120635986,
          4.938109397888184,
          4.024096488952637,
          0.8750008344650269
         ],
         "xaxis": "x",
         "y": [
          28.257905960083008,
          28.6324462890625,
          34.518638610839844,
          25.150938034057617,
          27.074125289916992,
          26.305675506591797,
          30.921199798583984,
          31.554006576538086
         ],
         "yaxis": "y"
        },
        {
         "hovertemplate": "parent=biological diversity<br>Dimension 1=%{x}<br>Dimension 2=%{y}<br>concept=%{text}<extra></extra>",
         "legendgroup": "biological diversity",
         "marker": {
          "color": "#EF553B",
          "size": 8,
          "symbol": "circle"
         },
         "mode": "markers+text",
         "name": "biological diversity",
         "orientation": "v",
         "showlegend": true,
         "text": [
          "native biodiversity",
          "species richness",
          "species evenness",
          "species diversity",
          "animal diversity",
          "plant diversity",
          "genetic diversity",
          "beta diversity"
         ],
         "textposition": "top center",
         "type": "scatter",
         "x": [
          8.693072319030762,
          4.845280647277832,
          4.726828575134277,
          -5.856112003326416,
          4.881945610046387,
          3.928611993789673,
          3.5056889057159424,
          1.1264359951019287
         ],
         "xaxis": "x",
         "y": [
          28.169754028320312,
          29.0345401763916,
          34.451995849609375,
          25.20551872253418,
          27.66514015197754,
          26.87767791748047,
          30.77997398376465,
          31.522245407104492
         ],
         "yaxis": "y"
        },
        {
         "hovertemplate": "parent=community<br>Dimension 1=%{x}<br>Dimension 2=%{y}<br>concept=%{text}<extra></extra>",
         "legendgroup": "community",
         "marker": {
          "color": "#00cc96",
          "size": 8,
          "symbol": "circle"
         },
         "mode": "markers+text",
         "name": "community",
         "orientation": "v",
         "showlegend": true,
         "text": [
          "original community",
          "community study"
         ],
         "textposition": "top center",
         "type": "scatter",
         "x": [
          20.60375213623047,
          19.851987838745117
         ],
         "xaxis": "x",
         "y": [
          24.539854049682617,
          25.417381286621094
         ],
         "yaxis": "y"
        },
        {
         "hovertemplate": "parent=hydrological process<br>Dimension 1=%{x}<br>Dimension 2=%{y}<br>concept=%{text}<extra></extra>",
         "legendgroup": "hydrological process",
         "marker": {
          "color": "#ab63fa",
          "size": 8,
          "symbol": "circle"
         },
         "mode": "markers+text",
         "name": "hydrological process",
         "orientation": "v",
         "showlegend": true,
         "text": [
          "nutrient cycling",
          "hydrological condensation process",
          "water flow process"
         ],
         "textposition": "top center",
         "type": "scatter",
         "x": [
          14.567948341369629,
          -5.498196125030518,
          -2.7194857597351074
         ],
         "xaxis": "x",
         "y": [
          22.0067195892334,
          -2.974599838256836,
          -0.750622570514679
         ],
         "yaxis": "y"
        },
        {
         "hovertemplate": "parent=invasion<br>Dimension 1=%{x}<br>Dimension 2=%{y}<br>concept=%{text}<extra></extra>",
         "legendgroup": "invasion",
         "marker": {
          "color": "#FFA15A",
          "size": 8,
          "symbol": "circle"
         },
         "mode": "markers+text",
         "name": "invasion",
         "orientation": "v",
         "showlegend": true,
         "text": [
          "invasion biology",
          "invasion process",
          "invasion pattern"
         ],
         "textposition": "top center",
         "type": "scatter",
         "x": [
          15.044126510620117,
          15.9760160446167,
          15.03268814086914
         ],
         "xaxis": "x",
         "y": [
          30.97076416015625,
          32.098365783691406,
          32.515625
         ],
         "yaxis": "y"
        },
        {
         "hovertemplate": "parent=human activity<br>Dimension 1=%{x}<br>Dimension 2=%{y}<br>concept=%{text}<extra></extra>",
         "legendgroup": "human activity",
         "marker": {
          "color": "#19d3f3",
          "size": 8,
          "symbol": "circle"
         },
         "mode": "markers+text",
         "name": "human activity",
         "orientation": "v",
         "showlegend": true,
         "text": [
          "manual removal",
          "anthropogenic disturbance"
         ],
         "textposition": "top center",
         "type": "scatter",
         "x": [
          -8.75311279296875,
          20.301084518432617
         ],
         "xaxis": "x",
         "y": [
          17.745040893554688,
          17.652631759643555
         ],
         "yaxis": "y"
        },
        {
         "hovertemplate": "parent=involvement<br>Dimension 1=%{x}<br>Dimension 2=%{y}<br>concept=%{text}<extra></extra>",
         "legendgroup": "involvement",
         "marker": {
          "color": "#FF6692",
          "size": 8,
          "symbol": "circle"
         },
         "mode": "markers+text",
         "name": "involvement",
         "orientation": "v",
         "showlegend": true,
         "text": [
          "manual removal"
         ],
         "textposition": "top center",
         "type": "scatter",
         "x": [
          -8.923233032226562
         ],
         "xaxis": "x",
         "y": [
          17.711713790893555
         ],
         "yaxis": "y"
        },
        {
         "hovertemplate": "parent=population of organisms<br>Dimension 1=%{x}<br>Dimension 2=%{y}<br>concept=%{text}<extra></extra>",
         "legendgroup": "population of organisms",
         "marker": {
          "color": "#B6E880",
          "size": 8,
          "symbol": "circle"
         },
         "mode": "markers+text",
         "name": "population of organisms",
         "orientation": "v",
         "showlegend": true,
         "text": [
          "invasive species populations"
         ],
         "textposition": "top center",
         "type": "scatter",
         "x": [
          13.618688583374023
         ],
         "xaxis": "x",
         "y": [
          29.817359924316406
         ],
         "yaxis": "y"
        },
        {
         "hovertemplate": "parent=invasion biology<br>Dimension 1=%{x}<br>Dimension 2=%{y}<br>concept=%{text}<extra></extra>",
         "legendgroup": "invasion biology",
         "marker": {
          "color": "#FF97FF",
          "size": 8,
          "symbol": "circle"
         },
         "mode": "markers+text",
         "name": "invasion biology",
         "orientation": "v",
         "showlegend": true,
         "text": [
          "community study",
          "invasion ecology"
         ],
         "textposition": "top center",
         "type": "scatter",
         "x": [
          19.121871948242188,
          15.126829147338867
         ],
         "xaxis": "x",
         "y": [
          26.399423599243164,
          30.228923797607422
         ],
         "yaxis": "y"
        },
        {
         "hovertemplate": "parent=ecosystem<br>Dimension 1=%{x}<br>Dimension 2=%{y}<br>concept=%{text}<extra></extra>",
         "legendgroup": "ecosystem",
         "marker": {
          "color": "#FECB52",
          "size": 8,
          "symbol": "circle"
         },
         "mode": "markers+text",
         "name": "ecosystem",
         "orientation": "v",
         "showlegend": true,
         "text": [
          "local ecosystems",
          "the diversity of ecosystems",
          "wetland ecosystem",
          "disturbed ecosystem",
          "undisturbed ecosystem",
          "environmental system determined by an organism",
          "environment associated with an animal part or small animal",
          "environment associated with a plant part or small plant"
         ],
         "textposition": "top center",
         "type": "scatter",
         "x": [
          11.467758178710938,
          9.526406288146973,
          9.818121910095215,
          11.926837921142578,
          11.819620132446289,
          11.885599136352539,
          11.551419258117676,
          10.760376930236816
         ],
         "xaxis": "x",
         "y": [
          25.189922332763672,
          24.7539005279541,
          15.952363967895508,
          17.16838836669922,
          15.846308708190918,
          13.517197608947754,
          12.592119216918945,
          12.986007690429688
         ],
         "yaxis": "y"
        },
        {
         "hovertemplate": "parent=species richness<br>Dimension 1=%{x}<br>Dimension 2=%{y}<br>concept=%{text}<extra></extra>",
         "legendgroup": "species richness",
         "marker": {
          "color": "#636efa",
          "size": 8,
          "symbol": "circle"
         },
         "mode": "markers+text",
         "name": "species richness",
         "orientation": "v",
         "showlegend": true,
         "text": [
          "species number"
         ],
         "textposition": "top center",
         "type": "scatter",
         "x": [
          7.811395645141602
         ],
         "xaxis": "x",
         "y": [
          30.403963088989258
         ],
         "yaxis": "y"
        },
        {
         "hovertemplate": "parent=symbiosis<br>Dimension 1=%{x}<br>Dimension 2=%{y}<br>concept=%{text}<extra></extra>",
         "legendgroup": "symbiosis",
         "marker": {
          "color": "#EF553B",
          "size": 8,
          "symbol": "circle"
         },
         "mode": "markers+text",
         "name": "symbiosis",
         "orientation": "v",
         "showlegend": true,
         "text": [
          "mutualistic interaction"
         ],
         "textposition": "top center",
         "type": "scatter",
         "x": [
          22.79958724975586
         ],
         "xaxis": "x",
         "y": [
          28.53571128845215
         ],
         "yaxis": "y"
        },
        {
         "hovertemplate": "parent=enemy<br>Dimension 1=%{x}<br>Dimension 2=%{y}<br>concept=%{text}<extra></extra>",
         "legendgroup": "enemy",
         "marker": {
          "color": "#00cc96",
          "size": 8,
          "symbol": "circle"
         },
         "mode": "markers+text",
         "name": "enemy",
         "orientation": "v",
         "showlegend": true,
         "text": [
          "generalist",
          "predator",
          "parasite",
          "specialist"
         ],
         "textposition": "top center",
         "type": "scatter",
         "x": [
          31.58407211303711,
          31.62480354309082,
          32.18531036376953,
          31.055034637451172
         ],
         "xaxis": "x",
         "y": [
          23.8101749420166,
          25.2000732421875,
          24.90390968322754,
          24.18532943725586
         ],
         "yaxis": "y"
        },
        {
         "hovertemplate": "parent=collection of organisms<br>Dimension 1=%{x}<br>Dimension 2=%{y}<br>concept=%{text}<extra></extra>",
         "legendgroup": "collection of organisms",
         "marker": {
          "color": "#ab63fa",
          "size": 8,
          "symbol": "circle"
         },
         "mode": "markers+text",
         "name": "collection of organisms",
         "orientation": "v",
         "showlegend": true,
         "text": [
          "community",
          "community",
          "single-species collection of organisms",
          "single-species collection of organisms",
          "multi-species collection of organisms",
          "multi-species collection of organisms"
         ],
         "textposition": "top center",
         "type": "scatter",
         "x": [
          29.356708526611328,
          29.158735275268555,
          19.80195426940918,
          20.25042724609375,
          30.89407730102539,
          30.50126075744629
         ],
         "xaxis": "x",
         "y": [
          19.436134338378906,
          19.215091705322266,
          -27.79181480407715,
          -28.77226448059082,
          18.50437355041504,
          18.09897804260254
         ],
         "yaxis": "y"
        },
        {
         "hovertemplate": "parent=event<br>Dimension 1=%{x}<br>Dimension 2=%{y}<br>concept=%{text}<extra></extra>",
         "legendgroup": "event",
         "marker": {
          "color": "#FFA15A",
          "size": 8,
          "symbol": "circle"
         },
         "mode": "markers+text",
         "name": "event",
         "orientation": "v",
         "showlegend": true,
         "text": [
          "invasion event",
          "cycle"
         ],
         "textposition": "top center",
         "type": "scatter",
         "x": [
          16.531673431396484,
          25.815753936767578
         ],
         "xaxis": "x",
         "y": [
          30.83814239501953,
          7.711770057678223
         ],
         "yaxis": "y"
        },
        {
         "hovertemplate": "parent=resistance<br>Dimension 1=%{x}<br>Dimension 2=%{y}<br>concept=%{text}<extra></extra>",
         "legendgroup": "resistance",
         "marker": {
          "color": "#19d3f3",
          "size": 8,
          "symbol": "circle"
         },
         "mode": "markers+text",
         "name": "resistance",
         "orientation": "v",
         "showlegend": true,
         "text": [
          "community resilience"
         ],
         "textposition": "top center",
         "type": "scatter",
         "x": [
          23.07622528076172
         ],
         "xaxis": "x",
         "y": [
          24.529664993286133
         ],
         "yaxis": "y"
        },
        {
         "hovertemplate": "parent=ecosystem property<br>Dimension 1=%{x}<br>Dimension 2=%{y}<br>concept=%{text}<extra></extra>",
         "legendgroup": "ecosystem property",
         "marker": {
          "color": "#FF6692",
          "size": 8,
          "symbol": "circle"
         },
         "mode": "markers+text",
         "name": "ecosystem property",
         "orientation": "v",
         "showlegend": true,
         "text": [
          "resistance",
          "ecosystem stability",
          "diversity"
         ],
         "textposition": "top center",
         "type": "scatter",
         "x": [
          11.727402687072754,
          11.963728904724121,
          10.760695457458496
         ],
         "xaxis": "x",
         "y": [
          19.386014938354492,
          22.549867630004883,
          19.916833877563477
         ],
         "yaxis": "y"
        },
        {
         "hovertemplate": "parent=land<br>Dimension 1=%{x}<br>Dimension 2=%{y}<br>concept=%{text}<extra></extra>",
         "legendgroup": "land",
         "marker": {
          "color": "#B6E880",
          "size": 8,
          "symbol": "circle"
         },
         "mode": "markers+text",
         "name": "land",
         "orientation": "v",
         "showlegend": true,
         "text": [
          "island",
          "island",
          "continent",
          "shore",
          "subcontinent"
         ],
         "textposition": "top center",
         "type": "scatter",
         "x": [
          -0.6605945825576782,
          0.06947371363639832,
          -0.7617262601852417,
          -0.2544294595718384,
          -1.5684813261032104
         ],
         "xaxis": "x",
         "y": [
          -5.489121913909912,
          -6.8919267654418945,
          -7.170556545257568,
          -7.876465320587158,
          -7.352203369140625
         ],
         "yaxis": "y"
        },
        {
         "hovertemplate": "parent=invasion success<br>Dimension 1=%{x}<br>Dimension 2=%{y}<br>concept=%{text}<extra></extra>",
         "legendgroup": "invasion success",
         "marker": {
          "color": "#FF97FF",
          "size": 8,
          "symbol": "circle"
         },
         "mode": "markers+text",
         "name": "invasion success",
         "orientation": "v",
         "showlegend": true,
         "text": [
          "host availability",
          "ecological impact",
          "establishment",
          "population survival"
         ],
         "textposition": "top center",
         "type": "scatter",
         "x": [
          22.578601837158203,
          15.687531471252441,
          -15.986204147338867,
          17.5872745513916
         ],
         "xaxis": "x",
         "y": [
          34.65917205810547,
          26.443458557128906,
          14.241974830627441,
          35.85902786254883
         ],
         "yaxis": "y"
        },
        {
         "hovertemplate": "parent=invasion establishment phase<br>Dimension 1=%{x}<br>Dimension 2=%{y}<br>concept=%{text}<extra></extra>",
         "legendgroup": "invasion establishment phase",
         "marker": {
          "color": "#FECB52",
          "size": 8,
          "symbol": "circle"
         },
         "mode": "markers+text",
         "name": "invasion establishment phase",
         "orientation": "v",
         "showlegend": true,
         "text": [
          "host availability"
         ],
         "textposition": "top center",
         "type": "scatter",
         "x": [
          22.600208282470703
         ],
         "xaxis": "x",
         "y": [
          34.71419143676758
         ],
         "yaxis": "y"
        },
        {
         "hovertemplate": "parent=invasion phase<br>Dimension 1=%{x}<br>Dimension 2=%{y}<br>concept=%{text}<extra></extra>",
         "legendgroup": "invasion phase",
         "marker": {
          "color": "#636efa",
          "size": 8,
          "symbol": "circle"
         },
         "mode": "markers+text",
         "name": "invasion phase",
         "orientation": "v",
         "showlegend": true,
         "text": [
          "invasion establishment phase",
          "invasion spread phase",
          "invasion transport phase"
         ],
         "textposition": "top center",
         "type": "scatter",
         "x": [
          15.820840835571289,
          15.248950958251953,
          15.114639282226562
         ],
         "xaxis": "x",
         "y": [
          36.786460876464844,
          36.25015640258789,
          37.05625534057617
         ],
         "yaxis": "y"
        },
        {
         "hovertemplate": "parent=host organism interaction<br>Dimension 1=%{x}<br>Dimension 2=%{y}<br>concept=%{text}<extra></extra>",
         "legendgroup": "host organism interaction",
         "marker": {
          "color": "#EF553B",
          "size": 8,
          "symbol": "circle"
         },
         "mode": "markers+text",
         "name": "host organism interaction",
         "orientation": "v",
         "showlegend": true,
         "text": [
          "symbiosis"
         ],
         "textposition": "top center",
         "type": "scatter",
         "x": [
          25.81742286682129
         ],
         "xaxis": "x",
         "y": [
          18.503875732421875
         ],
         "yaxis": "y"
        },
        {
         "hovertemplate": "parent=impact<br>Dimension 1=%{x}<br>Dimension 2=%{y}<br>concept=%{text}<extra></extra>",
         "legendgroup": "impact",
         "marker": {
          "color": "#00cc96",
          "size": 8,
          "symbol": "circle"
         },
         "mode": "markers+text",
         "name": "impact",
         "orientation": "v",
         "showlegend": true,
         "text": [
          "ecological impact"
         ],
         "textposition": "top center",
         "type": "scatter",
         "x": [
          15.571468353271484
         ],
         "xaxis": "x",
         "y": [
          25.363914489746094
         ],
         "yaxis": "y"
        },
        {
         "hovertemplate": "parent=terrestrial environmental zone<br>Dimension 1=%{x}<br>Dimension 2=%{y}<br>concept=%{text}<extra></extra>",
         "legendgroup": "terrestrial environmental zone",
         "marker": {
          "color": "#ab63fa",
          "size": 8,
          "symbol": "circle"
         },
         "mode": "markers+text",
         "name": "terrestrial environmental zone",
         "orientation": "v",
         "showlegend": true,
         "text": [
          "vegetated area"
         ],
         "textposition": "top center",
         "type": "scatter",
         "x": [
          0.6492072939872742
         ],
         "xaxis": "x",
         "y": [
          16.91609001159668
         ],
         "yaxis": "y"
        },
        {
         "hovertemplate": "parent=environmental system process<br>Dimension 1=%{x}<br>Dimension 2=%{y}<br>concept=%{text}<extra></extra>",
         "legendgroup": "environmental system process",
         "marker": {
          "color": "#FFA15A",
          "size": 8,
          "symbol": "circle"
         },
         "mode": "markers+text",
         "name": "environmental system process",
         "orientation": "v",
         "showlegend": true,
         "text": [
          "hydrological process",
          "material transport process",
          "anthropogenic environmental process",
          "radiation",
          "material transformation process",
          "ecosystem process",
          "atmospheric process",
          "material accumulation process"
         ],
         "textposition": "top center",
         "type": "scatter",
         "x": [
          17.55170440673828,
          18.738550186157227,
          17.529617309570312,
          19.75728416442871,
          18.690086364746094,
          16.990318298339844,
          18.588054656982422,
          19.683149337768555
         ],
         "xaxis": "x",
         "y": [
          9.240328788757324,
          10.67003345489502,
          11.067910194396973,
          10.979133605957031,
          9.941630363464355,
          10.339522361755371,
          8.748007774353027,
          9.461831092834473
         ],
         "yaxis": "y"
        },
        {
         "hovertemplate": "parent=natural environment<br>Dimension 1=%{x}<br>Dimension 2=%{y}<br>concept=%{text}<extra></extra>",
         "legendgroup": "natural environment",
         "marker": {
          "color": "#19d3f3",
          "size": 8,
          "symbol": "circle"
         },
         "mode": "markers+text",
         "name": "natural environment",
         "orientation": "v",
         "showlegend": true,
         "text": [
          "native ecosystems",
          "terrestrial natural environment",
          "aquatic natural environment"
         ],
         "textposition": "top center",
         "type": "scatter",
         "x": [
          11.726612091064453,
          7.996969223022461,
          8.163297653198242
         ],
         "xaxis": "x",
         "y": [
          25.833812713623047,
          12.02992057800293,
          11.762447357177734
         ],
         "yaxis": "y"
        },
        {
         "hovertemplate": "parent=range<br>Dimension 1=%{x}<br>Dimension 2=%{y}<br>concept=%{text}<extra></extra>",
         "legendgroup": "range",
         "marker": {
          "color": "#FF6692",
          "size": 8,
          "symbol": "circle"
         },
         "mode": "markers+text",
         "name": "range",
         "orientation": "v",
         "showlegend": true,
         "text": [
          "geographical distribution",
          "alien range",
          "native range"
         ],
         "textposition": "top center",
         "type": "scatter",
         "x": [
          4.387258052825928,
          4.833786487579346,
          4.7378740310668945
         ],
         "xaxis": "x",
         "y": [
          21.176591873168945,
          21.928382873535156,
          22.332155227661133
         ],
         "yaxis": "y"
        },
        {
         "hovertemplate": "parent=species evenness index<br>Dimension 1=%{x}<br>Dimension 2=%{y}<br>concept=%{text}<extra></extra>",
         "legendgroup": "species evenness index",
         "marker": {
          "color": "#B6E880",
          "size": 8,
          "symbol": "circle"
         },
         "mode": "markers+text",
         "name": "species evenness index",
         "orientation": "v",
         "showlegend": true,
         "text": [
          "pielou's evenness index"
         ],
         "textposition": "top center",
         "type": "scatter",
         "x": [
          -8.650171279907227
         ],
         "xaxis": "x",
         "y": [
          29.309213638305664
         ],
         "yaxis": "y"
        },
        {
         "hovertemplate": "parent=diversity index<br>Dimension 1=%{x}<br>Dimension 2=%{y}<br>concept=%{text}<extra></extra>",
         "legendgroup": "diversity index",
         "marker": {
          "color": "#FF97FF",
          "size": 8,
          "symbol": "circle"
         },
         "mode": "markers+text",
         "name": "diversity index",
         "orientation": "v",
         "showlegend": true,
         "text": [
          "species evenness index",
          "species diversity index",
          "beta diversity index",
          "species richness index"
         ],
         "textposition": "top center",
         "type": "scatter",
         "x": [
          -7.750250339508057,
          -0.2874963581562042,
          -1.4679467678070068,
          -7.750250339508057
         ],
         "xaxis": "x",
         "y": [
          27.4381160736084,
          28.286701202392578,
          30.238693237304688,
          27.4381160736084
         ],
         "yaxis": "y"
        },
        {
         "hovertemplate": "parent=humidity<br>Dimension 1=%{x}<br>Dimension 2=%{y}<br>concept=%{text}<extra></extra>",
         "legendgroup": "humidity",
         "marker": {
          "color": "#FECB52",
          "size": 8,
          "symbol": "circle"
         },
         "mode": "markers+text",
         "name": "humidity",
         "orientation": "v",
         "showlegend": true,
         "text": [
          "mean annual relative humidity",
          "relative humidity",
          "housing humidity",
          "housing humidity"
         ],
         "textposition": "top center",
         "type": "scatter",
         "x": [
          17.895343780517578,
          17.980451583862305,
          16.348590850830078,
          16.675874710083008
         ],
         "xaxis": "x",
         "y": [
          -7.887037754058838,
          -7.767969131469727,
          -7.105492115020752,
          -6.625733375549316
         ],
         "yaxis": "y"
        },
        {
         "hovertemplate": "parent=species diversity index<br>Dimension 1=%{x}<br>Dimension 2=%{y}<br>concept=%{text}<extra></extra>",
         "legendgroup": "species diversity index",
         "marker": {
          "color": "#636efa",
          "size": 8,
          "symbol": "circle"
         },
         "mode": "markers+text",
         "name": "species diversity index",
         "orientation": "v",
         "showlegend": true,
         "text": [
          "simpson's index",
          "Sørensen–dice index",
          "Sørensen’s similarity coefficient",
          "sorensen's similarity index",
          "shannon's diversity index"
         ],
         "textposition": "top center",
         "type": "scatter",
         "x": [
          -0.26691365242004395,
          -5.618015289306641,
          -5.618015289306641,
          -6.031727313995361,
          -5.618015289306641
         ],
         "xaxis": "x",
         "y": [
          27.709228515625,
          28.014284133911133,
          28.014284133911133,
          28.958515167236328,
          28.014284133911133
         ],
         "yaxis": "y"
        },
        {
         "hovertemplate": "parent=Geographic Area<br>Dimension 1=%{x}<br>Dimension 2=%{y}<br>concept=%{text}<extra></extra>",
         "legendgroup": "Geographic Area",
         "marker": {
          "color": "#EF553B",
          "size": 8,
          "symbol": "circle"
         },
         "mode": "markers+text",
         "name": "Geographic Area",
         "orientation": "v",
         "showlegend": true,
         "text": [
          "urbanized area",
          "rural area",
          "section"
         ],
         "textposition": "top center",
         "type": "scatter",
         "x": [
          -23.477436065673828,
          -24.005878448486328,
          -23.715492248535156
         ],
         "xaxis": "x",
         "y": [
          -3.532193660736084,
          -4.2797698974609375,
          -2.3870441913604736
         ],
         "yaxis": "y"
        },
        {
         "hovertemplate": "parent=morphological feature<br>Dimension 1=%{x}<br>Dimension 2=%{y}<br>concept=%{text}<extra></extra>",
         "legendgroup": "morphological feature",
         "marker": {
          "color": "#00cc96",
          "size": 8,
          "symbol": "circle"
         },
         "mode": "markers+text",
         "name": "morphological feature",
         "orientation": "v",
         "showlegend": true,
         "text": [
          "length",
          "color",
          "width",
          "height",
          "height",
          "anatomical structure"
         ],
         "textposition": "top center",
         "type": "scatter",
         "x": [
          48.56105422973633,
          48.73836898803711,
          47.88198471069336,
          47.85536193847656,
          47.59228515625,
          46.73371505737305
         ],
         "xaxis": "x",
         "y": [
          3.6493570804595947,
          1.8238329887390137,
          3.2763094902038574,
          4.691256523132324,
          5.3296990394592285,
          2.8029825687408447
         ],
         "yaxis": "y"
        },
        {
         "hovertemplate": "parent=functional trait<br>Dimension 1=%{x}<br>Dimension 2=%{y}<br>concept=%{text}<extra></extra>",
         "legendgroup": "functional trait",
         "marker": {
          "color": "#ab63fa",
          "size": 8,
          "symbol": "circle"
         },
         "mode": "markers+text",
         "name": "functional trait",
         "orientation": "v",
         "showlegend": true,
         "text": [
          "length",
          "perimeter",
          "endurance",
          "mass",
          "width",
          "height",
          "height"
         ],
         "textposition": "top center",
         "type": "scatter",
         "x": [
          42.9426383972168,
          41.842288970947266,
          41.297035217285156,
          41.71430587768555,
          42.5206298828125,
          43.662139892578125,
          44.00526809692383
         ],
         "xaxis": "x",
         "y": [
          6.561191558837891,
          6.704193115234375,
          7.356429100036621,
          8.306183815002441,
          7.5962605476379395,
          7.70358419418335,
          8.558313369750977
         ],
         "yaxis": "y"
        },
        {
         "hovertemplate": "parent=resource<br>Dimension 1=%{x}<br>Dimension 2=%{y}<br>concept=%{text}<extra></extra>",
         "legendgroup": "resource",
         "marker": {
          "color": "#FFA15A",
          "size": 8,
          "symbol": "circle"
         },
         "mode": "markers+text",
         "name": "resource",
         "orientation": "v",
         "showlegend": true,
         "text": [
          "energy",
          "nutrient",
          "environmental material",
          "environmental material",
          "light"
         ],
         "textposition": "top center",
         "type": "scatter",
         "x": [
          -15.637579917907715,
          12.785329818725586,
          3.5680432319641113,
          4.064279556274414,
          12.383220672607422
         ],
         "xaxis": "x",
         "y": [
          -6.242763519287109,
          -34.7808723449707,
          -31.61642837524414,
          -31.133581161499023,
          -31.5245361328125
         ],
         "yaxis": "y"
        },
        {
         "hovertemplate": "parent=region<br>Dimension 1=%{x}<br>Dimension 2=%{y}<br>concept=%{text}<extra></extra>",
         "legendgroup": "region",
         "marker": {
          "color": "#19d3f3",
          "size": 8,
          "symbol": "circle"
         },
         "mode": "markers+text",
         "name": "region",
         "orientation": "v",
         "showlegend": true,
         "text": [
          "neighborhood",
          "geographical region"
         ],
         "textposition": "top center",
         "type": "scatter",
         "x": [
          4.826395511627197,
          4.217684745788574
         ],
         "xaxis": "x",
         "y": [
          0.24658985435962677,
          -0.11607488244771957
         ],
         "yaxis": "y"
        },
        {
         "hovertemplate": "parent=environmental material<br>Dimension 1=%{x}<br>Dimension 2=%{y}<br>concept=%{text}<extra></extra>",
         "legendgroup": "environmental material",
         "marker": {
          "color": "#FF6692",
          "size": 8,
          "symbol": "circle"
         },
         "mode": "markers+text",
         "name": "environmental material",
         "orientation": "v",
         "showlegend": true,
         "text": [
          "water",
          "water",
          "permafrost",
          "permafrost",
          "soil",
          "soil",
          "sediment",
          "sediment",
          "clay",
          "clay",
          "silt",
          "silt",
          "sand",
          "sand",
          "organic material",
          "organic material",
          "metallic material",
          "metallic material",
          "particulate matter",
          "particulate matter",
          "snow",
          "snow",
          "gaseous environmental material",
          "gaseous environmental material",
          "liquid environmental material",
          "liquid environmental material",
          "solid environmental material",
          "solid environmental material",
          "ice",
          "ice"
         ],
         "textposition": "top center",
         "type": "scatter",
         "x": [
          -11.369365692138672,
          -11.395164489746094,
          1.0591058731079102,
          1.3181476593017578,
          -1.5055513381958008,
          -1.253975749015808,
          -5.6931047439575195,
          -5.506468772888184,
          -10.433686256408691,
          -10.465670585632324,
          -5.471114158630371,
          -5.668078422546387,
          -1.5223485231399536,
          -1.6218537092208862,
          2.7219316959381104,
          3.041323661804199,
          0.29399439692497253,
          0.06321127712726593,
          -4.068483352661133,
          -4.0779337882995605,
          4.260993957519531,
          4.570253849029541,
          1.627550482749939,
          1.5027559995651245,
          1.6558271646499634,
          1.5570926666259766,
          0.7156818509101868,
          0.3332349956035614,
          2.9268593788146973,
          3.204739570617676
         ],
         "xaxis": "x",
         "y": [
          -21.87880516052246,
          -21.823963165283203,
          -25.67633056640625,
          -25.31555938720703,
          -25.479658126831055,
          -25.21575164794922,
          -25.280399322509766,
          -24.922996520996094,
          -31.11545181274414,
          -31.110198974609375,
          -32.69593811035156,
          -32.74205017089844,
          -29.477161407470703,
          -30.274961471557617,
          -29.740358352661133,
          -29.00124740600586,
          -30.848346710205078,
          -29.932220458984375,
          -29.30239486694336,
          -28.707382202148438,
          -25.040531158447266,
          -24.85519027709961,
          -30.96746063232422,
          -30.122337341308594,
          -28.752119064331055,
          -27.88873291015625,
          -29.113548278808594,
          -28.297252655029297,
          -23.340715408325195,
          -23.036237716674805
         ],
         "yaxis": "y"
        },
        {
         "hovertemplate": "parent=geographic feature<br>Dimension 1=%{x}<br>Dimension 2=%{y}<br>concept=%{text}<extra></extra>",
         "legendgroup": "geographic feature",
         "marker": {
          "color": "#B6E880",
          "size": 8,
          "symbol": "circle"
         },
         "mode": "markers+text",
         "name": "geographic feature",
         "orientation": "v",
         "showlegend": true,
         "text": [
          "anthropogenic geographic feature",
          "hydrographic feature",
          "layer"
         ],
         "textposition": "top center",
         "type": "scatter",
         "x": [
          -23.463851928710938,
          -22.598529815673828,
          -8.326532363891602
         ],
         "xaxis": "x",
         "y": [
          2.319615125656128,
          1.1474757194519043,
          -12.178581237792969
         ],
         "yaxis": "y"
        },
        {
         "hovertemplate": "parent=geographical region<br>Dimension 1=%{x}<br>Dimension 2=%{y}<br>concept=%{text}<extra></extra>",
         "legendgroup": "geographical region",
         "marker": {
          "color": "#FF97FF",
          "size": 8,
          "symbol": "circle"
         },
         "mode": "markers+text",
         "name": "geographical region",
         "orientation": "v",
         "showlegend": true,
         "text": [
          "body of water",
          "water body",
          "land mass"
         ],
         "textposition": "top center",
         "type": "scatter",
         "x": [
          3.2664904594421387,
          3.2664904594421387,
          -23.646575927734375
         ],
         "xaxis": "x",
         "y": [
          -1.4237853288650513,
          -1.4237853288650513,
          -0.9971292614936829
         ],
         "yaxis": "y"
        },
        {
         "hovertemplate": "parent=body of water<br>Dimension 1=%{x}<br>Dimension 2=%{y}<br>concept=%{text}<extra></extra>",
         "legendgroup": "body of water",
         "marker": {
          "color": "#FECB52",
          "size": 8,
          "symbol": "circle"
         },
         "mode": "markers+text",
         "name": "body of water",
         "orientation": "v",
         "showlegend": true,
         "text": [
          "ocean",
          "sea",
          "lake",
          "estuary"
         ],
         "textposition": "top center",
         "type": "scatter",
         "x": [
          7.894366264343262,
          5.9021806716918945,
          4.313205242156982,
          5.377497673034668
         ],
         "xaxis": "x",
         "y": [
          -9.24658489227295,
          -8.676056861877441,
          -9.022242546081543,
          -10.627815246582031
         ],
         "yaxis": "y"
        },
        {
         "hovertemplate": "parent=water body<br>Dimension 1=%{x}<br>Dimension 2=%{y}<br>concept=%{text}<extra></extra>",
         "legendgroup": "water body",
         "marker": {
          "color": "#636efa",
          "size": 8,
          "symbol": "circle"
         },
         "mode": "markers+text",
         "name": "water body",
         "orientation": "v",
         "showlegend": true,
         "text": [
          "ocean",
          "sea",
          "lake",
          "estuary"
         ],
         "textposition": "top center",
         "type": "scatter",
         "x": [
          7.999969005584717,
          6.086423397064209,
          4.448218822479248,
          5.671311378479004
         ],
         "xaxis": "x",
         "y": [
          -9.430776596069336,
          -8.220165252685547,
          -8.607717514038086,
          -10.79133415222168
         ],
         "yaxis": "y"
        },
        {
         "hovertemplate": "parent=hydrographic feature<br>Dimension 1=%{x}<br>Dimension 2=%{y}<br>concept=%{text}<extra></extra>",
         "legendgroup": "hydrographic feature",
         "marker": {
          "color": "#EF553B",
          "size": 8,
          "symbol": "circle"
         },
         "mode": "markers+text",
         "name": "hydrographic feature",
         "orientation": "v",
         "showlegend": true,
         "text": [
          "saline hydrographic feature",
          "shore",
          "marine pelagic feature"
         ],
         "textposition": "top center",
         "type": "scatter",
         "x": [
          9.122461318969727,
          8.258435249328613,
          9.091973304748535
         ],
         "xaxis": "x",
         "y": [
          -3.722179412841797,
          -4.432466983795166,
          -4.638420104980469
         ],
         "yaxis": "y"
        },
        {
         "hovertemplate": "parent=lake<br>Dimension 1=%{x}<br>Dimension 2=%{y}<br>concept=%{text}<extra></extra>",
         "legendgroup": "lake",
         "marker": {
          "color": "#00cc96",
          "size": 8,
          "symbol": "circle"
         },
         "mode": "markers+text",
         "name": "lake",
         "orientation": "v",
         "showlegend": true,
         "text": [
          "saline lake",
          "natural lake"
         ],
         "textposition": "top center",
         "type": "scatter",
         "x": [
          4.450344085693359,
          4.372425079345703
         ],
         "xaxis": "x",
         "y": [
          -6.0873308181762695,
          -5.680177211761475
         ],
         "yaxis": "y"
        },
        {
         "hovertemplate": "parent=water<br>Dimension 1=%{x}<br>Dimension 2=%{y}<br>concept=%{text}<extra></extra>",
         "legendgroup": "water",
         "marker": {
          "color": "#ab63fa",
          "size": 8,
          "symbol": "circle"
         },
         "mode": "markers+text",
         "name": "water",
         "orientation": "v",
         "showlegend": true,
         "text": [
          "liquid water",
          "water ice"
         ],
         "textposition": "top center",
         "type": "scatter",
         "x": [
          -16.254487991333008,
          3.966621160507202
         ],
         "xaxis": "x",
         "y": [
          -9.732746124267578,
          -20.323162078857422
         ],
         "yaxis": "y"
        },
        {
         "hovertemplate": "parent=liquid environmental material<br>Dimension 1=%{x}<br>Dimension 2=%{y}<br>concept=%{text}<extra></extra>",
         "legendgroup": "liquid environmental material",
         "marker": {
          "color": "#FFA15A",
          "size": 8,
          "symbol": "circle"
         },
         "mode": "markers+text",
         "name": "liquid environmental material",
         "orientation": "v",
         "showlegend": true,
         "text": [
          "liquid water"
         ],
         "textposition": "top center",
         "type": "scatter",
         "x": [
          3.2303569316864014
         ],
         "xaxis": "x",
         "y": [
          -27.367036819458008
         ],
         "yaxis": "y"
        },
        {
         "hovertemplate": "parent=environmental feature<br>Dimension 1=%{x}<br>Dimension 2=%{y}<br>concept=%{text}<extra></extra>",
         "legendgroup": "environmental feature",
         "marker": {
          "color": "#19d3f3",
          "size": 8,
          "symbol": "circle"
         },
         "mode": "markers+text",
         "name": "environmental feature",
         "orientation": "v",
         "showlegend": true,
         "text": [
          "glacial feature"
         ],
         "textposition": "top center",
         "type": "scatter",
         "x": [
          9.939094543457031
         ],
         "xaxis": "x",
         "y": [
          -5.023347854614258
         ],
         "yaxis": "y"
        },
        {
         "hovertemplate": "parent=estuary<br>Dimension 1=%{x}<br>Dimension 2=%{y}<br>concept=%{text}<extra></extra>",
         "legendgroup": "estuary",
         "marker": {
          "color": "#FF6692",
          "size": 8,
          "symbol": "circle"
         },
         "mode": "markers+text",
         "name": "estuary",
         "orientation": "v",
         "showlegend": true,
         "text": [
          "inverse estuary"
         ],
         "textposition": "top center",
         "type": "scatter",
         "x": [
          5.652492046356201
         ],
         "xaxis": "x",
         "y": [
          -12.690896987915039
         ],
         "yaxis": "y"
        },
        {
         "hovertemplate": "parent=wetland area<br>Dimension 1=%{x}<br>Dimension 2=%{y}<br>concept=%{text}<extra></extra>",
         "legendgroup": "wetland area",
         "marker": {
          "color": "#B6E880",
          "size": 8,
          "symbol": "circle"
         },
         "mode": "markers+text",
         "name": "wetland area",
         "orientation": "v",
         "showlegend": true,
         "text": [
          "saline wetland"
         ],
         "textposition": "top center",
         "type": "scatter",
         "x": [
          -16.56291961669922
         ],
         "xaxis": "x",
         "y": [
          0.5068185925483704
         ],
         "yaxis": "y"
        },
        {
         "hovertemplate": "parent=solid environmental material<br>Dimension 1=%{x}<br>Dimension 2=%{y}<br>concept=%{text}<extra></extra>",
         "legendgroup": "solid environmental material",
         "marker": {
          "color": "#FF97FF",
          "size": 8,
          "symbol": "circle"
         },
         "mode": "markers+text",
         "name": "solid environmental material",
         "orientation": "v",
         "showlegend": true,
         "text": [
          "rock",
          "mineral material",
          "water ice"
         ],
         "textposition": "top center",
         "type": "scatter",
         "x": [
          -1.3070461750030518,
          -1.1269866228103638,
          3.8280088901519775
         ],
         "xaxis": "x",
         "y": [
          -33.980926513671875,
          -33.0146484375,
          -20.901769638061523
         ],
         "yaxis": "y"
        },
        {
         "hovertemplate": "parent=porosity<br>Dimension 1=%{x}<br>Dimension 2=%{y}<br>concept=%{text}<extra></extra>",
         "legendgroup": "porosity",
         "marker": {
          "color": "#FECB52",
          "size": 8,
          "symbol": "circle"
         },
         "mode": "markers+text",
         "name": "porosity",
         "orientation": "v",
         "showlegend": true,
         "text": [
          "porous",
          "porosity of soil"
         ],
         "textposition": "top center",
         "type": "scatter",
         "x": [
          39.65690231323242,
          39.64841842651367
         ],
         "xaxis": "x",
         "y": [
          -7.546529293060303,
          -6.827638149261475
         ],
         "yaxis": "y"
        },
        {
         "hovertemplate": "parent=gaseous environmental material<br>Dimension 1=%{x}<br>Dimension 2=%{y}<br>concept=%{text}<extra></extra>",
         "legendgroup": "gaseous environmental material",
         "marker": {
          "color": "#636efa",
          "size": 8,
          "symbol": "circle"
         },
         "mode": "markers+text",
         "name": "gaseous environmental material",
         "orientation": "v",
         "showlegend": true,
         "text": [
          "air",
          "water vapour"
         ],
         "textposition": "top center",
         "type": "scatter",
         "x": [
          -1.817014455795288,
          13.486659049987793
         ],
         "xaxis": "x",
         "y": [
          -27.5966854095459,
          -9.449583053588867
         ],
         "yaxis": "y"
        },
        {
         "hovertemplate": "parent=composition<br>Dimension 1=%{x}<br>Dimension 2=%{y}<br>concept=%{text}<extra></extra>",
         "legendgroup": "composition",
         "marker": {
          "color": "#EF553B",
          "size": 8,
          "symbol": "circle"
         },
         "mode": "markers+text",
         "name": "composition",
         "orientation": "v",
         "showlegend": true,
         "text": [
          "granular",
          "composition of soil",
          "composition of water"
         ],
         "textposition": "top center",
         "type": "scatter",
         "x": [
          40.71687698364258,
          39.68201446533203,
          39.526214599609375
         ],
         "xaxis": "x",
         "y": [
          -0.6314709186553955,
          -1.3368687629699707,
          -0.8244562745094299
         ],
         "yaxis": "y"
        },
        {
         "hovertemplate": "parent=system<br>Dimension 1=%{x}<br>Dimension 2=%{y}<br>concept=%{text}<extra></extra>",
         "legendgroup": "system",
         "marker": {
          "color": "#00cc96",
          "size": 8,
          "symbol": "circle"
         },
         "mode": "markers+text",
         "name": "system",
         "orientation": "v",
         "showlegend": true,
         "text": [
          "environmental system"
         ],
         "textposition": "top center",
         "type": "scatter",
         "x": [
          15.733219146728516
         ],
         "xaxis": "x",
         "y": [
          6.904109001159668
         ],
         "yaxis": "y"
        },
        {
         "hovertemplate": "parent=soil<br>Dimension 1=%{x}<br>Dimension 2=%{y}<br>concept=%{text}<extra></extra>",
         "legendgroup": "soil",
         "marker": {
          "color": "#ab63fa",
          "size": 8,
          "symbol": "circle"
         },
         "mode": "markers+text",
         "name": "soil",
         "orientation": "v",
         "showlegend": true,
         "text": [
          "enriched soil",
          "frozen soil"
         ],
         "textposition": "top center",
         "type": "scatter",
         "x": [
          -2.27315092086792,
          -0.590766966342926
         ],
         "xaxis": "x",
         "y": [
          -23.94892692565918,
          -22.695619583129883
         ],
         "yaxis": "y"
        },
        {
         "hovertemplate": "parent=layer<br>Dimension 1=%{x}<br>Dimension 2=%{y}<br>concept=%{text}<extra></extra>",
         "legendgroup": "layer",
         "marker": {
          "color": "#FFA15A",
          "size": 8,
          "symbol": "circle"
         },
         "mode": "markers+text",
         "name": "layer",
         "orientation": "v",
         "showlegend": true,
         "text": [
          "surface layer",
          "atmosphere",
          "solid layer"
         ],
         "textposition": "top center",
         "type": "scatter",
         "x": [
          -3.2462892532348633,
          -3.0888006687164307,
          -2.6969776153564453
         ],
         "xaxis": "x",
         "y": [
          -13.955726623535156,
          -16.039888381958008,
          -14.797024726867676
         ],
         "yaxis": "y"
        },
        {
         "hovertemplate": "parent=water vapour<br>Dimension 1=%{x}<br>Dimension 2=%{y}<br>concept=%{text}<extra></extra>",
         "legendgroup": "water vapour",
         "marker": {
          "color": "#19d3f3",
          "size": 8,
          "symbol": "circle"
         },
         "mode": "markers+text",
         "name": "water vapour",
         "orientation": "v",
         "showlegend": true,
         "text": [
          "atmospheric water vapour"
         ],
         "textposition": "top center",
         "type": "scatter",
         "x": [
          13.491211891174316
         ],
         "xaxis": "x",
         "y": [
          -9.054512977600098
         ],
         "yaxis": "y"
        },
        {
         "hovertemplate": "parent=environmental zone<br>Dimension 1=%{x}<br>Dimension 2=%{y}<br>concept=%{text}<extra></extra>",
         "legendgroup": "environmental zone",
         "marker": {
          "color": "#FF6692",
          "size": 8,
          "symbol": "circle"
         },
         "mode": "markers+text",
         "name": "environmental zone",
         "orientation": "v",
         "showlegend": true,
         "text": [
          "ecoregion",
          "ecozone",
          "atmospheric zone",
          "coast",
          "terrestrial environmental zone",
          "marine environmental zone"
         ],
         "textposition": "top center",
         "type": "scatter",
         "x": [
          3.5501880645751953,
          3.2767531871795654,
          4.089760780334473,
          0.7135419249534607,
          3.4496634006500244,
          2.7806131839752197
         ],
         "xaxis": "x",
         "y": [
          4.735409736633301,
          7.341292858123779,
          5.8123979568481445,
          5.504544258117676,
          6.050105094909668,
          5.786866664886475
         ],
         "yaxis": "y"
        },
        {
         "hovertemplate": "parent=zone<br>Dimension 1=%{x}<br>Dimension 2=%{y}<br>concept=%{text}<extra></extra>",
         "legendgroup": "zone",
         "marker": {
          "color": "#B6E880",
          "size": 8,
          "symbol": "circle"
         },
         "mode": "markers+text",
         "name": "zone",
         "orientation": "v",
         "showlegend": true,
         "text": [
          "environmental zone",
          "environmental zone"
         ],
         "textposition": "top center",
         "type": "scatter",
         "x": [
          4.811770439147949,
          5.1667799949646
         ],
         "xaxis": "x",
         "y": [
          2.8362772464752197,
          2.7773077487945557
         ],
         "yaxis": "y"
        },
        {
         "hovertemplate": "parent=structure<br>Dimension 1=%{x}<br>Dimension 2=%{y}<br>concept=%{text}<extra></extra>",
         "legendgroup": "structure",
         "marker": {
          "color": "#FF97FF",
          "size": 8,
          "symbol": "circle"
         },
         "mode": "markers+text",
         "name": "structure",
         "orientation": "v",
         "showlegend": true,
         "text": [
          "laminar",
          "structure of soil",
          "composition",
          "permeability"
         ],
         "textposition": "top center",
         "type": "scatter",
         "x": [
          45.88581085205078,
          40.84861755371094,
          45.084407806396484,
          44.861846923828125
         ],
         "xaxis": "x",
         "y": [
          -2.9738852977752686,
          -3.42861008644104,
          -1.8938902616500854,
          -3.0747487545013428
         ],
         "yaxis": "y"
        },
        {
         "hovertemplate": "parent=marine pelagic feature<br>Dimension 1=%{x}<br>Dimension 2=%{y}<br>concept=%{text}<extra></extra>",
         "legendgroup": "marine pelagic feature",
         "marker": {
          "color": "#FECB52",
          "size": 8,
          "symbol": "circle"
         },
         "mode": "markers+text",
         "name": "marine pelagic feature",
         "orientation": "v",
         "showlegend": true,
         "text": [
          "marine layer"
         ],
         "textposition": "top center",
         "type": "scatter",
         "x": [
          2.4057281017303467
         ],
         "xaxis": "x",
         "y": [
          -13.827062606811523
         ],
         "yaxis": "y"
        },
        {
         "hovertemplate": "parent=aquatic layer<br>Dimension 1=%{x}<br>Dimension 2=%{y}<br>concept=%{text}<extra></extra>",
         "legendgroup": "aquatic layer",
         "marker": {
          "color": "#636efa",
          "size": 8,
          "symbol": "circle"
         },
         "mode": "markers+text",
         "name": "aquatic layer",
         "orientation": "v",
         "showlegend": true,
         "text": [
          "marine layer",
          "water surface",
          "aquatic estuarine layer"
         ],
         "textposition": "top center",
         "type": "scatter",
         "x": [
          0.23062311112880707,
          -0.3827260136604309,
          0.8386934995651245
         ],
         "xaxis": "x",
         "y": [
          -13.5899019241333,
          -12.474595069885254,
          -14.413654327392578
         ],
         "yaxis": "y"
        },
        {
         "hovertemplate": "parent=liquid layer<br>Dimension 1=%{x}<br>Dimension 2=%{y}<br>concept=%{text}<extra></extra>",
         "legendgroup": "liquid layer",
         "marker": {
          "color": "#EF553B",
          "size": 8,
          "symbol": "circle"
         },
         "mode": "markers+text",
         "name": "liquid layer",
         "orientation": "v",
         "showlegend": true,
         "text": [
          "aquatic layer",
          "liquid air-water interface layer"
         ],
         "textposition": "top center",
         "type": "scatter",
         "x": [
          -0.49506866931915283,
          -1.345619559288025
         ],
         "xaxis": "x",
         "y": [
          -14.906731605529785,
          -14.205362319946289
         ],
         "yaxis": "y"
        },
        {
         "hovertemplate": "parent=environmental system determined by a quality<br>Dimension 1=%{x}<br>Dimension 2=%{y}<br>concept=%{text}<extra></extra>",
         "legendgroup": "environmental system determined by a quality",
         "marker": {
          "color": "#00cc96",
          "size": 8,
          "symbol": "circle"
         },
         "mode": "markers+text",
         "name": "environmental system determined by a quality",
         "orientation": "v",
         "showlegend": true,
         "text": [
          "high osmolarity environment",
          "aquatic environment",
          "soil environment"
         ],
         "textposition": "top center",
         "type": "scatter",
         "x": [
          21.71625518798828,
          8.46369457244873,
          10.153151512145996
         ],
         "xaxis": "x",
         "y": [
          1.4721550941467285,
          8.07399845123291,
          5.799027919769287
         ],
         "yaxis": "y"
        },
        {
         "hovertemplate": "parent=environmental system determined by a material<br>Dimension 1=%{x}<br>Dimension 2=%{y}<br>concept=%{text}<extra></extra>",
         "legendgroup": "environmental system determined by a material",
         "marker": {
          "color": "#ab63fa",
          "size": 8,
          "symbol": "circle"
         },
         "mode": "markers+text",
         "name": "environmental system determined by a material",
         "orientation": "v",
         "showlegend": true,
         "text": [
          "aquatic environment",
          "saline environment",
          "soil environment",
          "sediment environment"
         ],
         "textposition": "top center",
         "type": "scatter",
         "x": [
          8.601283073425293,
          11.70867919921875,
          10.828335762023926,
          9.304706573486328
         ],
         "xaxis": "x",
         "y": [
          8.930896759033203,
          4.897878170013428,
          6.569005489349365,
          6.7240753173828125
         ],
         "yaxis": "y"
        },
        {
         "hovertemplate": "parent=surface layer<br>Dimension 1=%{x}<br>Dimension 2=%{y}<br>concept=%{text}<extra></extra>",
         "legendgroup": "surface layer",
         "marker": {
          "color": "#FFA15A",
          "size": 8,
          "symbol": "circle"
         },
         "mode": "markers+text",
         "name": "surface layer",
         "orientation": "v",
         "showlegend": true,
         "text": [
          "liquid layer",
          "solid surface layer"
         ],
         "textposition": "top center",
         "type": "scatter",
         "x": [
          -2.0254299640655518,
          -2.3936569690704346
         ],
         "xaxis": "x",
         "y": [
          -13.279396057128906,
          -12.511102676391602
         ],
         "yaxis": "y"
        },
        {
         "hovertemplate": "parent=ecosystem process<br>Dimension 1=%{x}<br>Dimension 2=%{y}<br>concept=%{text}<extra></extra>",
         "legendgroup": "ecosystem process",
         "marker": {
          "color": "#19d3f3",
          "size": 8,
          "symbol": "circle"
         },
         "mode": "markers+text",
         "name": "ecosystem process",
         "orientation": "v",
         "showlegend": true,
         "text": [
          "disturbance"
         ],
         "textposition": "top center",
         "type": "scatter",
         "x": [
          18.0693359375
         ],
         "xaxis": "x",
         "y": [
          18.753318786621094
         ],
         "yaxis": "y"
        },
        {
         "hovertemplate": "parent=condensation process<br>Dimension 1=%{x}<br>Dimension 2=%{y}<br>concept=%{text}<extra></extra>",
         "legendgroup": "condensation process",
         "marker": {
          "color": "#FF6692",
          "size": 8,
          "symbol": "circle"
         },
         "mode": "markers+text",
         "name": "condensation process",
         "orientation": "v",
         "showlegend": true,
         "text": [
          "hydrological condensation process"
         ],
         "textposition": "top center",
         "type": "scatter",
         "x": [
          -6.105546474456787
         ],
         "xaxis": "x",
         "y": [
          -2.9099409580230713
         ],
         "yaxis": "y"
        },
        {
         "hovertemplate": "parent=material congelation process<br>Dimension 1=%{x}<br>Dimension 2=%{y}<br>concept=%{text}<extra></extra>",
         "legendgroup": "material congelation process",
         "marker": {
          "color": "#B6E880",
          "size": 8,
          "symbol": "circle"
         },
         "mode": "markers+text",
         "name": "material congelation process",
         "orientation": "v",
         "showlegend": true,
         "text": [
          "condensation process"
         ],
         "textposition": "top center",
         "type": "scatter",
         "x": [
          -6.308487892150879
         ],
         "xaxis": "x",
         "y": [
          -1.6566333770751953
         ],
         "yaxis": "y"
        },
        {
         "hovertemplate": "parent=mass liquid flow<br>Dimension 1=%{x}<br>Dimension 2=%{y}<br>concept=%{text}<extra></extra>",
         "legendgroup": "mass liquid flow",
         "marker": {
          "color": "#FF97FF",
          "size": 8,
          "symbol": "circle"
         },
         "mode": "markers+text",
         "name": "mass liquid flow",
         "orientation": "v",
         "showlegend": true,
         "text": [
          "water flow process"
         ],
         "textposition": "top center",
         "type": "scatter",
         "x": [
          -2.741954803466797
         ],
         "xaxis": "x",
         "y": [
          -0.034994229674339294
         ],
         "yaxis": "y"
        },
        {
         "hovertemplate": "parent=material transport process<br>Dimension 1=%{x}<br>Dimension 2=%{y}<br>concept=%{text}<extra></extra>",
         "legendgroup": "material transport process",
         "marker": {
          "color": "#FECB52",
          "size": 8,
          "symbol": "circle"
         },
         "mode": "markers+text",
         "name": "material transport process",
         "orientation": "v",
         "showlegend": true,
         "text": [
          "precipitation process",
          "advective transport process"
         ],
         "textposition": "top center",
         "type": "scatter",
         "x": [
          -5.6729655265808105,
          -4.292765140533447
         ],
         "xaxis": "x",
         "y": [
          0.10939076542854309,
          2.002063512802124
         ],
         "yaxis": "y"
        },
        {
         "hovertemplate": "parent=material transformation process<br>Dimension 1=%{x}<br>Dimension 2=%{y}<br>concept=%{text}<extra></extra>",
         "legendgroup": "material transformation process",
         "marker": {
          "color": "#636efa",
          "size": 8,
          "symbol": "circle"
         },
         "mode": "markers+text",
         "name": "material transformation process",
         "orientation": "v",
         "showlegend": true,
         "text": [
          "material congelation process"
         ],
         "textposition": "top center",
         "type": "scatter",
         "x": [
          -4.667135238647461
         ],
         "xaxis": "x",
         "y": [
          3.0793306827545166
         ],
         "yaxis": "y"
        },
        {
         "hovertemplate": "parent=glacial feature<br>Dimension 1=%{x}<br>Dimension 2=%{y}<br>concept=%{text}<extra></extra>",
         "legendgroup": "glacial feature",
         "marker": {
          "color": "#EF553B",
          "size": 8,
          "symbol": "circle"
         },
         "mode": "markers+text",
         "name": "glacial feature",
         "orientation": "v",
         "showlegend": true,
         "text": [
          "cryosphere"
         ],
         "textposition": "top center",
         "type": "scatter",
         "x": [
          10.690962791442871
         ],
         "xaxis": "x",
         "y": [
          -6.535248756408691
         ],
         "yaxis": "y"
        },
        {
         "hovertemplate": "parent=anthropogenic ecosystem conversion process<br>Dimension 1=%{x}<br>Dimension 2=%{y}<br>concept=%{text}<extra></extra>",
         "legendgroup": "anthropogenic ecosystem conversion process",
         "marker": {
          "color": "#00cc96",
          "size": 8,
          "symbol": "circle"
         },
         "mode": "markers+text",
         "name": "anthropogenic ecosystem conversion process",
         "orientation": "v",
         "showlegend": true,
         "text": [
          "anthropisation"
         ],
         "textposition": "top center",
         "type": "scatter",
         "x": [
          17.66456413269043
         ],
         "xaxis": "x",
         "y": [
          14.596639633178711
         ],
         "yaxis": "y"
        },
        {
         "hovertemplate": "parent=anthropogenic environmental process<br>Dimension 1=%{x}<br>Dimension 2=%{y}<br>concept=%{text}<extra></extra>",
         "legendgroup": "anthropogenic environmental process",
         "marker": {
          "color": "#ab63fa",
          "size": 8,
          "symbol": "circle"
         },
         "mode": "markers+text",
         "name": "anthropogenic environmental process",
         "orientation": "v",
         "showlegend": true,
         "text": [
          "anthropisation",
          "anthropogenic ecosystem conversion process"
         ],
         "textposition": "top center",
         "type": "scatter",
         "x": [
          17.175365447998047,
          17.714080810546875
         ],
         "xaxis": "x",
         "y": [
          13.450154304504395,
          13.68198013305664
         ],
         "yaxis": "y"
        },
        {
         "hovertemplate": "parent=advective transport process<br>Dimension 1=%{x}<br>Dimension 2=%{y}<br>concept=%{text}<extra></extra>",
         "legendgroup": "advective transport process",
         "marker": {
          "color": "#FFA15A",
          "size": 8,
          "symbol": "circle"
         },
         "mode": "markers+text",
         "name": "advective transport process",
         "orientation": "v",
         "showlegend": true,
         "text": [
          "mass liquid flow"
         ],
         "textposition": "top center",
         "type": "scatter",
         "x": [
          -3.769028663635254
         ],
         "xaxis": "x",
         "y": [
          1.317274808883667
         ],
         "yaxis": "y"
        },
        {
         "hovertemplate": "parent=environmental system determined by an organism<br>Dimension 1=%{x}<br>Dimension 2=%{y}<br>concept=%{text}<extra></extra>",
         "legendgroup": "environmental system determined by an organism",
         "marker": {
          "color": "#19d3f3",
          "size": 8,
          "symbol": "circle"
         },
         "mode": "markers+text",
         "name": "environmental system determined by an organism",
         "orientation": "v",
         "showlegend": true,
         "text": [
          "animal-associated environment"
         ],
         "textposition": "top center",
         "type": "scatter",
         "x": [
          12.3134765625
         ],
         "xaxis": "x",
         "y": [
          11.226118087768555
         ],
         "yaxis": "y"
        },
        {
         "hovertemplate": "parent=high osmolarity environment<br>Dimension 1=%{x}<br>Dimension 2=%{y}<br>concept=%{text}<extra></extra>",
         "legendgroup": "high osmolarity environment",
         "marker": {
          "color": "#FF6692",
          "size": 8,
          "symbol": "circle"
         },
         "mode": "markers+text",
         "name": "high osmolarity environment",
         "orientation": "v",
         "showlegend": true,
         "text": [
          "saline environment"
         ],
         "textposition": "top center",
         "type": "scatter",
         "x": [
          21.722543716430664
         ],
         "xaxis": "x",
         "y": [
          1.4326690435409546
         ],
         "yaxis": "y"
        },
        {
         "hovertemplate": "parent=opacity<br>Dimension 1=%{x}<br>Dimension 2=%{y}<br>concept=%{text}<extra></extra>",
         "legendgroup": "opacity",
         "marker": {
          "color": "#B6E880",
          "size": 8,
          "symbol": "circle"
         },
         "mode": "markers+text",
         "name": "opacity",
         "orientation": "v",
         "showlegend": true,
         "text": [
          "opaque"
         ],
         "textposition": "top center",
         "type": "scatter",
         "x": [
          45.54207229614258
         ],
         "xaxis": "x",
         "y": [
          -11.603066444396973
         ],
         "yaxis": "y"
        },
        {
         "hovertemplate": "parent=animal-associated environment<br>Dimension 1=%{x}<br>Dimension 2=%{y}<br>concept=%{text}<extra></extra>",
         "legendgroup": "animal-associated environment",
         "marker": {
          "color": "#FF97FF",
          "size": 8,
          "symbol": "circle"
         },
         "mode": "markers+text",
         "name": "animal-associated environment",
         "orientation": "v",
         "showlegend": true,
         "text": [
          "environment associated with an aquatic invertebrate"
         ],
         "textposition": "top center",
         "type": "scatter",
         "x": [
          13.336904525756836
         ],
         "xaxis": "x",
         "y": [
          12.34305477142334
         ],
         "yaxis": "y"
        },
        {
         "hovertemplate": "parent=ice<br>Dimension 1=%{x}<br>Dimension 2=%{y}<br>concept=%{text}<extra></extra>",
         "legendgroup": "ice",
         "marker": {
          "color": "#FECB52",
          "size": 8,
          "symbol": "circle"
         },
         "mode": "markers+text",
         "name": "ice",
         "orientation": "v",
         "showlegend": true,
         "text": [
          "frozen soil"
         ],
         "textposition": "top center",
         "type": "scatter",
         "x": [
          0.3366360366344452
         ],
         "xaxis": "x",
         "y": [
          -22.178295135498047
         ],
         "yaxis": "y"
        },
        {
         "hovertemplate": "parent=water surface<br>Dimension 1=%{x}<br>Dimension 2=%{y}<br>concept=%{text}<extra></extra>",
         "legendgroup": "water surface",
         "marker": {
          "color": "#636efa",
          "size": 8,
          "symbol": "circle"
         },
         "mode": "markers+text",
         "name": "water surface",
         "orientation": "v",
         "showlegend": true,
         "text": [
          "surface layer of a water body"
         ],
         "textposition": "top center",
         "type": "scatter",
         "x": [
          0.9703938961029053
         ],
         "xaxis": "x",
         "y": [
          -10.806734085083008
         ],
         "yaxis": "y"
        },
        {
         "hovertemplate": "parent=ecoregion<br>Dimension 1=%{x}<br>Dimension 2=%{y}<br>concept=%{text}<extra></extra>",
         "legendgroup": "ecoregion",
         "marker": {
          "color": "#EF553B",
          "size": 8,
          "symbol": "circle"
         },
         "mode": "markers+text",
         "name": "ecoregion",
         "orientation": "v",
         "showlegend": true,
         "text": [
          "terrestrial ecoregion"
         ],
         "textposition": "top center",
         "type": "scatter",
         "x": [
          2.366057872772217
         ],
         "xaxis": "x",
         "y": [
          3.540390729904175
         ],
         "yaxis": "y"
        },
        {
         "hovertemplate": "parent=marine layer<br>Dimension 1=%{x}<br>Dimension 2=%{y}<br>concept=%{text}<extra></extra>",
         "legendgroup": "marine layer",
         "marker": {
          "color": "#00cc96",
          "size": 8,
          "symbol": "circle"
         },
         "mode": "markers+text",
         "name": "marine layer",
         "orientation": "v",
         "showlegend": true,
         "text": [
          "sea surface layer"
         ],
         "textposition": "top center",
         "type": "scatter",
         "x": [
          1.0198298692703247
         ],
         "xaxis": "x",
         "y": [
          -12.884708404541016
         ],
         "yaxis": "y"
        },
        {
         "hovertemplate": "parent=surface layer of a water body<br>Dimension 1=%{x}<br>Dimension 2=%{y}<br>concept=%{text}<extra></extra>",
         "legendgroup": "surface layer of a water body",
         "marker": {
          "color": "#ab63fa",
          "size": 8,
          "symbol": "circle"
         },
         "mode": "markers+text",
         "name": "surface layer of a water body",
         "orientation": "v",
         "showlegend": true,
         "text": [
          "sea surface layer"
         ],
         "textposition": "top center",
         "type": "scatter",
         "x": [
          0.674643874168396
         ],
         "xaxis": "x",
         "y": [
          -11.855517387390137
         ],
         "yaxis": "y"
        },
        {
         "hovertemplate": "parent=position<br>Dimension 1=%{x}<br>Dimension 2=%{y}<br>concept=%{text}<extra></extra>",
         "legendgroup": "position",
         "marker": {
          "color": "#FFA15A",
          "size": 8,
          "symbol": "circle"
         },
         "mode": "markers+text",
         "name": "position",
         "orientation": "v",
         "showlegend": true,
         "text": [
          "displaced",
          "elevation"
         ],
         "textposition": "top center",
         "type": "scatter",
         "x": [
          50.464115142822266,
          50.5259895324707
         ],
         "xaxis": "x",
         "y": [
          -4.715757846832275,
          -4.630797863006592
         ],
         "yaxis": "y"
        },
        {
         "hovertemplate": "parent=sediment<br>Dimension 1=%{x}<br>Dimension 2=%{y}<br>concept=%{text}<extra></extra>",
         "legendgroup": "sediment",
         "marker": {
          "color": "#19d3f3",
          "size": 8,
          "symbol": "circle"
         },
         "mode": "markers+text",
         "name": "sediment",
         "orientation": "v",
         "showlegend": true,
         "text": [
          "marine sediment"
         ],
         "textposition": "top center",
         "type": "scatter",
         "x": [
          -6.613215446472168
         ],
         "xaxis": "x",
         "y": [
          -23.77355194091797
         ],
         "yaxis": "y"
        },
        {
         "hovertemplate": "parent=material accumulation process<br>Dimension 1=%{x}<br>Dimension 2=%{y}<br>concept=%{text}<extra></extra>",
         "legendgroup": "material accumulation process",
         "marker": {
          "color": "#FF6692",
          "size": 8,
          "symbol": "circle"
         },
         "mode": "markers+text",
         "name": "material accumulation process",
         "orientation": "v",
         "showlegend": true,
         "text": [
          "sedimentation in a water body"
         ],
         "textposition": "top center",
         "type": "scatter",
         "x": [
          -7.424416542053223
         ],
         "xaxis": "x",
         "y": [
          0.6640917658805847
         ],
         "yaxis": "y"
        },
        {
         "hovertemplate": "parent=structure of soil<br>Dimension 1=%{x}<br>Dimension 2=%{y}<br>concept=%{text}<extra></extra>",
         "legendgroup": "structure of soil",
         "marker": {
          "color": "#B6E880",
          "size": 8,
          "symbol": "circle"
         },
         "mode": "markers+text",
         "name": "structure of soil",
         "orientation": "v",
         "showlegend": true,
         "text": [
          "porosity of soil",
          "composition of soil"
         ],
         "textposition": "top center",
         "type": "scatter",
         "x": [
          39.739585876464844,
          39.78239059448242
         ],
         "xaxis": "x",
         "y": [
          -4.677014350891113,
          -3.266465187072754
         ],
         "yaxis": "y"
        },
        {
         "hovertemplate": "parent=permeability<br>Dimension 1=%{x}<br>Dimension 2=%{y}<br>concept=%{text}<extra></extra>",
         "legendgroup": "permeability",
         "marker": {
          "color": "#FF97FF",
          "size": 8,
          "symbol": "circle"
         },
         "mode": "markers+text",
         "name": "permeability",
         "orientation": "v",
         "showlegend": true,
         "text": [
          "porosity"
         ],
         "textposition": "top center",
         "type": "scatter",
         "x": [
          39.82606506347656
         ],
         "xaxis": "x",
         "y": [
          -8.416625022888184
         ],
         "yaxis": "y"
        },
        {
         "hovertemplate": "parent=morphology<br>Dimension 1=%{x}<br>Dimension 2=%{y}<br>concept=%{text}<extra></extra>",
         "legendgroup": "morphology",
         "marker": {
          "color": "#FECB52",
          "size": 8,
          "symbol": "circle"
         },
         "mode": "markers+text",
         "name": "morphology",
         "orientation": "v",
         "showlegend": true,
         "text": [
          "structure",
          "size",
          "shape",
          "amorphous"
         ],
         "textposition": "top center",
         "type": "scatter",
         "x": [
          45.92369842529297,
          47.097713470458984,
          46.87063217163086,
          46.207340240478516
         ],
         "xaxis": "x",
         "y": [
          0.18582014739513397,
          -0.5954218506813049,
          0.2958509624004364,
          -0.6483502388000488
         ],
         "yaxis": "y"
        },
        {
         "hovertemplate": "parent=wetness<br>Dimension 1=%{x}<br>Dimension 2=%{y}<br>concept=%{text}<extra></extra>",
         "legendgroup": "wetness",
         "marker": {
          "color": "#636efa",
          "size": 8,
          "symbol": "circle"
         },
         "mode": "markers+text",
         "name": "wetness",
         "orientation": "v",
         "showlegend": true,
         "text": [
          "wetness of soil",
          "wet"
         ],
         "textposition": "top center",
         "type": "scatter",
         "x": [
          42.66514587402344,
          42.9659309387207
         ],
         "xaxis": "x",
         "y": [
          -7.341853141784668,
          -7.61703634262085
         ],
         "yaxis": "y"
        },
        {
         "hovertemplate": "parent=physical quality<br>Dimension 1=%{x}<br>Dimension 2=%{y}<br>concept=%{text}<extra></extra>",
         "legendgroup": "physical quality",
         "marker": {
          "color": "#EF553B",
          "size": 8,
          "symbol": "circle"
         },
         "mode": "markers+text",
         "name": "physical quality",
         "orientation": "v",
         "showlegend": true,
         "text": [
          "wetness",
          "position",
          "radiation quality",
          "quality of a substance"
         ],
         "textposition": "top center",
         "type": "scatter",
         "x": [
          46.501495361328125,
          48.57630157470703,
          47.062870025634766,
          47.375
         ],
         "xaxis": "x",
         "y": [
          -7.750863552093506,
          -6.779479503631592,
          -8.889005661010742,
          -7.763930320739746
         ],
         "yaxis": "y"
        },
        {
         "hovertemplate": "parent=land mass<br>Dimension 1=%{x}<br>Dimension 2=%{y}<br>concept=%{text}<extra></extra>",
         "legendgroup": "land mass",
         "marker": {
          "color": "#00cc96",
          "size": 8,
          "symbol": "circle"
         },
         "mode": "markers+text",
         "name": "land mass",
         "orientation": "v",
         "showlegend": true,
         "text": [
          "subcontinental land mass",
          "aggregate of contiguous land masses"
         ],
         "textposition": "top center",
         "type": "scatter",
         "x": [
          -20.122709274291992,
          -20.122196197509766
         ],
         "xaxis": "x",
         "y": [
          0.9526292681694031,
          0.9520193338394165
         ],
         "yaxis": "y"
        },
        {
         "hovertemplate": "parent=subcontinental land mass<br>Dimension 1=%{x}<br>Dimension 2=%{y}<br>concept=%{text}<extra></extra>",
         "legendgroup": "subcontinental land mass",
         "marker": {
          "color": "#ab63fa",
          "size": 8,
          "symbol": "circle"
         },
         "mode": "markers+text",
         "name": "subcontinental land mass",
         "orientation": "v",
         "showlegend": true,
         "text": [
          "contiguous land mass",
          "contiguous island land mass"
         ],
         "textposition": "top center",
         "type": "scatter",
         "x": [
          -18.190332412719727,
          -20.146465301513672
         ],
         "xaxis": "x",
         "y": [
          3.430569648742676,
          3.1371469497680664
         ],
         "yaxis": "y"
        },
        {
         "hovertemplate": "parent=aggregate of contiguous land masses<br>Dimension 1=%{x}<br>Dimension 2=%{y}<br>concept=%{text}<extra></extra>",
         "legendgroup": "aggregate of contiguous land masses",
         "marker": {
          "color": "#FFA15A",
          "size": 8,
          "symbol": "circle"
         },
         "mode": "markers+text",
         "name": "aggregate of contiguous land masses",
         "orientation": "v",
         "showlegend": true,
         "text": [
          "aggregate of islands"
         ],
         "textposition": "top center",
         "type": "scatter",
         "x": [
          -19.173677444458008
         ],
         "xaxis": "x",
         "y": [
          1.7622185945510864
         ],
         "yaxis": "y"
        },
        {
         "hovertemplate": "parent=measurement datum<br>Dimension 1=%{x}<br>Dimension 2=%{y}<br>concept=%{text}<extra></extra>",
         "legendgroup": "measurement datum",
         "marker": {
          "color": "#19d3f3",
          "size": 8,
          "symbol": "circle"
         },
         "mode": "markers+text",
         "name": "measurement datum",
         "orientation": "v",
         "showlegend": true,
         "text": [
          "geodetic coordinate measurement datum",
          "scalar measurement datum"
         ],
         "textposition": "top center",
         "type": "scatter",
         "x": [
          -43.93539047241211,
          -40.43233871459961
         ],
         "xaxis": "x",
         "y": [
          -18.068395614624023,
          -2.0662832260131836
         ],
         "yaxis": "y"
        },
        {
         "hovertemplate": "parent=data item<br>Dimension 1=%{x}<br>Dimension 2=%{y}<br>concept=%{text}<extra></extra>",
         "legendgroup": "data item",
         "marker": {
          "color": "#FF6692",
          "size": 8,
          "symbol": "circle"
         },
         "mode": "markers+text",
         "name": "data item",
         "orientation": "v",
         "showlegend": true,
         "text": [
          "measurement datum",
          "data about an ontology part"
         ],
         "textposition": "top center",
         "type": "scatter",
         "x": [
          -44.817115783691406,
          -44.34787368774414
         ],
         "xaxis": "x",
         "y": [
          -2.1013405323028564,
          -2.0892133712768555
         ],
         "yaxis": "y"
        },
        {
         "hovertemplate": "parent=generically dependent continuant<br>Dimension 1=%{x}<br>Dimension 2=%{y}<br>concept=%{text}<extra></extra>",
         "legendgroup": "generically dependent continuant",
         "marker": {
          "color": "#B6E880",
          "size": 8,
          "symbol": "circle"
         },
         "mode": "markers+text",
         "name": "generically dependent continuant",
         "orientation": "v",
         "showlegend": true,
         "text": [
          "information content entity"
         ],
         "textposition": "top center",
         "type": "scatter",
         "x": [
          -28.956602096557617
         ],
         "xaxis": "x",
         "y": [
          -7.372547626495361
         ],
         "yaxis": "y"
        },
        {
         "hovertemplate": "parent=measurement unit label<br>Dimension 1=%{x}<br>Dimension 2=%{y}<br>concept=%{text}<extra></extra>",
         "legendgroup": "measurement unit label",
         "marker": {
          "color": "#FF97FF",
          "size": 8,
          "symbol": "circle"
         },
         "mode": "markers+text",
         "name": "measurement unit label",
         "orientation": "v",
         "showlegend": true,
         "text": [
          "plane angle measurement unit label",
          "area unit"
         ],
         "textposition": "top center",
         "type": "scatter",
         "x": [
          -40.83099365234375,
          -40.84805679321289
         ],
         "xaxis": "x",
         "y": [
          -3.1708967685699463,
          -3.1662614345550537
         ],
         "yaxis": "y"
        },
        {
         "hovertemplate": "parent=population group characteristic<br>Dimension 1=%{x}<br>Dimension 2=%{y}<br>concept=%{text}<extra></extra>",
         "legendgroup": "population group characteristic",
         "marker": {
          "color": "#FECB52",
          "size": 8,
          "symbol": "circle"
         },
         "mode": "markers+text",
         "name": "population group characteristic",
         "orientation": "v",
         "showlegend": true,
         "text": [
          "population size",
          "taille d'une population",
          "tamaño de la población",
          "размер популяции",
          "densidad de población",
          "densité de population",
          "population density",
          "густота популяции"
         ],
         "textposition": "top center",
         "type": "scatter",
         "x": [
          33.155792236328125,
          33.155792236328125,
          33.155792236328125,
          33.155792236328125,
          31.68834686279297,
          31.68834686279297,
          31.68834686279297,
          31.68834686279297
         ],
         "xaxis": "x",
         "y": [
          5.231234550476074,
          5.231234550476074,
          5.231234550476074,
          5.231234550476074,
          3.843902587890625,
          3.843902587890625,
          3.843902587890625,
          3.843902587890625
         ],
         "yaxis": "y"
        },
        {
         "hovertemplate": "parent=data about an ontology part<br>Dimension 1=%{x}<br>Dimension 2=%{y}<br>concept=%{text}<extra></extra>",
         "legendgroup": "data about an ontology part",
         "marker": {
          "color": "#636efa",
          "size": 8,
          "symbol": "circle"
         },
         "mode": "markers+text",
         "name": "data about an ontology part",
         "orientation": "v",
         "showlegend": true,
         "text": [
          "curation status specification",
          "obsolescence reason specification",
          "denotator type",
          "ontology module",
          null,
          null,
          null,
          null,
          null
         ],
         "textposition": "top center",
         "type": "scatter",
         "x": [
          -53.850135803222656,
          -53.340965270996094,
          -51.98415756225586,
          -53.392547607421875,
          -53.18447494506836,
          -52.39200973510742,
          -54.50847244262695,
          -54.3023796081543,
          -52.342933654785156
         ],
         "xaxis": "x",
         "y": [
          -5.439300537109375,
          -6.445775032043457,
          -4.779088973999023,
          -3.124798059463501,
          -4.541934013366699,
          -5.82253885269165,
          -3.3667283058166504,
          -4.460206031799316,
          -3.614781379699707
         ],
         "yaxis": "y"
        },
        {
         "hovertemplate": "parent=ontology module<br>Dimension 1=%{x}<br>Dimension 2=%{y}<br>concept=%{text}<extra></extra>",
         "legendgroup": "ontology module",
         "marker": {
          "color": "#EF553B",
          "size": 8,
          "symbol": "circle"
         },
         "mode": "markers+text",
         "name": "ontology module",
         "orientation": "v",
         "showlegend": true,
         "text": [
          "base ontology module",
          "editors ontology module",
          "main release ontology module",
          "bridge ontology module",
          "subset ontology module",
          "reasoned ontology module",
          "generated ontology module"
         ],
         "textposition": "top center",
         "type": "scatter",
         "x": [
          -56.43292236328125,
          -55.359344482421875,
          -56.405372619628906,
          -56.43292236328125,
          -57.51993942260742,
          -56.43292236328125,
          -56.43292236328125
         ],
         "xaxis": "x",
         "y": [
          -5.560135364532471,
          -6.8357672691345215,
          -7.370792388916016,
          -5.560135364532471,
          -6.599523544311523,
          -5.560135364532471,
          -5.560135364532471
         ],
         "yaxis": "y"
        },
        {
         "hovertemplate": "parent=subset ontology module<br>Dimension 1=%{x}<br>Dimension 2=%{y}<br>concept=%{text}<extra></extra>",
         "legendgroup": "subset ontology module",
         "marker": {
          "color": "#00cc96",
          "size": 8,
          "symbol": "circle"
         },
         "mode": "markers+text",
         "name": "subset ontology module",
         "orientation": "v",
         "showlegend": true,
         "text": [
          "import ontology module",
          "curation subset ontology module",
          "analysis subset ontology module",
          "single layer subset ontology module",
          "exclusion subset ontology module",
          "species subset ontology module",
          "ontology module subsetted by expressivity"
         ],
         "textposition": "top center",
         "type": "scatter",
         "x": [
          -59.535919189453125,
          -59.535919189453125,
          -58.8575325012207,
          -60.40639877319336,
          -60.40639877319336,
          -59.535919189453125,
          -58.8575325012207
         ],
         "xaxis": "x",
         "y": [
          -6.178078651428223,
          -6.178078651428223,
          -4.514875411987305,
          -4.6719536781311035,
          -4.6719536781311035,
          -6.178078651428223,
          -4.514875411987305
         ],
         "yaxis": "y"
        },
        {
         "hovertemplate": "parent=import ontology module<br>Dimension 1=%{x}<br>Dimension 2=%{y}<br>concept=%{text}<extra></extra>",
         "legendgroup": "import ontology module",
         "marker": {
          "color": "#ab63fa",
          "size": 8,
          "symbol": "circle"
         },
         "mode": "markers+text",
         "name": "import ontology module",
         "orientation": "v",
         "showlegend": true,
         "text": [
          "external import ontology module"
         ],
         "textposition": "top center",
         "type": "scatter",
         "x": [
          -57.18311309814453
         ],
         "xaxis": "x",
         "y": [
          -9.24606704711914
         ],
         "yaxis": "y"
        },
        {
         "hovertemplate": "parent=generated ontology module<br>Dimension 1=%{x}<br>Dimension 2=%{y}<br>concept=%{text}<extra></extra>",
         "legendgroup": "generated ontology module",
         "marker": {
          "color": "#FFA15A",
          "size": 8,
          "symbol": "circle"
         },
         "mode": "markers+text",
         "name": "generated ontology module",
         "orientation": "v",
         "showlegend": true,
         "text": [
          "template generated ontology module"
         ],
         "textposition": "top center",
         "type": "scatter",
         "x": [
          -57.772735595703125
         ],
         "xaxis": "x",
         "y": [
          -7.834405422210693
         ],
         "yaxis": "y"
        },
        {
         "hovertemplate": "parent=bridge ontology module<br>Dimension 1=%{x}<br>Dimension 2=%{y}<br>concept=%{text}<extra></extra>",
         "legendgroup": "bridge ontology module",
         "marker": {
          "color": "#19d3f3",
          "size": 8,
          "symbol": "circle"
         },
         "mode": "markers+text",
         "name": "bridge ontology module",
         "orientation": "v",
         "showlegend": true,
         "text": [
          "taxonomic bridge ontology module"
         ],
         "textposition": "top center",
         "type": "scatter",
         "x": [
          -55.119651794433594
         ],
         "xaxis": "x",
         "y": [
          -8.59495735168457
         ],
         "yaxis": "y"
        },
        {
         "hovertemplate": "parent=ontology module subsetted by expressivity<br>Dimension 1=%{x}<br>Dimension 2=%{y}<br>concept=%{text}<extra></extra>",
         "legendgroup": "ontology module subsetted by expressivity",
         "marker": {
          "color": "#FF6692",
          "size": 8,
          "symbol": "circle"
         },
         "mode": "markers+text",
         "name": "ontology module subsetted by expressivity",
         "orientation": "v",
         "showlegend": true,
         "text": [
          "obo basic subset ontology module",
          "ontology module subsetted by owl profile"
         ],
         "textposition": "top center",
         "type": "scatter",
         "x": [
          -57.140079498291016,
          -57.140079498291016
         ],
         "xaxis": "x",
         "y": [
          -3.414187431335449,
          -3.414187431335449
         ],
         "yaxis": "y"
        },
        {
         "hovertemplate": "parent=ontology module subsetted by owl profile<br>Dimension 1=%{x}<br>Dimension 2=%{y}<br>concept=%{text}<extra></extra>",
         "legendgroup": "ontology module subsetted by owl profile",
         "marker": {
          "color": "#B6E880",
          "size": 8,
          "symbol": "circle"
         },
         "mode": "markers+text",
         "name": "ontology module subsetted by owl profile",
         "orientation": "v",
         "showlegend": true,
         "text": [
          "el++ ontology module"
         ],
         "textposition": "top center",
         "type": "scatter",
         "x": [
          -59.47121047973633
         ],
         "xaxis": "x",
         "y": [
          -8.593412399291992
         ],
         "yaxis": "y"
        },
        {
         "hovertemplate": "parent=cyclostomata<br>Dimension 1=%{x}<br>Dimension 2=%{y}<br>concept=%{text}<extra></extra>",
         "legendgroup": "cyclostomata",
         "marker": {
          "color": "#FF97FF",
          "size": 8,
          "symbol": "circle"
         },
         "mode": "markers+text",
         "name": "cyclostomata",
         "orientation": "v",
         "showlegend": true,
         "text": [
          "myxini",
          "hyperoartia"
         ],
         "textposition": "top center",
         "type": "scatter",
         "x": [
          -51.857608795166016,
          -51.857608795166016
         ],
         "xaxis": "x",
         "y": [
          17.995758056640625,
          17.995758056640625
         ],
         "yaxis": "y"
        },
        {
         "hovertemplate": "parent=pisces<br>Dimension 1=%{x}<br>Dimension 2=%{y}<br>concept=%{text}<extra></extra>",
         "legendgroup": "pisces",
         "marker": {
          "color": "#FECB52",
          "size": 8,
          "symbol": "circle"
         },
         "mode": "markers+text",
         "name": "pisces",
         "orientation": "v",
         "showlegend": true,
         "text": [
          "cyclostomata",
          "dipnomorpha",
          "chondrichthyes",
          "actinopterygii"
         ],
         "textposition": "top center",
         "type": "scatter",
         "x": [
          -46.620567321777344,
          -46.620567321777344,
          -46.620567321777344,
          -45.90966796875
         ],
         "xaxis": "x",
         "y": [
          -11.26339054107666,
          -11.26339054107666,
          -11.26339054107666,
          -10.62346076965332
         ],
         "yaxis": "y"
        },
        {
         "hovertemplate": "parent=gnathostomata <vertebrate><br>Dimension 1=%{x}<br>Dimension 2=%{y}<br>concept=%{text}<extra></extra>",
         "legendgroup": "gnathostomata <vertebrate>",
         "marker": {
          "color": "#636efa",
          "size": 8,
          "symbol": "circle"
         },
         "mode": "markers+text",
         "name": "gnathostomata <vertebrate>",
         "orientation": "v",
         "showlegend": true,
         "text": [
          "teleostomi",
          "chondrichthyes"
         ],
         "textposition": "top center",
         "type": "scatter",
         "x": [
          -34.808231353759766,
          -34.808231353759766
         ],
         "xaxis": "x",
         "y": [
          23.20332908630371,
          23.20332908630371
         ],
         "yaxis": "y"
        },
        {
         "hovertemplate": "parent=vertebrata <metazoa><br>Dimension 1=%{x}<br>Dimension 2=%{y}<br>concept=%{text}<extra></extra>",
         "legendgroup": "vertebrata <metazoa>",
         "marker": {
          "color": "#EF553B",
          "size": 8,
          "symbol": "circle"
         },
         "mode": "markers+text",
         "name": "vertebrata <metazoa>",
         "orientation": "v",
         "showlegend": true,
         "text": [
          "gnathostomata <vertebrate>",
          "reptilia",
          "pisces"
         ],
         "textposition": "top center",
         "type": "scatter",
         "x": [
          -38.01292419433594,
          -38.01292419433594,
          -38.01292419433594
         ],
         "xaxis": "x",
         "y": [
          26.085067749023438,
          26.085067749023438,
          26.085067749023438
         ],
         "yaxis": "y"
        },
        {
         "hovertemplate": "parent=teleostomi<br>Dimension 1=%{x}<br>Dimension 2=%{y}<br>concept=%{text}<extra></extra>",
         "legendgroup": "teleostomi",
         "marker": {
          "color": "#00cc96",
          "size": 8,
          "symbol": "circle"
         },
         "mode": "markers+text",
         "name": "teleostomi",
         "orientation": "v",
         "showlegend": true,
         "text": [
          "euteleostomi"
         ],
         "textposition": "top center",
         "type": "scatter",
         "x": [
          -37.30840301513672
         ],
         "xaxis": "x",
         "y": [
          9.285974502563477
         ],
         "yaxis": "y"
        },
        {
         "hovertemplate": "parent=protostomia<br>Dimension 1=%{x}<br>Dimension 2=%{y}<br>concept=%{text}<extra></extra>",
         "legendgroup": "protostomia",
         "marker": {
          "color": "#ab63fa",
          "size": 8,
          "symbol": "circle"
         },
         "mode": "markers+text",
         "name": "protostomia",
         "orientation": "v",
         "showlegend": true,
         "text": [
          "ecdysozoa",
          "spiralia"
         ],
         "textposition": "top center",
         "type": "scatter",
         "x": [
          -34.33450698852539,
          -34.33450698852539
         ],
         "xaxis": "x",
         "y": [
          7.467111110687256,
          7.467111110687256
         ],
         "yaxis": "y"
        },
        {
         "hovertemplate": "parent=bilateria<br>Dimension 1=%{x}<br>Dimension 2=%{y}<br>concept=%{text}<extra></extra>",
         "legendgroup": "bilateria",
         "marker": {
          "color": "#FFA15A",
          "size": 8,
          "symbol": "circle"
         },
         "mode": "markers+text",
         "name": "bilateria",
         "orientation": "v",
         "showlegend": true,
         "text": [
          "protostomia",
          "deuterostomia"
         ],
         "textposition": "top center",
         "type": "scatter",
         "x": [
          -45.583961486816406,
          -45.583961486816406
         ],
         "xaxis": "x",
         "y": [
          12.846147537231445,
          12.846147537231445
         ],
         "yaxis": "y"
        },
        {
         "hovertemplate": "parent=spiralia<br>Dimension 1=%{x}<br>Dimension 2=%{y}<br>concept=%{text}<extra></extra>",
         "legendgroup": "spiralia",
         "marker": {
          "color": "#19d3f3",
          "size": 8,
          "symbol": "circle"
         },
         "mode": "markers+text",
         "name": "spiralia",
         "orientation": "v",
         "showlegend": true,
         "text": [
          "lophotrochozoa"
         ],
         "textposition": "top center",
         "type": "scatter",
         "x": [
          -42.34968948364258
         ],
         "xaxis": "x",
         "y": [
          4.688692092895508
         ],
         "yaxis": "y"
        },
        {
         "hovertemplate": "parent=archosauria<br>Dimension 1=%{x}<br>Dimension 2=%{y}<br>concept=%{text}<extra></extra>",
         "legendgroup": "archosauria",
         "marker": {
          "color": "#FF6692",
          "size": 8,
          "symbol": "circle"
         },
         "mode": "markers+text",
         "name": "archosauria",
         "orientation": "v",
         "showlegend": true,
         "text": [
          "crocodylia",
          "dinosauria"
         ],
         "textposition": "top center",
         "type": "scatter",
         "x": [
          -32.89046096801758,
          -32.89046096801758
         ],
         "xaxis": "x",
         "y": [
          15.489551544189453,
          15.489551544189453
         ],
         "yaxis": "y"
        },
        {
         "hovertemplate": "parent=reptilia<br>Dimension 1=%{x}<br>Dimension 2=%{y}<br>concept=%{text}<extra></extra>",
         "legendgroup": "reptilia",
         "marker": {
          "color": "#B6E880",
          "size": 8,
          "symbol": "circle"
         },
         "mode": "markers+text",
         "name": "reptilia",
         "orientation": "v",
         "showlegend": true,
         "text": [
          "crocodylia",
          "testudines",
          "lepidosauria"
         ],
         "textposition": "top center",
         "type": "scatter",
         "x": [
          -45.77456283569336,
          -46.29766845703125,
          -46.35334777832031
         ],
         "xaxis": "x",
         "y": [
          8.790216445922852,
          8.391006469726562,
          9.018080711364746
         ],
         "yaxis": "y"
        },
        {
         "hovertemplate": "parent=archelosauria<br>Dimension 1=%{x}<br>Dimension 2=%{y}<br>concept=%{text}<extra></extra>",
         "legendgroup": "archelosauria",
         "marker": {
          "color": "#FF97FF",
          "size": 8,
          "symbol": "circle"
         },
         "mode": "markers+text",
         "name": "archelosauria",
         "orientation": "v",
         "showlegend": true,
         "text": [
          "archosauria",
          "testudinata"
         ],
         "textposition": "top center",
         "type": "scatter",
         "x": [
          -35.05033493041992,
          -35.0506591796875
         ],
         "xaxis": "x",
         "y": [
          14.632493019104004,
          14.633485794067383
         ],
         "yaxis": "y"
        },
        {
         "hovertemplate": "parent=streptophyta<br>Dimension 1=%{x}<br>Dimension 2=%{y}<br>concept=%{text}<extra></extra>",
         "legendgroup": "streptophyta",
         "marker": {
          "color": "#FECB52",
          "size": 8,
          "symbol": "circle"
         },
         "mode": "markers+text",
         "name": "streptophyta",
         "orientation": "v",
         "showlegend": true,
         "text": [
          "streptophytina"
         ],
         "textposition": "top center",
         "type": "scatter",
         "x": [
          -46.674251556396484
         ],
         "xaxis": "x",
         "y": [
          20.235990524291992
         ],
         "yaxis": "y"
        },
        {
         "hovertemplate": "parent=viridiplantae<br>Dimension 1=%{x}<br>Dimension 2=%{y}<br>concept=%{text}<extra></extra>",
         "legendgroup": "viridiplantae",
         "marker": {
          "color": "#636efa",
          "size": 8,
          "symbol": "circle"
         },
         "mode": "markers+text",
         "name": "viridiplantae",
         "orientation": "v",
         "showlegend": true,
         "text": [
          "streptophyta",
          "chlorophyta"
         ],
         "textposition": "top center",
         "type": "scatter",
         "x": [
          -45.65398406982422,
          -45.65398406982422
         ],
         "xaxis": "x",
         "y": [
          24.979793548583984,
          24.979793548583984
         ],
         "yaxis": "y"
        },
        {
         "hovertemplate": "parent=sauria<br>Dimension 1=%{x}<br>Dimension 2=%{y}<br>concept=%{text}<extra></extra>",
         "legendgroup": "sauria",
         "marker": {
          "color": "#EF553B",
          "size": 8,
          "symbol": "circle"
         },
         "mode": "markers+text",
         "name": "sauria",
         "orientation": "v",
         "showlegend": true,
         "text": [
          "archelosauria",
          "lepidosauria"
         ],
         "textposition": "top center",
         "type": "scatter",
         "x": [
          -51.70429229736328,
          -51.70443344116211
         ],
         "xaxis": "x",
         "y": [
          11.019475936889648,
          11.01940631866455
         ],
         "yaxis": "y"
        },
        {
         "hovertemplate": "parent=sauropsida<br>Dimension 1=%{x}<br>Dimension 2=%{y}<br>concept=%{text}<extra></extra>",
         "legendgroup": "sauropsida",
         "marker": {
          "color": "#00cc96",
          "size": 8,
          "symbol": "circle"
         },
         "mode": "markers+text",
         "name": "sauropsida",
         "orientation": "v",
         "showlegend": true,
         "text": [
          "sauria"
         ],
         "textposition": "top center",
         "type": "scatter",
         "x": [
          -50.931358337402344
         ],
         "xaxis": "x",
         "y": [
          12.820456504821777
         ],
         "yaxis": "y"
        },
        {
         "hovertemplate": "parent=sarcopterygii<br>Dimension 1=%{x}<br>Dimension 2=%{y}<br>concept=%{text}<extra></extra>",
         "legendgroup": "sarcopterygii",
         "marker": {
          "color": "#ab63fa",
          "size": 8,
          "symbol": "circle"
         },
         "mode": "markers+text",
         "name": "sarcopterygii",
         "orientation": "v",
         "showlegend": true,
         "text": [
          "dipnotetrapodomorpha"
         ],
         "textposition": "top center",
         "type": "scatter",
         "x": [
          -47.85953903198242
         ],
         "xaxis": "x",
         "y": [
          3.405305862426758
         ],
         "yaxis": "y"
        },
        {
         "hovertemplate": "parent=euteleostomi<br>Dimension 1=%{x}<br>Dimension 2=%{y}<br>concept=%{text}<extra></extra>",
         "legendgroup": "euteleostomi",
         "marker": {
          "color": "#FFA15A",
          "size": 8,
          "symbol": "circle"
         },
         "mode": "markers+text",
         "name": "euteleostomi",
         "orientation": "v",
         "showlegend": true,
         "text": [
          "sarcopterygii",
          "actinopterygii"
         ],
         "textposition": "top center",
         "type": "scatter",
         "x": [
          -38.457061767578125,
          -38.45700454711914
         ],
         "xaxis": "x",
         "y": [
          10.330167770385742,
          10.330168724060059
         ],
         "yaxis": "y"
        },
        {
         "hovertemplate": "parent=rhizaria<br>Dimension 1=%{x}<br>Dimension 2=%{y}<br>concept=%{text}<extra></extra>",
         "legendgroup": "rhizaria",
         "marker": {
          "color": "#19d3f3",
          "size": 8,
          "symbol": "circle"
         },
         "mode": "markers+text",
         "name": "rhizaria",
         "orientation": "v",
         "showlegend": true,
         "text": [
          "cercozoa"
         ],
         "textposition": "top center",
         "type": "scatter",
         "x": [
          -48.54130172729492
         ],
         "xaxis": "x",
         "y": [
          11.12509822845459
         ],
         "yaxis": "y"
        },
        {
         "hovertemplate": "parent=sar<br>Dimension 1=%{x}<br>Dimension 2=%{y}<br>concept=%{text}<extra></extra>",
         "legendgroup": "sar",
         "marker": {
          "color": "#FF6692",
          "size": 8,
          "symbol": "circle"
         },
         "mode": "markers+text",
         "name": "sar",
         "orientation": "v",
         "showlegend": true,
         "text": [
          "rhizaria",
          "alveolata",
          "stramenopiles"
         ],
         "textposition": "top center",
         "type": "scatter",
         "x": [
          -47.197608947753906,
          -46.607723236083984,
          -46.643768310546875
         ],
         "xaxis": "x",
         "y": [
          1.9499351978302002,
          1.7483150959014893,
          2.3500332832336426
         ],
         "yaxis": "y"
        },
        {
         "hovertemplate": "parent=eutheria<br>Dimension 1=%{x}<br>Dimension 2=%{y}<br>concept=%{text}<extra></extra>",
         "legendgroup": "eutheria",
         "marker": {
          "color": "#B6E880",
          "size": 8,
          "symbol": "circle"
         },
         "mode": "markers+text",
         "name": "eutheria",
         "orientation": "v",
         "showlegend": true,
         "text": [
          "boreoeutheria"
         ],
         "textposition": "top center",
         "type": "scatter",
         "x": [
          -38.985557556152344
         ],
         "xaxis": "x",
         "y": [
          11.892607688903809
         ],
         "yaxis": "y"
        },
        {
         "hovertemplate": "parent=theria <mammalia><br>Dimension 1=%{x}<br>Dimension 2=%{y}<br>concept=%{text}<extra></extra>",
         "legendgroup": "theria <mammalia>",
         "marker": {
          "color": "#FF97FF",
          "size": 8,
          "symbol": "circle"
         },
         "mode": "markers+text",
         "name": "theria <mammalia>",
         "orientation": "v",
         "showlegend": true,
         "text": [
          "eutheria"
         ],
         "textposition": "top center",
         "type": "scatter",
         "x": [
          -34.903472900390625
         ],
         "xaxis": "x",
         "y": [
          12.017997741699219
         ],
         "yaxis": "y"
        },
        {
         "hovertemplate": "parent=mandibulata<br>Dimension 1=%{x}<br>Dimension 2=%{y}<br>concept=%{text}<extra></extra>",
         "legendgroup": "mandibulata",
         "marker": {
          "color": "#FECB52",
          "size": 8,
          "symbol": "circle"
         },
         "mode": "markers+text",
         "name": "mandibulata",
         "orientation": "v",
         "showlegend": true,
         "text": [
          "pancrustacea"
         ],
         "textposition": "top center",
         "type": "scatter",
         "x": [
          -35.44581985473633
         ],
         "xaxis": "x",
         "y": [
          17.725399017333984
         ],
         "yaxis": "y"
        },
        {
         "hovertemplate": "parent=arthropoda<br>Dimension 1=%{x}<br>Dimension 2=%{y}<br>concept=%{text}<extra></extra>",
         "legendgroup": "arthropoda",
         "marker": {
          "color": "#636efa",
          "size": 8,
          "symbol": "circle"
         },
         "mode": "markers+text",
         "name": "arthropoda",
         "orientation": "v",
         "showlegend": true,
         "text": [
          "mandibulata"
         ],
         "textposition": "top center",
         "type": "scatter",
         "x": [
          -37.19599151611328
         ],
         "xaxis": "x",
         "y": [
          16.58911895751953
         ],
         "yaxis": "y"
        },
        {
         "hovertemplate": "parent=panarthropoda<br>Dimension 1=%{x}<br>Dimension 2=%{y}<br>concept=%{text}<extra></extra>",
         "legendgroup": "panarthropoda",
         "marker": {
          "color": "#EF553B",
          "size": 8,
          "symbol": "circle"
         },
         "mode": "markers+text",
         "name": "panarthropoda",
         "orientation": "v",
         "showlegend": true,
         "text": [
          "arthropoda"
         ],
         "textposition": "top center",
         "type": "scatter",
         "x": [
          -40.76430130004883
         ],
         "xaxis": "x",
         "y": [
          21.42080307006836
         ],
         "yaxis": "y"
        },
        {
         "hovertemplate": "parent=hominidae<br>Dimension 1=%{x}<br>Dimension 2=%{y}<br>concept=%{text}<extra></extra>",
         "legendgroup": "hominidae",
         "marker": {
          "color": "#00cc96",
          "size": 8,
          "symbol": "circle"
         },
         "mode": "markers+text",
         "name": "hominidae",
         "orientation": "v",
         "showlegend": true,
         "text": [
          "homininae"
         ],
         "textposition": "top center",
         "type": "scatter",
         "x": [
          -37.66147232055664
         ],
         "xaxis": "x",
         "y": [
          19.225051879882812
         ],
         "yaxis": "y"
        },
        {
         "hovertemplate": "parent=hominoidea<br>Dimension 1=%{x}<br>Dimension 2=%{y}<br>concept=%{text}<extra></extra>",
         "legendgroup": "hominoidea",
         "marker": {
          "color": "#ab63fa",
          "size": 8,
          "symbol": "circle"
         },
         "mode": "markers+text",
         "name": "hominoidea",
         "orientation": "v",
         "showlegend": true,
         "text": [
          "hominidae"
         ],
         "textposition": "top center",
         "type": "scatter",
         "x": [
          -37.82292938232422
         ],
         "xaxis": "x",
         "y": [
          20.4353084564209
         ],
         "yaxis": "y"
        },
        {
         "hovertemplate": "parent=eukaryota<br>Dimension 1=%{x}<br>Dimension 2=%{y}<br>concept=%{text}<extra></extra>",
         "legendgroup": "eukaryota",
         "marker": {
          "color": "#FFA15A",
          "size": 8,
          "symbol": "circle"
         },
         "mode": "markers+text",
         "name": "eukaryota",
         "orientation": "v",
         "showlegend": true,
         "text": [
          "haptista",
          "discoba",
          "sar",
          "rhodophyta",
          "cryptophyceae",
          "viridiplantae",
          "opisthokonta",
          "glaucocystophyceae"
         ],
         "textposition": "top center",
         "type": "scatter",
         "x": [
          -41.696861267089844,
          -41.29654312133789,
          -40.24830627441406,
          -41.696861267089844,
          -41.696861267089844,
          -41.696861267089844,
          -41.696861267089844,
          -41.696861267089844
         ],
         "xaxis": "x",
         "y": [
          13.40986156463623,
          12.020715713500977,
          13.624969482421875,
          13.40986156463623,
          13.40986156463623,
          13.40986156463623,
          13.40986156463623,
          13.40986156463623
         ],
         "yaxis": "y"
        },
        {
         "hovertemplate": "parent=algae<br>Dimension 1=%{x}<br>Dimension 2=%{y}<br>concept=%{text}<extra></extra>",
         "legendgroup": "algae",
         "marker": {
          "color": "#19d3f3",
          "size": 8,
          "symbol": "circle"
         },
         "mode": "markers+text",
         "name": "algae",
         "orientation": "v",
         "showlegend": true,
         "text": [
          "rhodophyta",
          "cryptophyceae",
          "glaucocystophyceae",
          "haptophyta",
          "dinophyceae",
          "chlorarachniophyceae",
          "euglenida",
          "chlorophyta",
          "stramenopiles"
         ],
         "textposition": "top center",
         "type": "scatter",
         "x": [
          -28.903200149536133,
          -27.835721969604492,
          -28.108957290649414,
          -29.590055465698242,
          -29.339136123657227,
          -28.400588989257812,
          -30.171127319335938,
          -30.421249389648438,
          -29.313039779663086
         ],
         "xaxis": "x",
         "y": [
          12.487262725830078,
          11.978492736816406,
          13.184633255004883,
          10.71679401397705,
          13.518742561340332,
          11.00217056274414,
          12.751004219055176,
          11.658699035644531,
          11.7471284866333
         ],
         "yaxis": "y"
        },
        {
         "hovertemplate": "parent=haptista<br>Dimension 1=%{x}<br>Dimension 2=%{y}<br>concept=%{text}<extra></extra>",
         "legendgroup": "haptista",
         "marker": {
          "color": "#FF6692",
          "size": 8,
          "symbol": "circle"
         },
         "mode": "markers+text",
         "name": "haptista",
         "orientation": "v",
         "showlegend": true,
         "text": [
          "haptophyta"
         ],
         "textposition": "top center",
         "type": "scatter",
         "x": [
          -51.430362701416016
         ],
         "xaxis": "x",
         "y": [
          6.7554802894592285
         ],
         "yaxis": "y"
        },
        {
         "hovertemplate": "parent=alveolata<br>Dimension 1=%{x}<br>Dimension 2=%{y}<br>concept=%{text}<extra></extra>",
         "legendgroup": "alveolata",
         "marker": {
          "color": "#B6E880",
          "size": 8,
          "symbol": "circle"
         },
         "mode": "markers+text",
         "name": "alveolata",
         "orientation": "v",
         "showlegend": true,
         "text": [
          "dinophyceae"
         ],
         "textposition": "top center",
         "type": "scatter",
         "x": [
          -40.22480773925781
         ],
         "xaxis": "x",
         "y": [
          9.89596939086914
         ],
         "yaxis": "y"
        },
        {
         "hovertemplate": "parent=cercozoa<br>Dimension 1=%{x}<br>Dimension 2=%{y}<br>concept=%{text}<extra></extra>",
         "legendgroup": "cercozoa",
         "marker": {
          "color": "#FF97FF",
          "size": 8,
          "symbol": "circle"
         },
         "mode": "markers+text",
         "name": "cercozoa",
         "orientation": "v",
         "showlegend": true,
         "text": [
          "chlorarachniophyceae"
         ],
         "textposition": "top center",
         "type": "scatter",
         "x": [
          -43.26940155029297
         ],
         "xaxis": "x",
         "y": [
          17.252521514892578
         ],
         "yaxis": "y"
        },
        {
         "hovertemplate": "parent=euglenozoa<br>Dimension 1=%{x}<br>Dimension 2=%{y}<br>concept=%{text}<extra></extra>",
         "legendgroup": "euglenozoa",
         "marker": {
          "color": "#FECB52",
          "size": 8,
          "symbol": "circle"
         },
         "mode": "markers+text",
         "name": "euglenozoa",
         "orientation": "v",
         "showlegend": true,
         "text": [
          "euglenida"
         ],
         "textposition": "top center",
         "type": "scatter",
         "x": [
          -42.618717193603516
         ],
         "xaxis": "x",
         "y": [
          16.068639755249023
         ],
         "yaxis": "y"
        },
        {
         "hovertemplate": "parent=discoba<br>Dimension 1=%{x}<br>Dimension 2=%{y}<br>concept=%{text}<extra></extra>",
         "legendgroup": "discoba",
         "marker": {
          "color": "#636efa",
          "size": 8,
          "symbol": "circle"
         },
         "mode": "markers+text",
         "name": "discoba",
         "orientation": "v",
         "showlegend": true,
         "text": [
          "euglenozoa"
         ],
         "textposition": "top center",
         "type": "scatter",
         "x": [
          -39.21224594116211
         ],
         "xaxis": "x",
         "y": [
          4.52921724319458
         ],
         "yaxis": "y"
        },
        {
         "hovertemplate": "parent=boreoeutheria<br>Dimension 1=%{x}<br>Dimension 2=%{y}<br>concept=%{text}<extra></extra>",
         "legendgroup": "boreoeutheria",
         "marker": {
          "color": "#EF553B",
          "size": 8,
          "symbol": "circle"
         },
         "mode": "markers+text",
         "name": "boreoeutheria",
         "orientation": "v",
         "showlegend": true,
         "text": [
          "euarchontoglires"
         ],
         "textposition": "top center",
         "type": "scatter",
         "x": [
          -37.32768630981445
         ],
         "xaxis": "x",
         "y": [
          2.8084716796875
         ],
         "yaxis": "y"
        },
        {
         "hovertemplate": "parent=haplorrhini<br>Dimension 1=%{x}<br>Dimension 2=%{y}<br>concept=%{text}<extra></extra>",
         "legendgroup": "haplorrhini",
         "marker": {
          "color": "#00cc96",
          "size": 8,
          "symbol": "circle"
         },
         "mode": "markers+text",
         "name": "haplorrhini",
         "orientation": "v",
         "showlegend": true,
         "text": [
          "simiiformes"
         ],
         "textposition": "top center",
         "type": "scatter",
         "x": [
          -51.32779312133789
         ],
         "xaxis": "x",
         "y": [
          6.6033148765563965
         ],
         "yaxis": "y"
        },
        {
         "hovertemplate": "parent=primates<br>Dimension 1=%{x}<br>Dimension 2=%{y}<br>concept=%{text}<extra></extra>",
         "legendgroup": "primates",
         "marker": {
          "color": "#ab63fa",
          "size": 8,
          "symbol": "circle"
         },
         "mode": "markers+text",
         "name": "primates",
         "orientation": "v",
         "showlegend": true,
         "text": [
          "haplorrhini"
         ],
         "textposition": "top center",
         "type": "scatter",
         "x": [
          -34.344482421875
         ],
         "xaxis": "x",
         "y": [
          10.33971881866455
         ],
         "yaxis": "y"
        },
        {
         "hovertemplate": "parent=catarrhini<br>Dimension 1=%{x}<br>Dimension 2=%{y}<br>concept=%{text}<extra></extra>",
         "legendgroup": "catarrhini",
         "marker": {
          "color": "#FFA15A",
          "size": 8,
          "symbol": "circle"
         },
         "mode": "markers+text",
         "name": "catarrhini",
         "orientation": "v",
         "showlegend": true,
         "text": [
          "hominoidea"
         ],
         "textposition": "top center",
         "type": "scatter",
         "x": [
          -37.53568649291992
         ],
         "xaxis": "x",
         "y": [
          6.765022277832031
         ],
         "yaxis": "y"
        },
        {
         "hovertemplate": "parent=simiiformes<br>Dimension 1=%{x}<br>Dimension 2=%{y}<br>concept=%{text}<extra></extra>",
         "legendgroup": "simiiformes",
         "marker": {
          "color": "#19d3f3",
          "size": 8,
          "symbol": "circle"
         },
         "mode": "markers+text",
         "name": "simiiformes",
         "orientation": "v",
         "showlegend": true,
         "text": [
          "catarrhini"
         ],
         "textposition": "top center",
         "type": "scatter",
         "x": [
          -39.488426208496094
         ],
         "xaxis": "x",
         "y": [
          2.7839107513427734
         ],
         "yaxis": "y"
        },
        {
         "hovertemplate": "parent=streptophytina<br>Dimension 1=%{x}<br>Dimension 2=%{y}<br>concept=%{text}<extra></extra>",
         "legendgroup": "streptophytina",
         "marker": {
          "color": "#FF6692",
          "size": 8,
          "symbol": "circle"
         },
         "mode": "markers+text",
         "name": "streptophytina",
         "orientation": "v",
         "showlegend": true,
         "text": [
          "embryophyta"
         ],
         "textposition": "top center",
         "type": "scatter",
         "x": [
          -46.6478157043457
         ],
         "xaxis": "x",
         "y": [
          20.233545303344727
         ],
         "yaxis": "y"
        },
        {
         "hovertemplate": "parent=dipnotetrapodomorpha<br>Dimension 1=%{x}<br>Dimension 2=%{y}<br>concept=%{text}<extra></extra>",
         "legendgroup": "dipnotetrapodomorpha",
         "marker": {
          "color": "#B6E880",
          "size": 8,
          "symbol": "circle"
         },
         "mode": "markers+text",
         "name": "dipnotetrapodomorpha",
         "orientation": "v",
         "showlegend": true,
         "text": [
          "tetrapoda",
          "dipnomorpha"
         ],
         "textposition": "top center",
         "type": "scatter",
         "x": [
          -47.736785888671875,
          -47.737606048583984
         ],
         "xaxis": "x",
         "y": [
          16.570384979248047,
          16.569883346557617
         ],
         "yaxis": "y"
        },
        {
         "hovertemplate": "parent=tetrapoda<br>Dimension 1=%{x}<br>Dimension 2=%{y}<br>concept=%{text}<extra></extra>",
         "legendgroup": "tetrapoda",
         "marker": {
          "color": "#FF97FF",
          "size": 8,
          "symbol": "circle"
         },
         "mode": "markers+text",
         "name": "tetrapoda",
         "orientation": "v",
         "showlegend": true,
         "text": [
          "amniota",
          "amphibia"
         ],
         "textposition": "top center",
         "type": "scatter",
         "x": [
          -32.18980407714844,
          -32.190345764160156
         ],
         "xaxis": "x",
         "y": [
          19.280073165893555,
          19.279556274414062
         ],
         "yaxis": "y"
        },
        {
         "hovertemplate": "parent=mammalia<br>Dimension 1=%{x}<br>Dimension 2=%{y}<br>concept=%{text}<extra></extra>",
         "legendgroup": "mammalia",
         "marker": {
          "color": "#FECB52",
          "size": 8,
          "symbol": "circle"
         },
         "mode": "markers+text",
         "name": "mammalia",
         "orientation": "v",
         "showlegend": true,
         "text": [
          "theria <mammalia>"
         ],
         "textposition": "top center",
         "type": "scatter",
         "x": [
          -34.775028228759766
         ],
         "xaxis": "x",
         "y": [
          11.676961898803711
         ],
         "yaxis": "y"
        },
        {
         "hovertemplate": "parent=amniota<br>Dimension 1=%{x}<br>Dimension 2=%{y}<br>concept=%{text}<extra></extra>",
         "legendgroup": "amniota",
         "marker": {
          "color": "#636efa",
          "size": 8,
          "symbol": "circle"
         },
         "mode": "markers+text",
         "name": "amniota",
         "orientation": "v",
         "showlegend": true,
         "text": [
          "mammalia",
          "sauropsida"
         ],
         "textposition": "top center",
         "type": "scatter",
         "x": [
          -42.17469787597656,
          -42.174434661865234
         ],
         "xaxis": "x",
         "y": [
          8.591384887695312,
          8.591242790222168
         ],
         "yaxis": "y"
        },
        {
         "hovertemplate": "parent=opisthokonta<br>Dimension 1=%{x}<br>Dimension 2=%{y}<br>concept=%{text}<extra></extra>",
         "legendgroup": "opisthokonta",
         "marker": {
          "color": "#EF553B",
          "size": 8,
          "symbol": "circle"
         },
         "mode": "markers+text",
         "name": "opisthokonta",
         "orientation": "v",
         "showlegend": true,
         "text": [
          "bilateria",
          "fungi"
         ],
         "textposition": "top center",
         "type": "scatter",
         "x": [
          -50.87971115112305,
          -50.87971115112305
         ],
         "xaxis": "x",
         "y": [
          22.94135856628418,
          22.94135856628418
         ],
         "yaxis": "y"
        },
        {
         "hovertemplate": "parent=euarchontoglires<br>Dimension 1=%{x}<br>Dimension 2=%{y}<br>concept=%{text}<extra></extra>",
         "legendgroup": "euarchontoglires",
         "marker": {
          "color": "#00cc96",
          "size": 8,
          "symbol": "circle"
         },
         "mode": "markers+text",
         "name": "euarchontoglires",
         "orientation": "v",
         "showlegend": true,
         "text": [
          "primates"
         ],
         "textposition": "top center",
         "type": "scatter",
         "x": [
          -37.57797622680664
         ],
         "xaxis": "x",
         "y": [
          11.638107299804688
         ],
         "yaxis": "y"
        },
        {
         "hovertemplate": "parent=dinosauria<br>Dimension 1=%{x}<br>Dimension 2=%{y}<br>concept=%{text}<extra></extra>",
         "legendgroup": "dinosauria",
         "marker": {
          "color": "#ab63fa",
          "size": 8,
          "symbol": "circle"
         },
         "mode": "markers+text",
         "name": "dinosauria",
         "orientation": "v",
         "showlegend": true,
         "text": [
          "saurischia"
         ],
         "textposition": "top center",
         "type": "scatter",
         "x": [
          -36.31960678100586
         ],
         "xaxis": "x",
         "y": [
          14.276850700378418
         ],
         "yaxis": "y"
        },
        {
         "hovertemplate": "parent=saurischia<br>Dimension 1=%{x}<br>Dimension 2=%{y}<br>concept=%{text}<extra></extra>",
         "legendgroup": "saurischia",
         "marker": {
          "color": "#FFA15A",
          "size": 8,
          "symbol": "circle"
         },
         "mode": "markers+text",
         "name": "saurischia",
         "orientation": "v",
         "showlegend": true,
         "text": [
          "theropoda"
         ],
         "textposition": "top center",
         "type": "scatter",
         "x": [
          -50.558258056640625
         ],
         "xaxis": "x",
         "y": [
          11.898077964782715
         ],
         "yaxis": "y"
        },
        {
         "hovertemplate": "parent=theropoda<br>Dimension 1=%{x}<br>Dimension 2=%{y}<br>concept=%{text}<extra></extra>",
         "legendgroup": "theropoda",
         "marker": {
          "color": "#19d3f3",
          "size": 8,
          "symbol": "circle"
         },
         "mode": "markers+text",
         "name": "theropoda",
         "orientation": "v",
         "showlegend": true,
         "text": [
          "coelurosauria"
         ],
         "textposition": "top center",
         "type": "scatter",
         "x": [
          -37.19324493408203
         ],
         "xaxis": "x",
         "y": [
          16.11461067199707
         ],
         "yaxis": "y"
        },
        {
         "hovertemplate": "parent=stramenopiles<br>Dimension 1=%{x}<br>Dimension 2=%{y}<br>concept=%{text}<extra></extra>",
         "legendgroup": "stramenopiles",
         "marker": {
          "color": "#FF6692",
          "size": 8,
          "symbol": "circle"
         },
         "mode": "markers+text",
         "name": "stramenopiles",
         "orientation": "v",
         "showlegend": true,
         "text": [
          "oomycota"
         ],
         "textposition": "top center",
         "type": "scatter",
         "x": [
          -40.63441848754883
         ],
         "xaxis": "x",
         "y": [
          2.076610565185547
         ],
         "yaxis": "y"
        },
        {
         "hovertemplate": "parent=hexapoda<br>Dimension 1=%{x}<br>Dimension 2=%{y}<br>concept=%{text}<extra></extra>",
         "legendgroup": "hexapoda",
         "marker": {
          "color": "#B6E880",
          "size": 8,
          "symbol": "circle"
         },
         "mode": "markers+text",
         "name": "hexapoda",
         "orientation": "v",
         "showlegend": true,
         "text": [
          "insecta"
         ],
         "textposition": "top center",
         "type": "scatter",
         "x": [
          -33.79038619995117
         ],
         "xaxis": "x",
         "y": [
          18.530746459960938
         ],
         "yaxis": "y"
        },
        {
         "hovertemplate": "parent=pancrustacea<br>Dimension 1=%{x}<br>Dimension 2=%{y}<br>concept=%{text}<extra></extra>",
         "legendgroup": "pancrustacea",
         "marker": {
          "color": "#FF97FF",
          "size": 8,
          "symbol": "circle"
         },
         "mode": "markers+text",
         "name": "pancrustacea",
         "orientation": "v",
         "showlegend": true,
         "text": [
          "hexapoda",
          "crustacea"
         ],
         "textposition": "top center",
         "type": "scatter",
         "x": [
          -42.24870681762695,
          -42.24901580810547
         ],
         "xaxis": "x",
         "y": [
          22.071561813354492,
          22.070838928222656
         ],
         "yaxis": "y"
        },
        {
         "hovertemplate": "parent=embryophyta<br>Dimension 1=%{x}<br>Dimension 2=%{y}<br>concept=%{text}<extra></extra>",
         "legendgroup": "embryophyta",
         "marker": {
          "color": "#FECB52",
          "size": 8,
          "symbol": "circle"
         },
         "mode": "markers+text",
         "name": "embryophyta",
         "orientation": "v",
         "showlegend": true,
         "text": [
          "tracheophyta"
         ],
         "textposition": "top center",
         "type": "scatter",
         "x": [
          -39.31039047241211
         ],
         "xaxis": "x",
         "y": [
          7.822233200073242
         ],
         "yaxis": "y"
        },
        {
         "hovertemplate": "parent=lophotrochozoa<br>Dimension 1=%{x}<br>Dimension 2=%{y}<br>concept=%{text}<extra></extra>",
         "legendgroup": "lophotrochozoa",
         "marker": {
          "color": "#636efa",
          "size": 8,
          "symbol": "circle"
         },
         "mode": "markers+text",
         "name": "lophotrochozoa",
         "orientation": "v",
         "showlegend": true,
         "text": [
          "mollusca"
         ],
         "textposition": "top center",
         "type": "scatter",
         "x": [
          -42.3410530090332
         ],
         "xaxis": "x",
         "y": [
          18.57470703125
         ],
         "yaxis": "y"
        },
        {
         "hovertemplate": "parent=ecdysozoa<br>Dimension 1=%{x}<br>Dimension 2=%{y}<br>concept=%{text}<extra></extra>",
         "legendgroup": "ecdysozoa",
         "marker": {
          "color": "#EF553B",
          "size": 8,
          "symbol": "circle"
         },
         "mode": "markers+text",
         "name": "ecdysozoa",
         "orientation": "v",
         "showlegend": true,
         "text": [
          "panarthropoda"
         ],
         "textposition": "top center",
         "type": "scatter",
         "x": [
          -42.57431411743164
         ],
         "xaxis": "x",
         "y": [
          17.307466506958008
         ],
         "yaxis": "y"
        },
        {
         "hovertemplate": "parent=deuterostomia<br>Dimension 1=%{x}<br>Dimension 2=%{y}<br>concept=%{text}<extra></extra>",
         "legendgroup": "deuterostomia",
         "marker": {
          "color": "#00cc96",
          "size": 8,
          "symbol": "circle"
         },
         "mode": "markers+text",
         "name": "deuterostomia",
         "orientation": "v",
         "showlegend": true,
         "text": [
          "chordata"
         ],
         "textposition": "top center",
         "type": "scatter",
         "x": [
          -39.528343200683594
         ],
         "xaxis": "x",
         "y": [
          16.532176971435547
         ],
         "yaxis": "y"
        },
        {
         "hovertemplate": "parent=craniata <chordata><br>Dimension 1=%{x}<br>Dimension 2=%{y}<br>concept=%{text}<extra></extra>",
         "legendgroup": "craniata <chordata>",
         "marker": {
          "color": "#ab63fa",
          "size": 8,
          "symbol": "circle"
         },
         "mode": "markers+text",
         "name": "craniata <chordata>",
         "orientation": "v",
         "showlegend": true,
         "text": [
          "vertebrata <metazoa>"
         ],
         "textposition": "top center",
         "type": "scatter",
         "x": [
          -44.170677185058594
         ],
         "xaxis": "x",
         "y": [
          5.934918403625488
         ],
         "yaxis": "y"
        },
        {
         "hovertemplate": "parent=chordata<br>Dimension 1=%{x}<br>Dimension 2=%{y}<br>concept=%{text}<extra></extra>",
         "legendgroup": "chordata",
         "marker": {
          "color": "#FFA15A",
          "size": 8,
          "symbol": "circle"
         },
         "mode": "markers+text",
         "name": "chordata",
         "orientation": "v",
         "showlegend": true,
         "text": [
          "craniata <chordata>"
         ],
         "textposition": "top center",
         "type": "scatter",
         "x": [
          -43.9290771484375
         ],
         "xaxis": "x",
         "y": [
          5.72841739654541
         ],
         "yaxis": "y"
        },
        {
         "hovertemplate": "parent=testudinata<br>Dimension 1=%{x}<br>Dimension 2=%{y}<br>concept=%{text}<extra></extra>",
         "legendgroup": "testudinata",
         "marker": {
          "color": "#19d3f3",
          "size": 8,
          "symbol": "circle"
         },
         "mode": "markers+text",
         "name": "testudinata",
         "orientation": "v",
         "showlegend": true,
         "text": [
          "testudines"
         ],
         "textposition": "top center",
         "type": "scatter",
         "x": [
          -39.9950065612793
         ],
         "xaxis": "x",
         "y": [
          5.996633529663086
         ],
         "yaxis": "y"
        },
        {
         "hovertemplate": "parent=coelurosauria<br>Dimension 1=%{x}<br>Dimension 2=%{y}<br>concept=%{text}<extra></extra>",
         "legendgroup": "coelurosauria",
         "marker": {
          "color": "#FF6692",
          "size": 8,
          "symbol": "circle"
         },
         "mode": "markers+text",
         "name": "coelurosauria",
         "orientation": "v",
         "showlegend": true,
         "text": [
          "aves"
         ],
         "textposition": "top center",
         "type": "scatter",
         "x": [
          -37.481109619140625
         ],
         "xaxis": "x",
         "y": [
          13.905132293701172
         ],
         "yaxis": "y"
        },
        {
         "hovertemplate": "parent=homininae<br>Dimension 1=%{x}<br>Dimension 2=%{y}<br>concept=%{text}<extra></extra>",
         "legendgroup": "homininae",
         "marker": {
          "color": "#B6E880",
          "size": 8,
          "symbol": "circle"
         },
         "mode": "markers+text",
         "name": "homininae",
         "orientation": "v",
         "showlegend": true,
         "text": [
          "homo"
         ],
         "textposition": "top center",
         "type": "scatter",
         "x": [
          -37.72950744628906
         ],
         "xaxis": "x",
         "y": [
          19.214221954345703
         ],
         "yaxis": "y"
        },
        {
         "hovertemplate": "parent=homo<br>Dimension 1=%{x}<br>Dimension 2=%{y}<br>concept=%{text}<extra></extra>",
         "legendgroup": "homo",
         "marker": {
          "color": "#FF97FF",
          "size": 8,
          "symbol": "circle"
         },
         "mode": "markers+text",
         "name": "homo",
         "orientation": "v",
         "showlegend": true,
         "text": [
          "homo sapiens"
         ],
         "textposition": "top center",
         "type": "scatter",
         "x": [
          -36.956905364990234
         ],
         "xaxis": "x",
         "y": [
          4.737616539001465
         ],
         "yaxis": "y"
        },
        {
         "hovertemplate": "parent=geodetic coordinate measurement datum<br>Dimension 1=%{x}<br>Dimension 2=%{y}<br>concept=%{text}<extra></extra>",
         "legendgroup": "geodetic coordinate measurement datum",
         "marker": {
          "color": "#FECB52",
          "size": 8,
          "symbol": "circle"
         },
         "mode": "markers+text",
         "name": "geodetic coordinate measurement datum",
         "orientation": "v",
         "showlegend": true,
         "text": [
          "latitude coordinate measurement datum",
          "longitude coordinate measurement datum"
         ],
         "textposition": "top center",
         "type": "scatter",
         "x": [
          -44.192787170410156,
          -44.192787170410156
         ],
         "xaxis": "x",
         "y": [
          -17.170106887817383,
          -17.170106887817383
         ],
         "yaxis": "y"
        },
        {
         "hovertemplate": "parent=value specification<br>Dimension 1=%{x}<br>Dimension 2=%{y}<br>concept=%{text}<extra></extra>",
         "legendgroup": "value specification",
         "marker": {
          "color": "#636efa",
          "size": 8,
          "symbol": "circle"
         },
         "mode": "markers+text",
         "name": "value specification",
         "orientation": "v",
         "showlegend": true,
         "text": [
          "scalar value specification"
         ],
         "textposition": "top center",
         "type": "scatter",
         "x": [
          -42.354068756103516
         ],
         "xaxis": "x",
         "y": [
          -0.7427745461463928
         ],
         "yaxis": "y"
        },
        {
         "hovertemplate": "parent=physical object quality<br>Dimension 1=%{x}<br>Dimension 2=%{y}<br>concept=%{text}<extra></extra>",
         "legendgroup": "physical object quality",
         "marker": {
          "color": "#EF553B",
          "size": 8,
          "symbol": "circle"
         },
         "mode": "markers+text",
         "name": "physical object quality",
         "orientation": "v",
         "showlegend": true,
         "text": [
          "morphology",
          "physical quality"
         ],
         "textposition": "top center",
         "type": "scatter",
         "x": [
          47.38896179199219,
          48.44156265258789
         ],
         "xaxis": "x",
         "y": [
          -6.758072853088379,
          -8.072396278381348
         ],
         "yaxis": "y"
        },
        {
         "hovertemplate": "parent=quality<br>Dimension 1=%{x}<br>Dimension 2=%{y}<br>concept=%{text}<extra></extra>",
         "legendgroup": "quality",
         "marker": {
          "color": "#00cc96",
          "size": 8,
          "symbol": "circle"
         },
         "mode": "markers+text",
         "name": "quality",
         "orientation": "v",
         "showlegend": true,
         "text": [
          "physical object quality"
         ],
         "textposition": "top center",
         "type": "scatter",
         "x": [
          46.23008346557617
         ],
         "xaxis": "x",
         "y": [
          -6.483047008514404
         ],
         "yaxis": "y"
        },
        {
         "hovertemplate": "parent=optical quality<br>Dimension 1=%{x}<br>Dimension 2=%{y}<br>concept=%{text}<extra></extra>",
         "legendgroup": "optical quality",
         "marker": {
          "color": "#ab63fa",
          "size": 8,
          "symbol": "circle"
         },
         "mode": "markers+text",
         "name": "optical quality",
         "orientation": "v",
         "showlegend": true,
         "text": [
          "opacity"
         ],
         "textposition": "top center",
         "type": "scatter",
         "x": [
          46.719932556152344
         ],
         "xaxis": "x",
         "y": [
          -11.903477668762207
         ],
         "yaxis": "y"
        },
        {
         "hovertemplate": "parent=electromagnetic (em) radiation quality<br>Dimension 1=%{x}<br>Dimension 2=%{y}<br>concept=%{text}<extra></extra>",
         "legendgroup": "electromagnetic (em) radiation quality",
         "marker": {
          "color": "#FFA15A",
          "size": 8,
          "symbol": "circle"
         },
         "mode": "markers+text",
         "name": "electromagnetic (em) radiation quality",
         "orientation": "v",
         "showlegend": true,
         "text": [
          "optical quality"
         ],
         "textposition": "top center",
         "type": "scatter",
         "x": [
          47.32306671142578
         ],
         "xaxis": "x",
         "y": [
          -12.006196022033691
         ],
         "yaxis": "y"
        },
        {
         "hovertemplate": "parent=shape<br>Dimension 1=%{x}<br>Dimension 2=%{y}<br>concept=%{text}<extra></extra>",
         "legendgroup": "shape",
         "marker": {
          "color": "#19d3f3",
          "size": 8,
          "symbol": "circle"
         },
         "mode": "markers+text",
         "name": "shape",
         "orientation": "v",
         "showlegend": true,
         "text": [
          "elongated",
          "sloped"
         ],
         "textposition": "top center",
         "type": "scatter",
         "x": [
          47.299102783203125,
          47.93415832519531
         ],
         "xaxis": "x",
         "y": [
          -2.65647029876709,
          -2.336498975753784
         ],
         "yaxis": "y"
        },
        {
         "hovertemplate": "parent=radiation quality<br>Dimension 1=%{x}<br>Dimension 2=%{y}<br>concept=%{text}<extra></extra>",
         "legendgroup": "radiation quality",
         "marker": {
          "color": "#FF6692",
          "size": 8,
          "symbol": "circle"
         },
         "mode": "markers+text",
         "name": "radiation quality",
         "orientation": "v",
         "showlegend": true,
         "text": [
          "electromagnetic (em) radiation quality"
         ],
         "textposition": "top center",
         "type": "scatter",
         "x": [
          46.92948913574219
         ],
         "xaxis": "x",
         "y": [
          -9.864402770996094
         ],
         "yaxis": "y"
        },
        {
         "hovertemplate": "parent=sloped<br>Dimension 1=%{x}<br>Dimension 2=%{y}<br>concept=%{text}<extra></extra>",
         "legendgroup": "sloped",
         "marker": {
          "color": "#B6E880",
          "size": 8,
          "symbol": "circle"
         },
         "mode": "markers+text",
         "name": "sloped",
         "orientation": "v",
         "showlegend": true,
         "text": [
          "sloped downward"
         ],
         "textposition": "top center",
         "type": "scatter",
         "x": [
          -34.08937072753906
         ],
         "xaxis": "x",
         "y": [
          3.3461689949035645
         ],
         "yaxis": "y"
        },
        {
         "hovertemplate": "parent=nutrient<br>Dimension 1=%{x}<br>Dimension 2=%{y}<br>concept=%{text}<extra></extra>",
         "legendgroup": "nutrient",
         "marker": {
          "color": "#FF97FF",
          "size": 8,
          "symbol": "circle"
         },
         "mode": "markers+text",
         "name": "nutrient",
         "orientation": "v",
         "showlegend": true,
         "text": [
          "micronutrient",
          "mineral nutrient",
          "nutrient salt",
          "secondary nutrient",
          "plant nutrient",
          "animal nutrient",
          "primary nutrient",
          "trace element"
         ],
         "textposition": "top center",
         "type": "scatter",
         "x": [
          12.173529624938965,
          13.806600570678711,
          12.07070541381836,
          14.562588691711426,
          14.729640007019043,
          14.285503387451172,
          13.748309135437012,
          12.863770484924316
         ],
         "xaxis": "x",
         "y": [
          -36.3097038269043,
          -37.45209884643555,
          -38.081966400146484,
          -35.976627349853516,
          -37.08916473388672,
          -38.158668518066406,
          -36.123348236083984,
          -37.221099853515625
         ],
         "yaxis": "y"
        },
        {
         "hovertemplate": "parent=change in individual<br>Dimension 1=%{x}<br>Dimension 2=%{y}<br>concept=%{text}<extra></extra>",
         "legendgroup": "change in individual",
         "marker": {
          "color": "#FECB52",
          "size": 8,
          "symbol": "circle"
         },
         "mode": "markers+text",
         "name": "change in individual",
         "orientation": "v",
         "showlegend": true,
         "text": [
          "genetic change",
          "behavioural change",
          "phenological change",
          "morphological change",
          "physiological change"
         ],
         "textposition": "top center",
         "type": "scatter",
         "x": [
          38.42204284667969,
          37.72921371459961,
          36.75932693481445,
          37.123870849609375,
          37.36314010620117
         ],
         "xaxis": "x",
         "y": [
          19.950355529785156,
          19.15815544128418,
          19.049623489379883,
          19.92433738708496,
          18.402809143066406
         ],
         "yaxis": "y"
        },
        {
         "hovertemplate": "parent=change<br>Dimension 1=%{x}<br>Dimension 2=%{y}<br>concept=%{text}<extra></extra>",
         "legendgroup": "change",
         "marker": {
          "color": "#636efa",
          "size": 8,
          "symbol": "circle"
         },
         "mode": "markers+text",
         "name": "change",
         "orientation": "v",
         "showlegend": true,
         "text": [
          "change in individual",
          "change in environment"
         ],
         "textposition": "top center",
         "type": "scatter",
         "x": [
          -21.455244064331055,
          -21.337480545043945
         ],
         "xaxis": "x",
         "y": [
          8.651196479797363,
          8.457096099853516
         ],
         "yaxis": "y"
        },
        {
         "hovertemplate": "parent=status<br>Dimension 1=%{x}<br>Dimension 2=%{y}<br>concept=%{text}<extra></extra>",
         "legendgroup": "status",
         "marker": {
          "color": "#EF553B",
          "size": 8,
          "symbol": "circle"
         },
         "mode": "markers+text",
         "name": "status",
         "orientation": "v",
         "showlegend": true,
         "text": [
          "successful",
          "presence",
          "absence",
          "in progress"
         ],
         "textposition": "top center",
         "type": "scatter",
         "x": [
          -36.27315139770508,
          45.027652740478516,
          44.99581527709961,
          -36.273597717285156
         ],
         "xaxis": "x",
         "y": [
          -3.9829800128936768,
          -33.32563400268555,
          -33.354251861572266,
          -3.982675075531006
         ],
         "yaxis": "y"
        },
        {
         "hovertemplate": "parent=disturbance<br>Dimension 1=%{x}<br>Dimension 2=%{y}<br>concept=%{text}<extra></extra>",
         "legendgroup": "disturbance",
         "marker": {
          "color": "#00cc96",
          "size": 8,
          "symbol": "circle"
         },
         "mode": "markers+text",
         "name": "disturbance",
         "orientation": "v",
         "showlegend": true,
         "text": [
          "natural disturbance",
          "anthropogenic disturbance"
         ],
         "textposition": "top center",
         "type": "scatter",
         "x": [
          18.90256690979004,
          19.563928604125977
         ],
         "xaxis": "x",
         "y": [
          18.524677276611328,
          18.183380126953125
         ],
         "yaxis": "y"
        },
        {
         "hovertemplate": "parent=phenotype<br>Dimension 1=%{x}<br>Dimension 2=%{y}<br>concept=%{text}<extra></extra>",
         "legendgroup": "phenotype",
         "marker": {
          "color": "#ab63fa",
          "size": 8,
          "symbol": "circle"
         },
         "mode": "markers+text",
         "name": "phenotype",
         "orientation": "v",
         "showlegend": true,
         "text": [
          "morphological phenotype",
          "morphological phenotype"
         ],
         "textposition": "top center",
         "type": "scatter",
         "x": [
          34.772972106933594,
          34.86635208129883
         ],
         "xaxis": "x",
         "y": [
          14.29548454284668,
          14.12063980102539
         ],
         "yaxis": "y"
        },
        {
         "hovertemplate": "parent=parasite<br>Dimension 1=%{x}<br>Dimension 2=%{y}<br>concept=%{text}<extra></extra>",
         "legendgroup": "parasite",
         "marker": {
          "color": "#FFA15A",
          "size": 8,
          "symbol": "circle"
         },
         "mode": "markers+text",
         "name": "parasite",
         "orientation": "v",
         "showlegend": true,
         "text": [
          "ectoparasite"
         ],
         "textposition": "top center",
         "type": "scatter",
         "x": [
          32.819541931152344
         ],
         "xaxis": "x",
         "y": [
          26.19463348388672
         ],
         "yaxis": "y"
        },
        {
         "hovertemplate": "parent=strength<br>Dimension 1=%{x}<br>Dimension 2=%{y}<br>concept=%{text}<extra></extra>",
         "legendgroup": "strength",
         "marker": {
          "color": "#19d3f3",
          "size": 8,
          "symbol": "circle"
         },
         "mode": "markers+text",
         "name": "strength",
         "orientation": "v",
         "showlegend": true,
         "text": [
          "competitive strength"
         ],
         "textposition": "top center",
         "type": "scatter",
         "x": [
          32.42894744873047
         ],
         "xaxis": "x",
         "y": [
          21.781635284423828
         ],
         "yaxis": "y"
        }
       ],
       "layout": {
        "legend": {
         "title": {
          "text": "parent"
         },
         "tracegroupgap": 0
        },
        "template": {
         "data": {
          "bar": [
           {
            "error_x": {
             "color": "#2a3f5f"
            },
            "error_y": {
             "color": "#2a3f5f"
            },
            "marker": {
             "line": {
              "color": "#E5ECF6",
              "width": 0.5
             },
             "pattern": {
              "fillmode": "overlay",
              "size": 10,
              "solidity": 0.2
             }
            },
            "type": "bar"
           }
          ],
          "barpolar": [
           {
            "marker": {
             "line": {
              "color": "#E5ECF6",
              "width": 0.5
             },
             "pattern": {
              "fillmode": "overlay",
              "size": 10,
              "solidity": 0.2
             }
            },
            "type": "barpolar"
           }
          ],
          "carpet": [
           {
            "aaxis": {
             "endlinecolor": "#2a3f5f",
             "gridcolor": "white",
             "linecolor": "white",
             "minorgridcolor": "white",
             "startlinecolor": "#2a3f5f"
            },
            "baxis": {
             "endlinecolor": "#2a3f5f",
             "gridcolor": "white",
             "linecolor": "white",
             "minorgridcolor": "white",
             "startlinecolor": "#2a3f5f"
            },
            "type": "carpet"
           }
          ],
          "choropleth": [
           {
            "colorbar": {
             "outlinewidth": 0,
             "ticks": ""
            },
            "type": "choropleth"
           }
          ],
          "contour": [
           {
            "colorbar": {
             "outlinewidth": 0,
             "ticks": ""
            },
            "colorscale": [
             [
              0,
              "#0d0887"
             ],
             [
              0.1111111111111111,
              "#46039f"
             ],
             [
              0.2222222222222222,
              "#7201a8"
             ],
             [
              0.3333333333333333,
              "#9c179e"
             ],
             [
              0.4444444444444444,
              "#bd3786"
             ],
             [
              0.5555555555555556,
              "#d8576b"
             ],
             [
              0.6666666666666666,
              "#ed7953"
             ],
             [
              0.7777777777777778,
              "#fb9f3a"
             ],
             [
              0.8888888888888888,
              "#fdca26"
             ],
             [
              1,
              "#f0f921"
             ]
            ],
            "type": "contour"
           }
          ],
          "contourcarpet": [
           {
            "colorbar": {
             "outlinewidth": 0,
             "ticks": ""
            },
            "type": "contourcarpet"
           }
          ],
          "heatmap": [
           {
            "colorbar": {
             "outlinewidth": 0,
             "ticks": ""
            },
            "colorscale": [
             [
              0,
              "#0d0887"
             ],
             [
              0.1111111111111111,
              "#46039f"
             ],
             [
              0.2222222222222222,
              "#7201a8"
             ],
             [
              0.3333333333333333,
              "#9c179e"
             ],
             [
              0.4444444444444444,
              "#bd3786"
             ],
             [
              0.5555555555555556,
              "#d8576b"
             ],
             [
              0.6666666666666666,
              "#ed7953"
             ],
             [
              0.7777777777777778,
              "#fb9f3a"
             ],
             [
              0.8888888888888888,
              "#fdca26"
             ],
             [
              1,
              "#f0f921"
             ]
            ],
            "type": "heatmap"
           }
          ],
          "heatmapgl": [
           {
            "colorbar": {
             "outlinewidth": 0,
             "ticks": ""
            },
            "colorscale": [
             [
              0,
              "#0d0887"
             ],
             [
              0.1111111111111111,
              "#46039f"
             ],
             [
              0.2222222222222222,
              "#7201a8"
             ],
             [
              0.3333333333333333,
              "#9c179e"
             ],
             [
              0.4444444444444444,
              "#bd3786"
             ],
             [
              0.5555555555555556,
              "#d8576b"
             ],
             [
              0.6666666666666666,
              "#ed7953"
             ],
             [
              0.7777777777777778,
              "#fb9f3a"
             ],
             [
              0.8888888888888888,
              "#fdca26"
             ],
             [
              1,
              "#f0f921"
             ]
            ],
            "type": "heatmapgl"
           }
          ],
          "histogram": [
           {
            "marker": {
             "pattern": {
              "fillmode": "overlay",
              "size": 10,
              "solidity": 0.2
             }
            },
            "type": "histogram"
           }
          ],
          "histogram2d": [
           {
            "colorbar": {
             "outlinewidth": 0,
             "ticks": ""
            },
            "colorscale": [
             [
              0,
              "#0d0887"
             ],
             [
              0.1111111111111111,
              "#46039f"
             ],
             [
              0.2222222222222222,
              "#7201a8"
             ],
             [
              0.3333333333333333,
              "#9c179e"
             ],
             [
              0.4444444444444444,
              "#bd3786"
             ],
             [
              0.5555555555555556,
              "#d8576b"
             ],
             [
              0.6666666666666666,
              "#ed7953"
             ],
             [
              0.7777777777777778,
              "#fb9f3a"
             ],
             [
              0.8888888888888888,
              "#fdca26"
             ],
             [
              1,
              "#f0f921"
             ]
            ],
            "type": "histogram2d"
           }
          ],
          "histogram2dcontour": [
           {
            "colorbar": {
             "outlinewidth": 0,
             "ticks": ""
            },
            "colorscale": [
             [
              0,
              "#0d0887"
             ],
             [
              0.1111111111111111,
              "#46039f"
             ],
             [
              0.2222222222222222,
              "#7201a8"
             ],
             [
              0.3333333333333333,
              "#9c179e"
             ],
             [
              0.4444444444444444,
              "#bd3786"
             ],
             [
              0.5555555555555556,
              "#d8576b"
             ],
             [
              0.6666666666666666,
              "#ed7953"
             ],
             [
              0.7777777777777778,
              "#fb9f3a"
             ],
             [
              0.8888888888888888,
              "#fdca26"
             ],
             [
              1,
              "#f0f921"
             ]
            ],
            "type": "histogram2dcontour"
           }
          ],
          "mesh3d": [
           {
            "colorbar": {
             "outlinewidth": 0,
             "ticks": ""
            },
            "type": "mesh3d"
           }
          ],
          "parcoords": [
           {
            "line": {
             "colorbar": {
              "outlinewidth": 0,
              "ticks": ""
             }
            },
            "type": "parcoords"
           }
          ],
          "pie": [
           {
            "automargin": true,
            "type": "pie"
           }
          ],
          "scatter": [
           {
            "fillpattern": {
             "fillmode": "overlay",
             "size": 10,
             "solidity": 0.2
            },
            "type": "scatter"
           }
          ],
          "scatter3d": [
           {
            "line": {
             "colorbar": {
              "outlinewidth": 0,
              "ticks": ""
             }
            },
            "marker": {
             "colorbar": {
              "outlinewidth": 0,
              "ticks": ""
             }
            },
            "type": "scatter3d"
           }
          ],
          "scattercarpet": [
           {
            "marker": {
             "colorbar": {
              "outlinewidth": 0,
              "ticks": ""
             }
            },
            "type": "scattercarpet"
           }
          ],
          "scattergeo": [
           {
            "marker": {
             "colorbar": {
              "outlinewidth": 0,
              "ticks": ""
             }
            },
            "type": "scattergeo"
           }
          ],
          "scattergl": [
           {
            "marker": {
             "colorbar": {
              "outlinewidth": 0,
              "ticks": ""
             }
            },
            "type": "scattergl"
           }
          ],
          "scattermapbox": [
           {
            "marker": {
             "colorbar": {
              "outlinewidth": 0,
              "ticks": ""
             }
            },
            "type": "scattermapbox"
           }
          ],
          "scatterpolar": [
           {
            "marker": {
             "colorbar": {
              "outlinewidth": 0,
              "ticks": ""
             }
            },
            "type": "scatterpolar"
           }
          ],
          "scatterpolargl": [
           {
            "marker": {
             "colorbar": {
              "outlinewidth": 0,
              "ticks": ""
             }
            },
            "type": "scatterpolargl"
           }
          ],
          "scatterternary": [
           {
            "marker": {
             "colorbar": {
              "outlinewidth": 0,
              "ticks": ""
             }
            },
            "type": "scatterternary"
           }
          ],
          "surface": [
           {
            "colorbar": {
             "outlinewidth": 0,
             "ticks": ""
            },
            "colorscale": [
             [
              0,
              "#0d0887"
             ],
             [
              0.1111111111111111,
              "#46039f"
             ],
             [
              0.2222222222222222,
              "#7201a8"
             ],
             [
              0.3333333333333333,
              "#9c179e"
             ],
             [
              0.4444444444444444,
              "#bd3786"
             ],
             [
              0.5555555555555556,
              "#d8576b"
             ],
             [
              0.6666666666666666,
              "#ed7953"
             ],
             [
              0.7777777777777778,
              "#fb9f3a"
             ],
             [
              0.8888888888888888,
              "#fdca26"
             ],
             [
              1,
              "#f0f921"
             ]
            ],
            "type": "surface"
           }
          ],
          "table": [
           {
            "cells": {
             "fill": {
              "color": "#EBF0F8"
             },
             "line": {
              "color": "white"
             }
            },
            "header": {
             "fill": {
              "color": "#C8D4E3"
             },
             "line": {
              "color": "white"
             }
            },
            "type": "table"
           }
          ]
         },
         "layout": {
          "annotationdefaults": {
           "arrowcolor": "#2a3f5f",
           "arrowhead": 0,
           "arrowwidth": 1
          },
          "autotypenumbers": "strict",
          "coloraxis": {
           "colorbar": {
            "outlinewidth": 0,
            "ticks": ""
           }
          },
          "colorscale": {
           "diverging": [
            [
             0,
             "#8e0152"
            ],
            [
             0.1,
             "#c51b7d"
            ],
            [
             0.2,
             "#de77ae"
            ],
            [
             0.3,
             "#f1b6da"
            ],
            [
             0.4,
             "#fde0ef"
            ],
            [
             0.5,
             "#f7f7f7"
            ],
            [
             0.6,
             "#e6f5d0"
            ],
            [
             0.7,
             "#b8e186"
            ],
            [
             0.8,
             "#7fbc41"
            ],
            [
             0.9,
             "#4d9221"
            ],
            [
             1,
             "#276419"
            ]
           ],
           "sequential": [
            [
             0,
             "#0d0887"
            ],
            [
             0.1111111111111111,
             "#46039f"
            ],
            [
             0.2222222222222222,
             "#7201a8"
            ],
            [
             0.3333333333333333,
             "#9c179e"
            ],
            [
             0.4444444444444444,
             "#bd3786"
            ],
            [
             0.5555555555555556,
             "#d8576b"
            ],
            [
             0.6666666666666666,
             "#ed7953"
            ],
            [
             0.7777777777777778,
             "#fb9f3a"
            ],
            [
             0.8888888888888888,
             "#fdca26"
            ],
            [
             1,
             "#f0f921"
            ]
           ],
           "sequentialminus": [
            [
             0,
             "#0d0887"
            ],
            [
             0.1111111111111111,
             "#46039f"
            ],
            [
             0.2222222222222222,
             "#7201a8"
            ],
            [
             0.3333333333333333,
             "#9c179e"
            ],
            [
             0.4444444444444444,
             "#bd3786"
            ],
            [
             0.5555555555555556,
             "#d8576b"
            ],
            [
             0.6666666666666666,
             "#ed7953"
            ],
            [
             0.7777777777777778,
             "#fb9f3a"
            ],
            [
             0.8888888888888888,
             "#fdca26"
            ],
            [
             1,
             "#f0f921"
            ]
           ]
          },
          "colorway": [
           "#636efa",
           "#EF553B",
           "#00cc96",
           "#ab63fa",
           "#FFA15A",
           "#19d3f3",
           "#FF6692",
           "#B6E880",
           "#FF97FF",
           "#FECB52"
          ],
          "font": {
           "color": "#2a3f5f"
          },
          "geo": {
           "bgcolor": "white",
           "lakecolor": "white",
           "landcolor": "#E5ECF6",
           "showlakes": true,
           "showland": true,
           "subunitcolor": "white"
          },
          "hoverlabel": {
           "align": "left"
          },
          "hovermode": "closest",
          "mapbox": {
           "style": "light"
          },
          "paper_bgcolor": "white",
          "plot_bgcolor": "#E5ECF6",
          "polar": {
           "angularaxis": {
            "gridcolor": "white",
            "linecolor": "white",
            "ticks": ""
           },
           "bgcolor": "#E5ECF6",
           "radialaxis": {
            "gridcolor": "white",
            "linecolor": "white",
            "ticks": ""
           }
          },
          "scene": {
           "xaxis": {
            "backgroundcolor": "#E5ECF6",
            "gridcolor": "white",
            "gridwidth": 2,
            "linecolor": "white",
            "showbackground": true,
            "ticks": "",
            "zerolinecolor": "white"
           },
           "yaxis": {
            "backgroundcolor": "#E5ECF6",
            "gridcolor": "white",
            "gridwidth": 2,
            "linecolor": "white",
            "showbackground": true,
            "ticks": "",
            "zerolinecolor": "white"
           },
           "zaxis": {
            "backgroundcolor": "#E5ECF6",
            "gridcolor": "white",
            "gridwidth": 2,
            "linecolor": "white",
            "showbackground": true,
            "ticks": "",
            "zerolinecolor": "white"
           }
          },
          "shapedefaults": {
           "line": {
            "color": "#2a3f5f"
           }
          },
          "ternary": {
           "aaxis": {
            "gridcolor": "white",
            "linecolor": "white",
            "ticks": ""
           },
           "baxis": {
            "gridcolor": "white",
            "linecolor": "white",
            "ticks": ""
           },
           "bgcolor": "#E5ECF6",
           "caxis": {
            "gridcolor": "white",
            "linecolor": "white",
            "ticks": ""
           }
          },
          "title": {
           "x": 0.05
          },
          "xaxis": {
           "automargin": true,
           "gridcolor": "white",
           "linecolor": "white",
           "ticks": "",
           "title": {
            "standoff": 15
           },
           "zerolinecolor": "white",
           "zerolinewidth": 2
          },
          "yaxis": {
           "automargin": true,
           "gridcolor": "white",
           "linecolor": "white",
           "ticks": "",
           "title": {
            "standoff": 15
           },
           "zerolinecolor": "white",
           "zerolinewidth": 2
          }
         }
        },
        "title": {
         "text": "Refined Concept Embeddings Visualization"
        },
        "xaxis": {
         "anchor": "y",
         "domain": [
          0,
          1
         ],
         "title": {
          "text": "Dimension 1"
         }
        },
        "yaxis": {
         "anchor": "x",
         "domain": [
          0,
          1
         ],
         "title": {
          "text": "Dimension 2"
         }
        }
       }
      }
     },
     "metadata": {},
     "output_type": "display_data"
    }
   ],
   "source": [
    "import pandas as pd\n",
    "import numpy as np\n",
    "from sentence_transformers import SentenceTransformer\n",
    "import plotly.express as px\n",
    "\n",
    "# Step 1: Load and Process the Data\n",
    "file_path = \"INBIOV2 direct parent.csv\"\n",
    "data = pd.read_csv(file_path)\n",
    "\n",
    "# Fill missing parent definitions with parent comments\n",
    "data['parentDefinition'] = data['parentDefinition'].fillna(data['parentComment'])\n",
    "\n",
    "# Combine concept definitions with parent information\n",
    "def combine_definition(row):\n",
    "    concept_definition = row['classDefinition'] if pd.notna(row['classDefinition']) else row['classComment']\n",
    "    parent_info = f\" Parent concept: {row['parentLabel']}. Parent definition: {row['parentDefinition']}.\"\n",
    "    return f\"{concept_definition}{parent_info}\"\n",
    "\n",
    "data['combinedDefinition'] = data.apply(combine_definition, axis=1)\n",
    "\n",
    "# Step 2: Generate Refined Embeddings\n",
    "model = SentenceTransformer('sentence-transformers/all-MiniLM-L6-v2')\n",
    "\n",
    "embeddings = []\n",
    "concepts = []\n",
    "for _, row in data.iterrows():\n",
    "    concept = row['classLabel']\n",
    "    combined_definition = row['combinedDefinition']\n",
    "    embedding = model.encode(combined_definition)\n",
    "    embeddings.append(embedding)\n",
    "    concepts.append(concept)\n",
    "\n",
    "# Convert embeddings to a NumPy array\n",
    "embedding_matrix = np.array(embeddings)\n",
    "\n",
    "# Step 3: Reduce Dimensions with t-SNE\n",
    "from sklearn.manifold import TSNE\n",
    "\n",
    "tsne = TSNE(n_components=2, random_state=42)\n",
    "reduced_embeddings = tsne.fit_transform(embedding_matrix)\n",
    "\n",
    "# Step 4: Prepare Data for Plotly\n",
    "embedding_df = pd.DataFrame(reduced_embeddings, columns=[\"x\", \"y\"])\n",
    "embedding_df[\"concept\"] = concepts\n",
    "embedding_df[\"parent\"] = data[\"parentLabel\"]\n",
    "\n",
    "# Step 5: Create an Interactive Plotly Visualization\n",
    "fig = px.scatter(\n",
    "    embedding_df,\n",
    "    x=\"x\",\n",
    "    y=\"y\",\n",
    "    text=\"concept\",\n",
    "    color=\"parent\",  # Color points by parent concept\n",
    "    title=\"Refined Concept Embeddings Visualization\",\n",
    "    labels={\"x\": \"Dimension 1\", \"y\": \"Dimension 2\", \"color\": \"Parent Concept\"}\n",
    ")\n",
    "\n",
    "# Enhance text visibility\n",
    "fig.update_traces(textposition=\"top center\", marker=dict(size=8))\n",
    "\n",
    "# Show the interactive plot\n",
    "fig.show()\n"
   ]
  },
  {
   "cell_type": "code",
   "execution_count": 14,
   "metadata": {},
   "outputs": [
    {
     "name": "stdout",
     "output_type": "stream",
     "text": [
      "Top 5 concepts with highest similarity:\n",
      "generalist herbivore: 0.9750\n",
      "invasion pattern: 0.9717\n",
      "mineral material: 0.9714\n",
      "species number: 0.9696\n",
      "invasion ecology: 0.9682\n",
      "\n",
      "Top 5 concepts with lowest similarity:\n",
      "body of water: 0.4232\n",
      "water body: 0.4232\n",
      "resistance: 0.3266\n",
      "width: 0.2874\n",
      "perimeter: 0.2181\n"
     ]
    }
   ],
   "source": [
    "import pickle\n",
    "from sklearn.metrics.pairwise import cosine_similarity\n",
    "\n",
    "# Load the embeddings\n",
    "with open(\"ontology_embeddings.pkl\", \"rb\") as f:\n",
    "    embeddings_concept_only = pickle.load(f)\n",
    "\n",
    "with open(\"refined_ontology_embeddings.pkl\", \"rb\") as f:\n",
    "    embeddings_with_parent = pickle.load(f)\n",
    "\n",
    "# Compute cosine similarity for each concept\n",
    "cosine_similarities = {}\n",
    "for concept in embeddings_concept_only.keys():\n",
    "    vec1 = embeddings_concept_only[concept]\n",
    "    vec2 = embeddings_with_parent[concept]\n",
    "    similarity = cosine_similarity([vec1], [vec2])[0][0]\n",
    "    cosine_similarities[concept] = similarity\n",
    "\n",
    "# Sort concepts by similarity\n",
    "sorted_similarities = sorted(cosine_similarities.items(), key=lambda x: x[1], reverse=True)\n",
    "\n",
    "# Display top concepts\n",
    "print(\"Top 5 concepts with highest similarity:\")\n",
    "for concept, similarity in sorted_similarities[:5]:\n",
    "    print(f\"{concept}: {similarity:.4f}\")\n",
    "\n",
    "print(\"\\nTop 5 concepts with lowest similarity:\")\n",
    "for concept, similarity in sorted_similarities[-5:]:\n",
    "    print(f\"{concept}: {similarity:.4f}\")\n"
   ]
  },
  {
   "cell_type": "code",
   "execution_count": 17,
   "metadata": {},
   "outputs": [
    {
     "ename": "SyntaxError",
     "evalue": "unmatched ')' (2126346592.py, line 31)",
     "output_type": "error",
     "traceback": [
      "\u001b[1;36m  Cell \u001b[1;32mIn[17], line 31\u001b[1;36m\u001b[0m\n\u001b[1;33m    )\u001b[0m\n\u001b[1;37m    ^\u001b[0m\n\u001b[1;31mSyntaxError\u001b[0m\u001b[1;31m:\u001b[0m unmatched ')'\n"
     ]
    }
   ],
   "source": [
    "import matplotlib.pyplot as plt\n",
    "import seaborn as sns\n",
    "\n",
    "# Step 1: Extract concept names and similarity scores\n",
    "concepts, similarities = zip(*cosine_similarities.items())\n",
    "\n",
    "# Step 2: Plot Histogram of Similarity Scores\n",
    "plt.figure(figsize=(10, 6))\n",
    "sns.histplot(similarities, bins=30, kde=True, color='blue')\n",
    "plt.title(\"Distribution of Cosine Similarity Scores\", fontsize=16)\n",
    "plt.xlabel(\"Cosine Similarity\", fontsize=12)\n",
    "plt.ylabel(\"Frequency\", fontsize=12)\n",
    "plt.grid(True)\n",
    "plt.show()\n",
    "\n",
    "# Step 3: Scatter Plot of Concepts vs Similarity Scores\n",
    "plt.figure(figsize=(12, 6))\n",
    "plt.scatter(range(len(similarities)), similarities, c=\"blue\", alpha=0.6)\n",
    "plt.title(\"Cosine Similarity Scores for Concepts\", fontsize=16)\n",
    "plt.xlabel(\"Concept Index\", fontsize=12)\n",
    "plt.ylabel(\"Cosine Similarity\", fontsize=12)\n",
    "plt.grid(True)\n",
    "\n",
    "# Highlight top 5 highest and lowest similarity concepts\n",
    "for i in range(5):\n",
    "    # Highest similarities\n",
    "    plt.text(\n",
    "        sorted_similarities[i][0],\n",
    "        sorted_similarities[i][1],\n",
    "    )\n",
    ")\n"
   ]
  },
  {
   "cell_type": "code",
   "execution_count": 19,
   "metadata": {},
   "outputs": [
    {
     "data": {
      "image/png": "[encoded data removed]",
      "text/plain": [
       "<Figure size 1000x600 with 1 Axes>"
      ]
     },
     "metadata": {},
     "output_type": "display_data"
    },
    {
     "data": {
      "image/png": "[encoded data removed]",
      "text/plain": [
       "<Figure size 1200x600 with 1 Axes>"
      ]
     },
     "metadata": {},
     "output_type": "display_data"
    }
   ],
   "source": [
    "import matplotlib.pyplot as plt\n",
    "import seaborn as sns\n",
    "\n",
    "# Step 1: Extract concept names and similarity scores\n",
    "concepts, similarities = zip(*cosine_similarities.items())\n",
    "\n",
    "# Step 2: Plot Histogram of Similarity Scores\n",
    "plt.figure(figsize=(10, 6))\n",
    "sns.histplot(similarities, bins=30, kde=True, color='blue')\n",
    "plt.title(\"Distribution of Cosine Similarity Scores\", fontsize=16)\n",
    "plt.xlabel(\"Cosine Similarity\", fontsize=12)\n",
    "plt.ylabel(\"Frequency\", fontsize=12)\n",
    "plt.grid(True)\n",
    "plt.show()\n",
    "\n",
    "# Step 3: Scatter Plot of Concepts vs Similarity Scores\n",
    "plt.figure(figsize=(12, 6))\n",
    "plt.scatter(range(len(similarities)), similarities, c=\"blue\", alpha=0.6)\n",
    "plt.title(\"Cosine Similarity Scores for Concepts\", fontsize=16)\n",
    "plt.xlabel(\"Concept Index\", fontsize=12)\n",
    "plt.ylabel(\"Cosine Similarity\", fontsize=12)\n",
    "plt.grid(True)\n",
    "\n",
    "# Highlight top 5 highest and lowest similarity concepts\n",
    "for i in range(5):\n",
    "    # Highest similarities\n",
    "    plt.text(i, sorted_similarities[i][1], sorted_similarities[i][0], fontsize=10, color=\"green\")\n",
    "    # Lowest similarities\n",
    "    plt.text(len(sorted_similarities) - 1 - i, sorted_similarities[-1 - i][1], sorted_similarities[-1 - i][0], fontsize=10, color=\"red\")\n",
    "\n",
    "plt.show()\n"
   ]
  },
  {
   "cell_type": "code",
   "execution_count": null,
   "metadata": {},
   "outputs": [],
   "source": []
  }
 ],
 "metadata": {
  "kernelspec": {
   "display_name": ".venv",
   "language": "python",
   "name": "python3"
  },
  "language_info": {
   "codemirror_mode": {
    "name": "ipython",
    "version": 3
   },
   "file_extension": ".py",
   "mimetype": "text/x-python",
   "name": "python",
   "nbconvert_exporter": "python",
   "pygments_lexer": "ipython3",
   "version": "3.12.6"
  }
 },
 "nbformat": 4,
 "nbformat_minor": 2
}
